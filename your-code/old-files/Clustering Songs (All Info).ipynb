{
 "cells": [
  {
   "cell_type": "markdown",
   "metadata": {},
   "source": [
    "## Clustering"
   ]
  },
  {
   "cell_type": "markdown",
   "metadata": {},
   "source": [
    "### Importing Libraries and Preparing Dataset"
   ]
  },
  {
   "cell_type": "code",
   "execution_count": 1,
   "metadata": {},
   "outputs": [],
   "source": [
    "import pandas as pd\n",
    "import numpy as np\n",
    "import os"
   ]
  },
  {
   "cell_type": "code",
   "execution_count": 2,
   "metadata": {},
   "outputs": [],
   "source": [
    "os.chdir(\"C:\\\\Users\\\\GiantsV3\\\\Documents\\\\Ironhack\\\\Week3\\\\Project-Week-3-Song-Recommender\")"
   ]
  },
  {
   "cell_type": "code",
   "execution_count": 3,
   "metadata": {
    "scrolled": true
   },
   "outputs": [],
   "source": [
    "playlist = pd.read_csv(\"data/complete_playlist.csv\", index_col=0)\n",
    "playlist.drop(labels=[\"Song\", \"Artist\"], axis=1, inplace=True)"
   ]
  },
  {
   "cell_type": "code",
   "execution_count": 4,
   "metadata": {},
   "outputs": [
    {
     "data": {
      "text/html": [
       "<div>\n",
       "<style scoped>\n",
       "    .dataframe tbody tr th:only-of-type {\n",
       "        vertical-align: middle;\n",
       "    }\n",
       "\n",
       "    .dataframe tbody tr th {\n",
       "        vertical-align: top;\n",
       "    }\n",
       "\n",
       "    .dataframe thead th {\n",
       "        text-align: right;\n",
       "    }\n",
       "</style>\n",
       "<table border=\"1\" class=\"dataframe\">\n",
       "  <thead>\n",
       "    <tr style=\"text-align: right;\">\n",
       "      <th></th>\n",
       "      <th>Danceability</th>\n",
       "      <th>Energy</th>\n",
       "      <th>Mode</th>\n",
       "      <th>Acousticness</th>\n",
       "      <th>Instrumentalness</th>\n",
       "      <th>Liveness</th>\n",
       "      <th>Loudness</th>\n",
       "      <th>Speechiness</th>\n",
       "      <th>Valence</th>\n",
       "      <th>Tempo</th>\n",
       "    </tr>\n",
       "  </thead>\n",
       "  <tbody>\n",
       "    <tr>\n",
       "      <th>0</th>\n",
       "      <td>0.483</td>\n",
       "      <td>0.721</td>\n",
       "      <td>1</td>\n",
       "      <td>0.729000</td>\n",
       "      <td>0.000000</td>\n",
       "      <td>0.1890</td>\n",
       "      <td>-6.836</td>\n",
       "      <td>0.0320</td>\n",
       "      <td>0.562</td>\n",
       "      <td>95.261</td>\n",
       "    </tr>\n",
       "    <tr>\n",
       "      <th>1</th>\n",
       "      <td>0.485</td>\n",
       "      <td>0.863</td>\n",
       "      <td>1</td>\n",
       "      <td>0.000012</td>\n",
       "      <td>0.016200</td>\n",
       "      <td>0.1380</td>\n",
       "      <td>-9.027</td>\n",
       "      <td>0.0495</td>\n",
       "      <td>0.767</td>\n",
       "      <td>116.835</td>\n",
       "    </tr>\n",
       "    <tr>\n",
       "      <th>2</th>\n",
       "      <td>0.364</td>\n",
       "      <td>0.457</td>\n",
       "      <td>0</td>\n",
       "      <td>0.290000</td>\n",
       "      <td>0.000106</td>\n",
       "      <td>0.9220</td>\n",
       "      <td>-14.162</td>\n",
       "      <td>0.0675</td>\n",
       "      <td>0.175</td>\n",
       "      <td>163.219</td>\n",
       "    </tr>\n",
       "    <tr>\n",
       "      <th>3</th>\n",
       "      <td>0.398</td>\n",
       "      <td>0.413</td>\n",
       "      <td>1</td>\n",
       "      <td>0.082200</td>\n",
       "      <td>0.000025</td>\n",
       "      <td>0.0891</td>\n",
       "      <td>-10.934</td>\n",
       "      <td>0.0388</td>\n",
       "      <td>0.331</td>\n",
       "      <td>133.574</td>\n",
       "    </tr>\n",
       "    <tr>\n",
       "      <th>4</th>\n",
       "      <td>0.725</td>\n",
       "      <td>0.853</td>\n",
       "      <td>1</td>\n",
       "      <td>0.034800</td>\n",
       "      <td>0.127000</td>\n",
       "      <td>0.1960</td>\n",
       "      <td>-7.842</td>\n",
       "      <td>0.0353</td>\n",
       "      <td>0.904</td>\n",
       "      <td>136.282</td>\n",
       "    </tr>\n",
       "  </tbody>\n",
       "</table>\n",
       "</div>"
      ],
      "text/plain": [
       "   Danceability  Energy  Mode  Acousticness  Instrumentalness  Liveness  \\\n",
       "0         0.483   0.721     1      0.729000          0.000000    0.1890   \n",
       "1         0.485   0.863     1      0.000012          0.016200    0.1380   \n",
       "2         0.364   0.457     0      0.290000          0.000106    0.9220   \n",
       "3         0.398   0.413     1      0.082200          0.000025    0.0891   \n",
       "4         0.725   0.853     1      0.034800          0.127000    0.1960   \n",
       "\n",
       "   Loudness  Speechiness  Valence    Tempo  \n",
       "0    -6.836       0.0320    0.562   95.261  \n",
       "1    -9.027       0.0495    0.767  116.835  \n",
       "2   -14.162       0.0675    0.175  163.219  \n",
       "3   -10.934       0.0388    0.331  133.574  \n",
       "4    -7.842       0.0353    0.904  136.282  "
      ]
     },
     "execution_count": 4,
     "metadata": {},
     "output_type": "execute_result"
    }
   ],
   "source": [
    "playlist.head()"
   ]
  },
  {
   "cell_type": "code",
   "execution_count": 5,
   "metadata": {},
   "outputs": [],
   "source": [
    "from sklearn.preprocessing import StandardScaler"
   ]
  },
  {
   "cell_type": "code",
   "execution_count": 6,
   "metadata": {},
   "outputs": [],
   "source": [
    "#initialize the transformer\n",
    "scaler = StandardScaler()"
   ]
  },
  {
   "cell_type": "code",
   "execution_count": 7,
   "metadata": {},
   "outputs": [],
   "source": [
    "playlist_scaled = scaler.fit_transform(playlist)"
   ]
  },
  {
   "cell_type": "code",
   "execution_count": 8,
   "metadata": {
    "scrolled": true
   },
   "outputs": [
    {
     "data": {
      "text/html": [
       "<div>\n",
       "<style scoped>\n",
       "    .dataframe tbody tr th:only-of-type {\n",
       "        vertical-align: middle;\n",
       "    }\n",
       "\n",
       "    .dataframe tbody tr th {\n",
       "        vertical-align: top;\n",
       "    }\n",
       "\n",
       "    .dataframe thead th {\n",
       "        text-align: right;\n",
       "    }\n",
       "</style>\n",
       "<table border=\"1\" class=\"dataframe\">\n",
       "  <thead>\n",
       "    <tr style=\"text-align: right;\">\n",
       "      <th></th>\n",
       "      <th>0</th>\n",
       "      <th>1</th>\n",
       "      <th>2</th>\n",
       "      <th>3</th>\n",
       "      <th>4</th>\n",
       "      <th>5</th>\n",
       "      <th>6</th>\n",
       "      <th>7</th>\n",
       "      <th>8</th>\n",
       "      <th>9</th>\n",
       "    </tr>\n",
       "  </thead>\n",
       "  <tbody>\n",
       "    <tr>\n",
       "      <th>0</th>\n",
       "      <td>-0.481844</td>\n",
       "      <td>0.409298</td>\n",
       "      <td>0.648886</td>\n",
       "      <td>1.387547</td>\n",
       "      <td>-0.444965</td>\n",
       "      <td>-0.008453</td>\n",
       "      <td>0.598586</td>\n",
       "      <td>-0.516460</td>\n",
       "      <td>-0.060479</td>\n",
       "      <td>-0.948046</td>\n",
       "    </tr>\n",
       "    <tr>\n",
       "      <th>1</th>\n",
       "      <td>-0.469755</td>\n",
       "      <td>1.025070</td>\n",
       "      <td>0.648886</td>\n",
       "      <td>-0.922022</td>\n",
       "      <td>-0.376795</td>\n",
       "      <td>-0.337948</td>\n",
       "      <td>0.027648</td>\n",
       "      <td>-0.280361</td>\n",
       "      <td>0.774640</td>\n",
       "      <td>-0.175476</td>\n",
       "    </tr>\n",
       "    <tr>\n",
       "      <th>2</th>\n",
       "      <td>-1.201143</td>\n",
       "      <td>-0.735517</td>\n",
       "      <td>-1.541104</td>\n",
       "      <td>-0.003287</td>\n",
       "      <td>-0.444519</td>\n",
       "      <td>4.727235</td>\n",
       "      <td>-1.310448</td>\n",
       "      <td>-0.037516</td>\n",
       "      <td>-1.637021</td>\n",
       "      <td>1.485546</td>\n",
       "    </tr>\n",
       "    <tr>\n",
       "      <th>3</th>\n",
       "      <td>-0.995629</td>\n",
       "      <td>-0.926320</td>\n",
       "      <td>0.648886</td>\n",
       "      <td>-0.661636</td>\n",
       "      <td>-0.444858</td>\n",
       "      <td>-0.653876</td>\n",
       "      <td>-0.469285</td>\n",
       "      <td>-0.424719</td>\n",
       "      <td>-1.001516</td>\n",
       "      <td>0.423951</td>\n",
       "    </tr>\n",
       "    <tr>\n",
       "      <th>4</th>\n",
       "      <td>0.980931</td>\n",
       "      <td>0.981706</td>\n",
       "      <td>0.648886</td>\n",
       "      <td>-0.811808</td>\n",
       "      <td>0.089454</td>\n",
       "      <td>0.036772</td>\n",
       "      <td>0.336439</td>\n",
       "      <td>-0.471938</td>\n",
       "      <td>1.332745</td>\n",
       "      <td>0.520926</td>\n",
       "    </tr>\n",
       "    <tr>\n",
       "      <th>...</th>\n",
       "      <td>...</td>\n",
       "      <td>...</td>\n",
       "      <td>...</td>\n",
       "      <td>...</td>\n",
       "      <td>...</td>\n",
       "      <td>...</td>\n",
       "      <td>...</td>\n",
       "      <td>...</td>\n",
       "      <td>...</td>\n",
       "      <td>...</td>\n",
       "    </tr>\n",
       "    <tr>\n",
       "      <th>9931</th>\n",
       "      <td>-0.155440</td>\n",
       "      <td>1.107462</td>\n",
       "      <td>0.648886</td>\n",
       "      <td>-0.920977</td>\n",
       "      <td>-0.444584</td>\n",
       "      <td>-0.454240</td>\n",
       "      <td>1.779028</td>\n",
       "      <td>-0.404482</td>\n",
       "      <td>0.949812</td>\n",
       "      <td>0.859225</td>\n",
       "    </tr>\n",
       "    <tr>\n",
       "      <th>9932</th>\n",
       "      <td>-2.156179</td>\n",
       "      <td>1.467385</td>\n",
       "      <td>0.648886</td>\n",
       "      <td>-0.922030</td>\n",
       "      <td>3.035068</td>\n",
       "      <td>1.141551</td>\n",
       "      <td>1.046789</td>\n",
       "      <td>0.117634</td>\n",
       "      <td>-1.665538</td>\n",
       "      <td>-1.042800</td>\n",
       "    </tr>\n",
       "    <tr>\n",
       "      <th>9933</th>\n",
       "      <td>-0.270286</td>\n",
       "      <td>0.456999</td>\n",
       "      <td>0.648886</td>\n",
       "      <td>1.514274</td>\n",
       "      <td>-0.444965</td>\n",
       "      <td>-0.260420</td>\n",
       "      <td>-0.058605</td>\n",
       "      <td>1.466771</td>\n",
       "      <td>0.835747</td>\n",
       "      <td>0.275411</td>\n",
       "    </tr>\n",
       "    <tr>\n",
       "      <th>9934</th>\n",
       "      <td>-0.288420</td>\n",
       "      <td>0.938341</td>\n",
       "      <td>0.648886</td>\n",
       "      <td>-0.921646</td>\n",
       "      <td>-0.444696</td>\n",
       "      <td>0.081997</td>\n",
       "      <td>0.597804</td>\n",
       "      <td>-0.552887</td>\n",
       "      <td>-0.231577</td>\n",
       "      <td>0.880568</td>\n",
       "    </tr>\n",
       "    <tr>\n",
       "      <th>9935</th>\n",
       "      <td>-0.215885</td>\n",
       "      <td>0.123094</td>\n",
       "      <td>0.648886</td>\n",
       "      <td>-0.821313</td>\n",
       "      <td>1.015218</td>\n",
       "      <td>-0.678426</td>\n",
       "      <td>0.034423</td>\n",
       "      <td>-0.516460</td>\n",
       "      <td>0.188020</td>\n",
       "      <td>-0.115315</td>\n",
       "    </tr>\n",
       "  </tbody>\n",
       "</table>\n",
       "<p>9936 rows × 10 columns</p>\n",
       "</div>"
      ],
      "text/plain": [
       "             0         1         2         3         4         5         6  \\\n",
       "0    -0.481844  0.409298  0.648886  1.387547 -0.444965 -0.008453  0.598586   \n",
       "1    -0.469755  1.025070  0.648886 -0.922022 -0.376795 -0.337948  0.027648   \n",
       "2    -1.201143 -0.735517 -1.541104 -0.003287 -0.444519  4.727235 -1.310448   \n",
       "3    -0.995629 -0.926320  0.648886 -0.661636 -0.444858 -0.653876 -0.469285   \n",
       "4     0.980931  0.981706  0.648886 -0.811808  0.089454  0.036772  0.336439   \n",
       "...        ...       ...       ...       ...       ...       ...       ...   \n",
       "9931 -0.155440  1.107462  0.648886 -0.920977 -0.444584 -0.454240  1.779028   \n",
       "9932 -2.156179  1.467385  0.648886 -0.922030  3.035068  1.141551  1.046789   \n",
       "9933 -0.270286  0.456999  0.648886  1.514274 -0.444965 -0.260420 -0.058605   \n",
       "9934 -0.288420  0.938341  0.648886 -0.921646 -0.444696  0.081997  0.597804   \n",
       "9935 -0.215885  0.123094  0.648886 -0.821313  1.015218 -0.678426  0.034423   \n",
       "\n",
       "             7         8         9  \n",
       "0    -0.516460 -0.060479 -0.948046  \n",
       "1    -0.280361  0.774640 -0.175476  \n",
       "2    -0.037516 -1.637021  1.485546  \n",
       "3    -0.424719 -1.001516  0.423951  \n",
       "4    -0.471938  1.332745  0.520926  \n",
       "...        ...       ...       ...  \n",
       "9931 -0.404482  0.949812  0.859225  \n",
       "9932  0.117634 -1.665538 -1.042800  \n",
       "9933  1.466771  0.835747  0.275411  \n",
       "9934 -0.552887 -0.231577  0.880568  \n",
       "9935 -0.516460  0.188020 -0.115315  \n",
       "\n",
       "[9936 rows x 10 columns]"
      ]
     },
     "execution_count": 8,
     "metadata": {},
     "output_type": "execute_result"
    }
   ],
   "source": [
    "pd.DataFrame(playlist_scaled)"
   ]
  },
  {
   "cell_type": "markdown",
   "metadata": {},
   "source": [
    "#### Clustering"
   ]
  },
  {
   "cell_type": "code",
   "execution_count": 9,
   "metadata": {},
   "outputs": [],
   "source": [
    "from sklearn.cluster import KMeans"
   ]
  },
  {
   "cell_type": "code",
   "execution_count": 11,
   "metadata": {},
   "outputs": [],
   "source": [
    "#Initialize the model\n",
    "kmeans = KMeans(n_clusters=8)"
   ]
  },
  {
   "cell_type": "code",
   "execution_count": 13,
   "metadata": {},
   "outputs": [
    {
     "data": {
      "text/plain": [
       "KMeans()"
      ]
     },
     "execution_count": 13,
     "metadata": {},
     "output_type": "execute_result"
    }
   ],
   "source": [
    "#Fit the model\n",
    "kmeans.fit(playlist_scaled)"
   ]
  },
  {
   "cell_type": "code",
   "execution_count": 14,
   "metadata": {},
   "outputs": [],
   "source": [
    "# Predicting / Assigning the clusters:\n",
    "clusters = kmeans.predict(playlist_scaled)"
   ]
  },
  {
   "cell_type": "code",
   "execution_count": 17,
   "metadata": {},
   "outputs": [
    {
     "data": {
      "text/plain": [
       "array([7, 2, 6, ..., 7, 0, 2])"
      ]
     },
     "execution_count": 17,
     "metadata": {},
     "output_type": "execute_result"
    }
   ],
   "source": [
    "clusters"
   ]
  },
  {
   "cell_type": "code",
   "execution_count": 26,
   "metadata": {},
   "outputs": [
    {
     "data": {
      "text/plain": [
       "2    2042\n",
       "1    1605\n",
       "0    1559\n",
       "7    1382\n",
       "3    1337\n",
       "5     881\n",
       "4     583\n",
       "6     547\n",
       "dtype: int64"
      ]
     },
     "execution_count": 26,
     "metadata": {},
     "output_type": "execute_result"
    }
   ],
   "source": [
    "# Check the size of the clusters\n",
    "pd.Series(clusters).value_counts()"
   ]
  },
  {
   "cell_type": "code",
   "execution_count": 22,
   "metadata": {},
   "outputs": [],
   "source": [
    "# Explore the cluster assignment in the original dataset\n",
    "playlist[\"Cluster\"] = clusters"
   ]
  },
  {
   "cell_type": "code",
   "execution_count": 24,
   "metadata": {
    "scrolled": true
   },
   "outputs": [
    {
     "data": {
      "text/html": [
       "<div>\n",
       "<style scoped>\n",
       "    .dataframe tbody tr th:only-of-type {\n",
       "        vertical-align: middle;\n",
       "    }\n",
       "\n",
       "    .dataframe tbody tr th {\n",
       "        vertical-align: top;\n",
       "    }\n",
       "\n",
       "    .dataframe thead th {\n",
       "        text-align: right;\n",
       "    }\n",
       "</style>\n",
       "<table border=\"1\" class=\"dataframe\">\n",
       "  <thead>\n",
       "    <tr style=\"text-align: right;\">\n",
       "      <th></th>\n",
       "      <th>Danceability</th>\n",
       "      <th>Energy</th>\n",
       "      <th>Mode</th>\n",
       "      <th>Acousticness</th>\n",
       "      <th>Instrumentalness</th>\n",
       "      <th>Liveness</th>\n",
       "      <th>Loudness</th>\n",
       "      <th>Speechiness</th>\n",
       "      <th>Valence</th>\n",
       "      <th>Tempo</th>\n",
       "      <th>Cluster</th>\n",
       "    </tr>\n",
       "  </thead>\n",
       "  <tbody>\n",
       "    <tr>\n",
       "      <th>0</th>\n",
       "      <td>0.483</td>\n",
       "      <td>0.721</td>\n",
       "      <td>1</td>\n",
       "      <td>0.729000</td>\n",
       "      <td>0.000000</td>\n",
       "      <td>0.1890</td>\n",
       "      <td>-6.836</td>\n",
       "      <td>0.0320</td>\n",
       "      <td>0.562</td>\n",
       "      <td>95.261</td>\n",
       "      <td>7</td>\n",
       "    </tr>\n",
       "    <tr>\n",
       "      <th>1</th>\n",
       "      <td>0.485</td>\n",
       "      <td>0.863</td>\n",
       "      <td>1</td>\n",
       "      <td>0.000012</td>\n",
       "      <td>0.016200</td>\n",
       "      <td>0.1380</td>\n",
       "      <td>-9.027</td>\n",
       "      <td>0.0495</td>\n",
       "      <td>0.767</td>\n",
       "      <td>116.835</td>\n",
       "      <td>2</td>\n",
       "    </tr>\n",
       "    <tr>\n",
       "      <th>2</th>\n",
       "      <td>0.364</td>\n",
       "      <td>0.457</td>\n",
       "      <td>0</td>\n",
       "      <td>0.290000</td>\n",
       "      <td>0.000106</td>\n",
       "      <td>0.9220</td>\n",
       "      <td>-14.162</td>\n",
       "      <td>0.0675</td>\n",
       "      <td>0.175</td>\n",
       "      <td>163.219</td>\n",
       "      <td>6</td>\n",
       "    </tr>\n",
       "    <tr>\n",
       "      <th>3</th>\n",
       "      <td>0.398</td>\n",
       "      <td>0.413</td>\n",
       "      <td>1</td>\n",
       "      <td>0.082200</td>\n",
       "      <td>0.000025</td>\n",
       "      <td>0.0891</td>\n",
       "      <td>-10.934</td>\n",
       "      <td>0.0388</td>\n",
       "      <td>0.331</td>\n",
       "      <td>133.574</td>\n",
       "      <td>0</td>\n",
       "    </tr>\n",
       "    <tr>\n",
       "      <th>4</th>\n",
       "      <td>0.725</td>\n",
       "      <td>0.853</td>\n",
       "      <td>1</td>\n",
       "      <td>0.034800</td>\n",
       "      <td>0.127000</td>\n",
       "      <td>0.1960</td>\n",
       "      <td>-7.842</td>\n",
       "      <td>0.0353</td>\n",
       "      <td>0.904</td>\n",
       "      <td>136.282</td>\n",
       "      <td>2</td>\n",
       "    </tr>\n",
       "  </tbody>\n",
       "</table>\n",
       "</div>"
      ],
      "text/plain": [
       "   Danceability  Energy  Mode  Acousticness  Instrumentalness  Liveness  \\\n",
       "0         0.483   0.721     1      0.729000          0.000000    0.1890   \n",
       "1         0.485   0.863     1      0.000012          0.016200    0.1380   \n",
       "2         0.364   0.457     0      0.290000          0.000106    0.9220   \n",
       "3         0.398   0.413     1      0.082200          0.000025    0.0891   \n",
       "4         0.725   0.853     1      0.034800          0.127000    0.1960   \n",
       "\n",
       "   Loudness  Speechiness  Valence    Tempo  Cluster  \n",
       "0    -6.836       0.0320    0.562   95.261        7  \n",
       "1    -9.027       0.0495    0.767  116.835        2  \n",
       "2   -14.162       0.0675    0.175  163.219        6  \n",
       "3   -10.934       0.0388    0.331  133.574        0  \n",
       "4    -7.842       0.0353    0.904  136.282        2  "
      ]
     },
     "execution_count": 24,
     "metadata": {},
     "output_type": "execute_result"
    }
   ],
   "source": [
    "playlist.head()"
   ]
  },
  {
   "cell_type": "code",
   "execution_count": 27,
   "metadata": {},
   "outputs": [
    {
     "data": {
      "text/html": [
       "<div>\n",
       "<style scoped>\n",
       "    .dataframe tbody tr th:only-of-type {\n",
       "        vertical-align: middle;\n",
       "    }\n",
       "\n",
       "    .dataframe tbody tr th {\n",
       "        vertical-align: top;\n",
       "    }\n",
       "\n",
       "    .dataframe thead th {\n",
       "        text-align: right;\n",
       "    }\n",
       "</style>\n",
       "<table border=\"1\" class=\"dataframe\">\n",
       "  <thead>\n",
       "    <tr style=\"text-align: right;\">\n",
       "      <th></th>\n",
       "      <th>Danceability</th>\n",
       "      <th>Energy</th>\n",
       "      <th>Mode</th>\n",
       "      <th>Acousticness</th>\n",
       "      <th>Instrumentalness</th>\n",
       "      <th>Liveness</th>\n",
       "      <th>Loudness</th>\n",
       "      <th>Speechiness</th>\n",
       "      <th>Valence</th>\n",
       "      <th>Tempo</th>\n",
       "    </tr>\n",
       "    <tr>\n",
       "      <th>Cluster</th>\n",
       "      <th></th>\n",
       "      <th></th>\n",
       "      <th></th>\n",
       "      <th></th>\n",
       "      <th></th>\n",
       "      <th></th>\n",
       "      <th></th>\n",
       "      <th></th>\n",
       "      <th></th>\n",
       "      <th></th>\n",
       "    </tr>\n",
       "  </thead>\n",
       "  <tbody>\n",
       "    <tr>\n",
       "      <th>0</th>\n",
       "      <td>0.393305</td>\n",
       "      <td>0.760670</td>\n",
       "      <td>0.869147</td>\n",
       "      <td>0.112730</td>\n",
       "      <td>0.044478</td>\n",
       "      <td>0.179998</td>\n",
       "      <td>-7.032944</td>\n",
       "      <td>0.061474</td>\n",
       "      <td>0.414387</td>\n",
       "      <td>141.945146</td>\n",
       "    </tr>\n",
       "    <tr>\n",
       "      <th>1</th>\n",
       "      <td>0.632405</td>\n",
       "      <td>0.701423</td>\n",
       "      <td>0.000000</td>\n",
       "      <td>0.171512</td>\n",
       "      <td>0.039229</td>\n",
       "      <td>0.158104</td>\n",
       "      <td>-7.997027</td>\n",
       "      <td>0.057164</td>\n",
       "      <td>0.658037</td>\n",
       "      <td>119.881499</td>\n",
       "    </tr>\n",
       "    <tr>\n",
       "      <th>2</th>\n",
       "      <td>0.645084</td>\n",
       "      <td>0.753627</td>\n",
       "      <td>1.000000</td>\n",
       "      <td>0.134956</td>\n",
       "      <td>0.027796</td>\n",
       "      <td>0.152909</td>\n",
       "      <td>-7.389086</td>\n",
       "      <td>0.054225</td>\n",
       "      <td>0.741719</td>\n",
       "      <td>118.120517</td>\n",
       "    </tr>\n",
       "    <tr>\n",
       "      <th>3</th>\n",
       "      <td>0.447098</td>\n",
       "      <td>0.256518</td>\n",
       "      <td>0.688108</td>\n",
       "      <td>0.740637</td>\n",
       "      <td>0.091407</td>\n",
       "      <td>0.154428</td>\n",
       "      <td>-14.052419</td>\n",
       "      <td>0.041846</td>\n",
       "      <td>0.317561</td>\n",
       "      <td>109.425546</td>\n",
       "    </tr>\n",
       "    <tr>\n",
       "      <th>4</th>\n",
       "      <td>0.707343</td>\n",
       "      <td>0.678782</td>\n",
       "      <td>0.581475</td>\n",
       "      <td>0.191012</td>\n",
       "      <td>0.018474</td>\n",
       "      <td>0.210016</td>\n",
       "      <td>-8.190909</td>\n",
       "      <td>0.314154</td>\n",
       "      <td>0.604760</td>\n",
       "      <td>119.529964</td>\n",
       "    </tr>\n",
       "    <tr>\n",
       "      <th>5</th>\n",
       "      <td>0.544420</td>\n",
       "      <td>0.682400</td>\n",
       "      <td>0.687855</td>\n",
       "      <td>0.215396</td>\n",
       "      <td>0.753728</td>\n",
       "      <td>0.177002</td>\n",
       "      <td>-9.500486</td>\n",
       "      <td>0.058496</td>\n",
       "      <td>0.522844</td>\n",
       "      <td>125.847292</td>\n",
       "    </tr>\n",
       "    <tr>\n",
       "      <th>6</th>\n",
       "      <td>0.536088</td>\n",
       "      <td>0.731914</td>\n",
       "      <td>0.755027</td>\n",
       "      <td>0.233112</td>\n",
       "      <td>0.067487</td>\n",
       "      <td>0.637757</td>\n",
       "      <td>-8.065638</td>\n",
       "      <td>0.069593</td>\n",
       "      <td>0.594688</td>\n",
       "      <td>121.577174</td>\n",
       "    </tr>\n",
       "    <tr>\n",
       "      <th>7</th>\n",
       "      <td>0.624229</td>\n",
       "      <td>0.459635</td>\n",
       "      <td>0.952967</td>\n",
       "      <td>0.539998</td>\n",
       "      <td>0.020014</td>\n",
       "      <td>0.152380</td>\n",
       "      <td>-11.225151</td>\n",
       "      <td>0.051587</td>\n",
       "      <td>0.688638</td>\n",
       "      <td>116.710627</td>\n",
       "    </tr>\n",
       "  </tbody>\n",
       "</table>\n",
       "</div>"
      ],
      "text/plain": [
       "         Danceability    Energy      Mode  Acousticness  Instrumentalness  \\\n",
       "Cluster                                                                     \n",
       "0            0.393305  0.760670  0.869147      0.112730          0.044478   \n",
       "1            0.632405  0.701423  0.000000      0.171512          0.039229   \n",
       "2            0.645084  0.753627  1.000000      0.134956          0.027796   \n",
       "3            0.447098  0.256518  0.688108      0.740637          0.091407   \n",
       "4            0.707343  0.678782  0.581475      0.191012          0.018474   \n",
       "5            0.544420  0.682400  0.687855      0.215396          0.753728   \n",
       "6            0.536088  0.731914  0.755027      0.233112          0.067487   \n",
       "7            0.624229  0.459635  0.952967      0.539998          0.020014   \n",
       "\n",
       "         Liveness   Loudness  Speechiness   Valence       Tempo  \n",
       "Cluster                                                          \n",
       "0        0.179998  -7.032944     0.061474  0.414387  141.945146  \n",
       "1        0.158104  -7.997027     0.057164  0.658037  119.881499  \n",
       "2        0.152909  -7.389086     0.054225  0.741719  118.120517  \n",
       "3        0.154428 -14.052419     0.041846  0.317561  109.425546  \n",
       "4        0.210016  -8.190909     0.314154  0.604760  119.529964  \n",
       "5        0.177002  -9.500486     0.058496  0.522844  125.847292  \n",
       "6        0.637757  -8.065638     0.069593  0.594688  121.577174  \n",
       "7        0.152380 -11.225151     0.051587  0.688638  116.710627  "
      ]
     },
     "execution_count": 27,
     "metadata": {},
     "output_type": "execute_result"
    }
   ],
   "source": [
    "playlist.groupby(by=\"Cluster\").mean()"
   ]
  },
  {
   "cell_type": "markdown",
   "metadata": {},
   "source": [
    "#### Finding the \"inertia\" of the model"
   ]
  },
  {
   "cell_type": "code",
   "execution_count": 28,
   "metadata": {},
   "outputs": [
    {
     "data": {
      "text/plain": [
       "52154.93785406543"
      ]
     },
     "execution_count": 28,
     "metadata": {},
     "output_type": "execute_result"
    }
   ],
   "source": [
    "kmeans.inertia_"
   ]
  },
  {
   "cell_type": "markdown",
   "metadata": {},
   "source": [
    "#### Finding optimal number of clusters"
   ]
  },
  {
   "cell_type": "code",
   "execution_count": 29,
   "metadata": {},
   "outputs": [
    {
     "name": "stdout",
     "output_type": "stream",
     "text": [
      "[82377.47298731141, 74460.62635168944, 68054.01516465611, 62374.311032771686, 57884.07752574058, 54318.86547119369, 52216.36838949956, 50106.09754925114, 48474.75910694261, 46702.56964811495, 45356.58172332479, 44060.577077244554, 43063.90848571823, 42208.7470744234, 41323.42716284971, 40679.51670608539, 39823.84376561022, 39241.59681312104]\n"
     ]
    }
   ],
   "source": [
    "K = range(2, 20)\n",
    "\n",
    "inertia = []\n",
    "\n",
    "for k in K:\n",
    "    kmeans = KMeans(n_clusters=k)\n",
    "    kmeans.fit(playlist_scaled)\n",
    "    inertia.append(kmeans.inertia_)\n",
    "\n",
    "print(inertia)"
   ]
  },
  {
   "cell_type": "markdown",
   "metadata": {},
   "source": [
    "Elbow Method"
   ]
  },
  {
   "cell_type": "code",
   "execution_count": 31,
   "metadata": {},
   "outputs": [
    {
     "data": {
      "text/plain": [
       "Text(0.5, 1.0, 'Elbow Method showing the optimal k')"
      ]
     },
     "execution_count": 31,
     "metadata": {},
     "output_type": "execute_result"
    },
    {
     "data": {
      "image/png": "[encoded data removed]",
      "text/plain": [
       "<Figure size 1152x576 with 1 Axes>"
      ]
     },
     "metadata": {
      "needs_background": "light"
     },
     "output_type": "display_data"
    }
   ],
   "source": [
    "# Plot the results\n",
    "import matplotlib.pyplot as plt\n",
    "import numpy as np\n",
    "%matplotlib inline\n",
    "\n",
    "plt.figure(figsize=(16,8))\n",
    "plt.plot(K, inertia, 'bx-')\n",
    "plt.xlabel('k')\n",
    "plt.ylabel('inertia')\n",
    "plt.xticks(np.arange(min(K), max(K)+1, 1.0))\n",
    "plt.title('Elbow Method showing the optimal k')"
   ]
  },
  {
   "cell_type": "markdown",
   "metadata": {},
   "source": [
    "Silhoutte Score"
   ]
  },
  {
   "cell_type": "code",
   "execution_count": 32,
   "metadata": {},
   "outputs": [],
   "source": [
    "from sklearn.metrics import silhouette_score\n",
    "\n",
    "# repeat the same process, now with the silhouette score\n",
    "K = range(2, 20)\n",
    "silhouette = []\n",
    "\n",
    "for k in K:\n",
    "    kmeans = KMeans(n_clusters=k)\n",
    "    kmeans.fit(playlist_scaled)\n",
    "    silhouette.append(silhouette_score(X=playlist_scaled, labels=kmeans.predict(playlist_scaled)))"
   ]
  },
  {
   "cell_type": "code",
   "execution_count": 33,
   "metadata": {
    "scrolled": false
   },
   "outputs": [
    {
     "data": {
      "text/plain": [
       "Text(0.5, 1.0, 'Elbow Method showing the optimal k')"
      ]
     },
     "execution_count": 33,
     "metadata": {},
     "output_type": "execute_result"
    },
    {
     "data": {
      "image/png": "[encoded data removed]",
      "text/plain": [
       "<Figure size 1152x576 with 1 Axes>"
      ]
     },
     "metadata": {
      "needs_background": "light"
     },
     "output_type": "display_data"
    }
   ],
   "source": [
    "# plot\n",
    "plt.figure(figsize=(16,8))\n",
    "plt.plot(K, silhouette, 'bx-')\n",
    "plt.xlabel('k')\n",
    "plt.ylabel('silhouette score')\n",
    "plt.xticks(np.arange(min(K), max(K)+1, 1.0))\n",
    "plt.title('Elbow Method showing the optimal k')"
   ]
  },
  {
   "cell_type": "markdown",
   "metadata": {},
   "source": [
    "#### Final Model"
   ]
  },
  {
   "cell_type": "code",
   "execution_count": 34,
   "metadata": {},
   "outputs": [],
   "source": [
    "kmeans = KMeans(n_clusters=7)"
   ]
  },
  {
   "cell_type": "code",
   "execution_count": 35,
   "metadata": {},
   "outputs": [
    {
     "data": {
      "text/plain": [
       "KMeans(n_clusters=7)"
      ]
     },
     "execution_count": 35,
     "metadata": {},
     "output_type": "execute_result"
    }
   ],
   "source": [
    "kmeans.fit(playlist_scaled)"
   ]
  },
  {
   "cell_type": "code",
   "execution_count": 36,
   "metadata": {},
   "outputs": [],
   "source": [
    "clusters = kmeans.predict(playlist_scaled)"
   ]
  },
  {
   "cell_type": "code",
   "execution_count": 40,
   "metadata": {},
   "outputs": [
    {
     "data": {
      "text/plain": [
       "array([5, 5, 0, ..., 5, 2, 5])"
      ]
     },
     "execution_count": 40,
     "metadata": {},
     "output_type": "execute_result"
    }
   ],
   "source": [
    "clusters"
   ]
  },
  {
   "cell_type": "code",
   "execution_count": 44,
   "metadata": {},
   "outputs": [
    {
     "data": {
      "text/plain": [
       "5    2532\n",
       "6    1912\n",
       "2    1760\n",
       "4    1653\n",
       "3     903\n",
       "0     589\n",
       "1     587\n",
       "dtype: int64"
      ]
     },
     "execution_count": 44,
     "metadata": {},
     "output_type": "execute_result"
    }
   ],
   "source": [
    "pd.Series(clusters).value_counts()"
   ]
  },
  {
   "cell_type": "code",
   "execution_count": 45,
   "metadata": {},
   "outputs": [
    {
     "data": {
      "text/html": [
       "<div>\n",
       "<style scoped>\n",
       "    .dataframe tbody tr th:only-of-type {\n",
       "        vertical-align: middle;\n",
       "    }\n",
       "\n",
       "    .dataframe tbody tr th {\n",
       "        vertical-align: top;\n",
       "    }\n",
       "\n",
       "    .dataframe thead th {\n",
       "        text-align: right;\n",
       "    }\n",
       "</style>\n",
       "<table border=\"1\" class=\"dataframe\">\n",
       "  <thead>\n",
       "    <tr style=\"text-align: right;\">\n",
       "      <th></th>\n",
       "      <th>Danceability</th>\n",
       "      <th>Energy</th>\n",
       "      <th>Mode</th>\n",
       "      <th>Acousticness</th>\n",
       "      <th>Instrumentalness</th>\n",
       "      <th>Liveness</th>\n",
       "      <th>Loudness</th>\n",
       "      <th>Speechiness</th>\n",
       "      <th>Valence</th>\n",
       "      <th>Tempo</th>\n",
       "    </tr>\n",
       "    <tr>\n",
       "      <th>Cluster</th>\n",
       "      <th></th>\n",
       "      <th></th>\n",
       "      <th></th>\n",
       "      <th></th>\n",
       "      <th></th>\n",
       "      <th></th>\n",
       "      <th></th>\n",
       "      <th></th>\n",
       "      <th></th>\n",
       "      <th></th>\n",
       "    </tr>\n",
       "  </thead>\n",
       "  <tbody>\n",
       "    <tr>\n",
       "      <th>0</th>\n",
       "      <td>0.393305</td>\n",
       "      <td>0.760670</td>\n",
       "      <td>0.869147</td>\n",
       "      <td>0.112730</td>\n",
       "      <td>0.044478</td>\n",
       "      <td>0.179998</td>\n",
       "      <td>-7.032944</td>\n",
       "      <td>0.061474</td>\n",
       "      <td>0.414387</td>\n",
       "      <td>141.945146</td>\n",
       "    </tr>\n",
       "    <tr>\n",
       "      <th>1</th>\n",
       "      <td>0.632405</td>\n",
       "      <td>0.701423</td>\n",
       "      <td>0.000000</td>\n",
       "      <td>0.171512</td>\n",
       "      <td>0.039229</td>\n",
       "      <td>0.158104</td>\n",
       "      <td>-7.997027</td>\n",
       "      <td>0.057164</td>\n",
       "      <td>0.658037</td>\n",
       "      <td>119.881499</td>\n",
       "    </tr>\n",
       "    <tr>\n",
       "      <th>2</th>\n",
       "      <td>0.645084</td>\n",
       "      <td>0.753627</td>\n",
       "      <td>1.000000</td>\n",
       "      <td>0.134956</td>\n",
       "      <td>0.027796</td>\n",
       "      <td>0.152909</td>\n",
       "      <td>-7.389086</td>\n",
       "      <td>0.054225</td>\n",
       "      <td>0.741719</td>\n",
       "      <td>118.120517</td>\n",
       "    </tr>\n",
       "    <tr>\n",
       "      <th>3</th>\n",
       "      <td>0.447098</td>\n",
       "      <td>0.256518</td>\n",
       "      <td>0.688108</td>\n",
       "      <td>0.740637</td>\n",
       "      <td>0.091407</td>\n",
       "      <td>0.154428</td>\n",
       "      <td>-14.052419</td>\n",
       "      <td>0.041846</td>\n",
       "      <td>0.317561</td>\n",
       "      <td>109.425546</td>\n",
       "    </tr>\n",
       "    <tr>\n",
       "      <th>4</th>\n",
       "      <td>0.707343</td>\n",
       "      <td>0.678782</td>\n",
       "      <td>0.581475</td>\n",
       "      <td>0.191012</td>\n",
       "      <td>0.018474</td>\n",
       "      <td>0.210016</td>\n",
       "      <td>-8.190909</td>\n",
       "      <td>0.314154</td>\n",
       "      <td>0.604760</td>\n",
       "      <td>119.529964</td>\n",
       "    </tr>\n",
       "    <tr>\n",
       "      <th>5</th>\n",
       "      <td>0.544420</td>\n",
       "      <td>0.682400</td>\n",
       "      <td>0.687855</td>\n",
       "      <td>0.215396</td>\n",
       "      <td>0.753728</td>\n",
       "      <td>0.177002</td>\n",
       "      <td>-9.500486</td>\n",
       "      <td>0.058496</td>\n",
       "      <td>0.522844</td>\n",
       "      <td>125.847292</td>\n",
       "    </tr>\n",
       "    <tr>\n",
       "      <th>6</th>\n",
       "      <td>0.536088</td>\n",
       "      <td>0.731914</td>\n",
       "      <td>0.755027</td>\n",
       "      <td>0.233112</td>\n",
       "      <td>0.067487</td>\n",
       "      <td>0.637757</td>\n",
       "      <td>-8.065638</td>\n",
       "      <td>0.069593</td>\n",
       "      <td>0.594688</td>\n",
       "      <td>121.577174</td>\n",
       "    </tr>\n",
       "    <tr>\n",
       "      <th>7</th>\n",
       "      <td>0.624229</td>\n",
       "      <td>0.459635</td>\n",
       "      <td>0.952967</td>\n",
       "      <td>0.539998</td>\n",
       "      <td>0.020014</td>\n",
       "      <td>0.152380</td>\n",
       "      <td>-11.225151</td>\n",
       "      <td>0.051587</td>\n",
       "      <td>0.688638</td>\n",
       "      <td>116.710627</td>\n",
       "    </tr>\n",
       "  </tbody>\n",
       "</table>\n",
       "</div>"
      ],
      "text/plain": [
       "         Danceability    Energy      Mode  Acousticness  Instrumentalness  \\\n",
       "Cluster                                                                     \n",
       "0            0.393305  0.760670  0.869147      0.112730          0.044478   \n",
       "1            0.632405  0.701423  0.000000      0.171512          0.039229   \n",
       "2            0.645084  0.753627  1.000000      0.134956          0.027796   \n",
       "3            0.447098  0.256518  0.688108      0.740637          0.091407   \n",
       "4            0.707343  0.678782  0.581475      0.191012          0.018474   \n",
       "5            0.544420  0.682400  0.687855      0.215396          0.753728   \n",
       "6            0.536088  0.731914  0.755027      0.233112          0.067487   \n",
       "7            0.624229  0.459635  0.952967      0.539998          0.020014   \n",
       "\n",
       "         Liveness   Loudness  Speechiness   Valence       Tempo  \n",
       "Cluster                                                          \n",
       "0        0.179998  -7.032944     0.061474  0.414387  141.945146  \n",
       "1        0.158104  -7.997027     0.057164  0.658037  119.881499  \n",
       "2        0.152909  -7.389086     0.054225  0.741719  118.120517  \n",
       "3        0.154428 -14.052419     0.041846  0.317561  109.425546  \n",
       "4        0.210016  -8.190909     0.314154  0.604760  119.529964  \n",
       "5        0.177002  -9.500486     0.058496  0.522844  125.847292  \n",
       "6        0.637757  -8.065638     0.069593  0.594688  121.577174  \n",
       "7        0.152380 -11.225151     0.051587  0.688638  116.710627  "
      ]
     },
     "execution_count": 45,
     "metadata": {},
     "output_type": "execute_result"
    }
   ],
   "source": [
    "playlist.groupby(by=\"Cluster\").mean()"
   ]
  }
 ],
 "metadata": {
  "kernelspec": {
   "display_name": "Python 3",
   "language": "python",
   "name": "python3"
  },
  "language_info": {
   "codemirror_mode": {
    "name": "ipython",
    "version": 3
   },
   "file_extension": ".py",
   "mimetype": "text/x-python",
   "name": "python",
   "nbconvert_exporter": "python",
   "pygments_lexer": "ipython3",
   "version": "3.8.3"
  }
 },
 "nbformat": 4,
 "nbformat_minor": 4
}
