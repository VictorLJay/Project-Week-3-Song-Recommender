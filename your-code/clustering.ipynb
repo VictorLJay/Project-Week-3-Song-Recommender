{
 "cells": [
  {
   "cell_type": "markdown",
   "metadata": {},
   "source": [
    "# Clustering"
   ]
  },
  {
   "cell_type": "markdown",
   "metadata": {},
   "source": [
    "## Libraries"
   ]
  },
  {
   "cell_type": "code",
   "execution_count": 1,
   "metadata": {},
   "outputs": [],
   "source": [
    "# main\n",
    "import pandas as pd\n",
    "import numpy as np\n",
    "import matplotlib.pyplot as plt\n",
    "%matplotlib inline\n",
    "\n",
    "# sklearn\n",
    "from sklearn.preprocessing import StandardScaler\n",
    "from sklearn.cluster import KMeans\n",
    "from sklearn.metrics import silhouette_score"
   ]
  },
  {
   "cell_type": "markdown",
   "metadata": {},
   "source": [
    "## CSV Loading"
   ]
  },
  {
   "cell_type": "markdown",
   "metadata": {},
   "source": [
    "For the clustering we will only need the numerical values, that's why we will take only from the 3rd column (in this case this is not zero indexed) until the end of the file."
   ]
  },
  {
   "cell_type": "code",
   "execution_count": 2,
   "metadata": {},
   "outputs": [],
   "source": [
    "spotify_playlist = pd.read_csv(\"../data/spotify_playlist.csv\")\n",
    "final_list = spotify_playlist.iloc[:, 2:]"
   ]
  },
  {
   "cell_type": "code",
   "execution_count": 3,
   "metadata": {},
   "outputs": [
    {
     "data": {
      "text/html": [
       "<div>\n",
       "<style scoped>\n",
       "    .dataframe tbody tr th:only-of-type {\n",
       "        vertical-align: middle;\n",
       "    }\n",
       "\n",
       "    .dataframe tbody tr th {\n",
       "        vertical-align: top;\n",
       "    }\n",
       "\n",
       "    .dataframe thead th {\n",
       "        text-align: right;\n",
       "    }\n",
       "</style>\n",
       "<table border=\"1\" class=\"dataframe\">\n",
       "  <thead>\n",
       "    <tr style=\"text-align: right;\">\n",
       "      <th></th>\n",
       "      <th>duration</th>\n",
       "      <th>danceability</th>\n",
       "      <th>energy</th>\n",
       "      <th>acousticness</th>\n",
       "      <th>instrumentalness</th>\n",
       "      <th>liveness</th>\n",
       "      <th>loudness</th>\n",
       "      <th>speechiness</th>\n",
       "      <th>valence</th>\n",
       "      <th>tempo</th>\n",
       "    </tr>\n",
       "  </thead>\n",
       "  <tbody>\n",
       "    <tr>\n",
       "      <th>0</th>\n",
       "      <td>369600</td>\n",
       "      <td>0.483</td>\n",
       "      <td>0.721</td>\n",
       "      <td>0.729000</td>\n",
       "      <td>0.000000</td>\n",
       "      <td>0.1890</td>\n",
       "      <td>-6.836</td>\n",
       "      <td>0.0320</td>\n",
       "      <td>0.562</td>\n",
       "      <td>95.261</td>\n",
       "    </tr>\n",
       "    <tr>\n",
       "      <th>1</th>\n",
       "      <td>301240</td>\n",
       "      <td>0.485</td>\n",
       "      <td>0.863</td>\n",
       "      <td>0.000012</td>\n",
       "      <td>0.016200</td>\n",
       "      <td>0.1380</td>\n",
       "      <td>-9.027</td>\n",
       "      <td>0.0495</td>\n",
       "      <td>0.767</td>\n",
       "      <td>116.835</td>\n",
       "    </tr>\n",
       "    <tr>\n",
       "      <th>2</th>\n",
       "      <td>337413</td>\n",
       "      <td>0.364</td>\n",
       "      <td>0.457</td>\n",
       "      <td>0.290000</td>\n",
       "      <td>0.000106</td>\n",
       "      <td>0.9220</td>\n",
       "      <td>-14.162</td>\n",
       "      <td>0.0675</td>\n",
       "      <td>0.175</td>\n",
       "      <td>163.219</td>\n",
       "    </tr>\n",
       "    <tr>\n",
       "      <th>3</th>\n",
       "      <td>219146</td>\n",
       "      <td>0.398</td>\n",
       "      <td>0.413</td>\n",
       "      <td>0.082200</td>\n",
       "      <td>0.000025</td>\n",
       "      <td>0.0891</td>\n",
       "      <td>-10.934</td>\n",
       "      <td>0.0388</td>\n",
       "      <td>0.331</td>\n",
       "      <td>133.574</td>\n",
       "    </tr>\n",
       "    <tr>\n",
       "      <th>4</th>\n",
       "      <td>160892</td>\n",
       "      <td>0.518</td>\n",
       "      <td>0.756</td>\n",
       "      <td>0.735000</td>\n",
       "      <td>0.000062</td>\n",
       "      <td>0.3170</td>\n",
       "      <td>-10.851</td>\n",
       "      <td>0.0915</td>\n",
       "      <td>0.968</td>\n",
       "      <td>166.429</td>\n",
       "    </tr>\n",
       "    <tr>\n",
       "      <th>...</th>\n",
       "      <td>...</td>\n",
       "      <td>...</td>\n",
       "      <td>...</td>\n",
       "      <td>...</td>\n",
       "      <td>...</td>\n",
       "      <td>...</td>\n",
       "      <td>...</td>\n",
       "      <td>...</td>\n",
       "      <td>...</td>\n",
       "      <td>...</td>\n",
       "    </tr>\n",
       "    <tr>\n",
       "      <th>9942</th>\n",
       "      <td>199466</td>\n",
       "      <td>0.332</td>\n",
       "      <td>0.707</td>\n",
       "      <td>0.000012</td>\n",
       "      <td>0.006120</td>\n",
       "      <td>0.1100</td>\n",
       "      <td>-12.698</td>\n",
       "      <td>0.0361</td>\n",
       "      <td>0.652</td>\n",
       "      <td>144.815</td>\n",
       "    </tr>\n",
       "    <tr>\n",
       "      <th>9943</th>\n",
       "      <td>201734</td>\n",
       "      <td>0.464</td>\n",
       "      <td>0.749</td>\n",
       "      <td>0.224000</td>\n",
       "      <td>0.000046</td>\n",
       "      <td>0.3510</td>\n",
       "      <td>-8.564</td>\n",
       "      <td>0.4800</td>\n",
       "      <td>0.879</td>\n",
       "      <td>181.121</td>\n",
       "    </tr>\n",
       "    <tr>\n",
       "      <th>9944</th>\n",
       "      <td>183040</td>\n",
       "      <td>0.694</td>\n",
       "      <td>0.710</td>\n",
       "      <td>0.527000</td>\n",
       "      <td>0.001350</td>\n",
       "      <td>0.0697</td>\n",
       "      <td>-9.793</td>\n",
       "      <td>0.3400</td>\n",
       "      <td>0.415</td>\n",
       "      <td>119.964</td>\n",
       "    </tr>\n",
       "    <tr>\n",
       "      <th>9945</th>\n",
       "      <td>222160</td>\n",
       "      <td>0.332</td>\n",
       "      <td>0.800</td>\n",
       "      <td>0.000368</td>\n",
       "      <td>0.001600</td>\n",
       "      <td>0.0850</td>\n",
       "      <td>-9.746</td>\n",
       "      <td>0.0326</td>\n",
       "      <td>0.832</td>\n",
       "      <td>149.240</td>\n",
       "    </tr>\n",
       "    <tr>\n",
       "      <th>9946</th>\n",
       "      <td>234853</td>\n",
       "      <td>0.499</td>\n",
       "      <td>0.763</td>\n",
       "      <td>0.244000</td>\n",
       "      <td>0.000014</td>\n",
       "      <td>0.0828</td>\n",
       "      <td>-11.617</td>\n",
       "      <td>0.0704</td>\n",
       "      <td>0.895</td>\n",
       "      <td>152.677</td>\n",
       "    </tr>\n",
       "  </tbody>\n",
       "</table>\n",
       "<p>9947 rows × 10 columns</p>\n",
       "</div>"
      ],
      "text/plain": [
       "      duration  danceability  energy  acousticness  instrumentalness  \\\n",
       "0       369600         0.483   0.721      0.729000          0.000000   \n",
       "1       301240         0.485   0.863      0.000012          0.016200   \n",
       "2       337413         0.364   0.457      0.290000          0.000106   \n",
       "3       219146         0.398   0.413      0.082200          0.000025   \n",
       "4       160892         0.518   0.756      0.735000          0.000062   \n",
       "...        ...           ...     ...           ...               ...   \n",
       "9942    199466         0.332   0.707      0.000012          0.006120   \n",
       "9943    201734         0.464   0.749      0.224000          0.000046   \n",
       "9944    183040         0.694   0.710      0.527000          0.001350   \n",
       "9945    222160         0.332   0.800      0.000368          0.001600   \n",
       "9946    234853         0.499   0.763      0.244000          0.000014   \n",
       "\n",
       "      liveness  loudness  speechiness  valence    tempo  \n",
       "0       0.1890    -6.836       0.0320    0.562   95.261  \n",
       "1       0.1380    -9.027       0.0495    0.767  116.835  \n",
       "2       0.9220   -14.162       0.0675    0.175  163.219  \n",
       "3       0.0891   -10.934       0.0388    0.331  133.574  \n",
       "4       0.3170   -10.851       0.0915    0.968  166.429  \n",
       "...        ...       ...          ...      ...      ...  \n",
       "9942    0.1100   -12.698       0.0361    0.652  144.815  \n",
       "9943    0.3510    -8.564       0.4800    0.879  181.121  \n",
       "9944    0.0697    -9.793       0.3400    0.415  119.964  \n",
       "9945    0.0850    -9.746       0.0326    0.832  149.240  \n",
       "9946    0.0828   -11.617       0.0704    0.895  152.677  \n",
       "\n",
       "[9947 rows x 10 columns]"
      ]
     },
     "execution_count": 3,
     "metadata": {},
     "output_type": "execute_result"
    }
   ],
   "source": [
    "final_list"
   ]
  },
  {
   "cell_type": "markdown",
   "metadata": {},
   "source": [
    "## Clustering"
   ]
  },
  {
   "cell_type": "markdown",
   "metadata": {},
   "source": [
    "Let's start building the different clusters. For this project, I will use `KMeans`, as I think it's going to provide us the desired results for that project."
   ]
  },
  {
   "cell_type": "markdown",
   "metadata": {},
   "source": [
    "### Scaling the Playlist"
   ]
  },
  {
   "cell_type": "markdown",
   "metadata": {},
   "source": [
    "Scaling the playlist will set all those values on a same range, avoiding that higher/small values might have difference influence on the model due to that."
   ]
  },
  {
   "cell_type": "code",
   "execution_count": 4,
   "metadata": {},
   "outputs": [
    {
     "data": {
      "text/html": [
       "<div>\n",
       "<style scoped>\n",
       "    .dataframe tbody tr th:only-of-type {\n",
       "        vertical-align: middle;\n",
       "    }\n",
       "\n",
       "    .dataframe tbody tr th {\n",
       "        vertical-align: top;\n",
       "    }\n",
       "\n",
       "    .dataframe thead th {\n",
       "        text-align: right;\n",
       "    }\n",
       "</style>\n",
       "<table border=\"1\" class=\"dataframe\">\n",
       "  <thead>\n",
       "    <tr style=\"text-align: right;\">\n",
       "      <th></th>\n",
       "      <th>0</th>\n",
       "      <th>1</th>\n",
       "      <th>2</th>\n",
       "      <th>3</th>\n",
       "      <th>4</th>\n",
       "      <th>5</th>\n",
       "      <th>6</th>\n",
       "      <th>7</th>\n",
       "      <th>8</th>\n",
       "      <th>9</th>\n",
       "    </tr>\n",
       "  </thead>\n",
       "  <tbody>\n",
       "    <tr>\n",
       "      <th>0</th>\n",
       "      <td>0.992413</td>\n",
       "      <td>-0.494621</td>\n",
       "      <td>0.446617</td>\n",
       "      <td>1.299280</td>\n",
       "      <td>-0.442946</td>\n",
       "      <td>-0.003282</td>\n",
       "      <td>0.613710</td>\n",
       "      <td>-0.520620</td>\n",
       "      <td>-0.060788</td>\n",
       "      <td>-0.930879</td>\n",
       "    </tr>\n",
       "    <tr>\n",
       "      <th>1</th>\n",
       "      <td>0.417466</td>\n",
       "      <td>-0.482624</td>\n",
       "      <td>1.054258</td>\n",
       "      <td>-0.945475</td>\n",
       "      <td>-0.375370</td>\n",
       "      <td>-0.335014</td>\n",
       "      <td>0.046626</td>\n",
       "      <td>-0.287289</td>\n",
       "      <td>0.771976</td>\n",
       "      <td>-0.159772</td>\n",
       "    </tr>\n",
       "    <tr>\n",
       "      <th>2</th>\n",
       "      <td>0.721702</td>\n",
       "      <td>-1.208453</td>\n",
       "      <td>-0.683082</td>\n",
       "      <td>-0.052522</td>\n",
       "      <td>-0.442504</td>\n",
       "      <td>4.764553</td>\n",
       "      <td>-1.282436</td>\n",
       "      <td>-0.047291</td>\n",
       "      <td>-1.632885</td>\n",
       "      <td>1.498105</td>\n",
       "    </tr>\n",
       "    <tr>\n",
       "      <th>3</th>\n",
       "      <td>-0.272992</td>\n",
       "      <td>-1.004501</td>\n",
       "      <td>-0.871365</td>\n",
       "      <td>-0.692396</td>\n",
       "      <td>-0.442840</td>\n",
       "      <td>-0.653086</td>\n",
       "      <td>-0.446951</td>\n",
       "      <td>-0.429954</td>\n",
       "      <td>-0.999171</td>\n",
       "      <td>0.438521</td>\n",
       "    </tr>\n",
       "    <tr>\n",
       "      <th>4</th>\n",
       "      <td>-0.762941</td>\n",
       "      <td>-0.284671</td>\n",
       "      <td>0.596388</td>\n",
       "      <td>1.317756</td>\n",
       "      <td>-0.442688</td>\n",
       "      <td>0.829301</td>\n",
       "      <td>-0.425469</td>\n",
       "      <td>0.272706</td>\n",
       "      <td>1.588491</td>\n",
       "      <td>1.612839</td>\n",
       "    </tr>\n",
       "    <tr>\n",
       "      <th>...</th>\n",
       "      <td>...</td>\n",
       "      <td>...</td>\n",
       "      <td>...</td>\n",
       "      <td>...</td>\n",
       "      <td>...</td>\n",
       "      <td>...</td>\n",
       "      <td>...</td>\n",
       "      <td>...</td>\n",
       "      <td>...</td>\n",
       "      <td>...</td>\n",
       "    </tr>\n",
       "    <tr>\n",
       "      <th>9942</th>\n",
       "      <td>-0.438512</td>\n",
       "      <td>-1.400407</td>\n",
       "      <td>0.386709</td>\n",
       "      <td>-0.945476</td>\n",
       "      <td>-0.417417</td>\n",
       "      <td>-0.517141</td>\n",
       "      <td>-0.903517</td>\n",
       "      <td>-0.465954</td>\n",
       "      <td>0.304815</td>\n",
       "      <td>0.840302</td>\n",
       "    </tr>\n",
       "    <tr>\n",
       "      <th>9943</th>\n",
       "      <td>-0.419437</td>\n",
       "      <td>-0.608594</td>\n",
       "      <td>0.566434</td>\n",
       "      <td>-0.255754</td>\n",
       "      <td>-0.442754</td>\n",
       "      <td>1.050455</td>\n",
       "      <td>0.166462</td>\n",
       "      <td>5.452655</td>\n",
       "      <td>1.226949</td>\n",
       "      <td>2.137967</td>\n",
       "    </tr>\n",
       "    <tr>\n",
       "      <th>9944</th>\n",
       "      <td>-0.576664</td>\n",
       "      <td>0.771079</td>\n",
       "      <td>0.399546</td>\n",
       "      <td>0.677266</td>\n",
       "      <td>-0.437315</td>\n",
       "      <td>-0.779275</td>\n",
       "      <td>-0.151633</td>\n",
       "      <td>3.586007</td>\n",
       "      <td>-0.657941</td>\n",
       "      <td>-0.047934</td>\n",
       "    </tr>\n",
       "    <tr>\n",
       "      <th>9945</th>\n",
       "      <td>-0.247642</td>\n",
       "      <td>-1.400407</td>\n",
       "      <td>0.784671</td>\n",
       "      <td>-0.944379</td>\n",
       "      <td>-0.436272</td>\n",
       "      <td>-0.679755</td>\n",
       "      <td>-0.139468</td>\n",
       "      <td>-0.512620</td>\n",
       "      <td>1.036023</td>\n",
       "      <td>0.998462</td>\n",
       "    </tr>\n",
       "    <tr>\n",
       "      <th>9946</th>\n",
       "      <td>-0.140887</td>\n",
       "      <td>-0.398644</td>\n",
       "      <td>0.626342</td>\n",
       "      <td>-0.194169</td>\n",
       "      <td>-0.442888</td>\n",
       "      <td>-0.694065</td>\n",
       "      <td>-0.623728</td>\n",
       "      <td>-0.008625</td>\n",
       "      <td>1.291946</td>\n",
       "      <td>1.121309</td>\n",
       "    </tr>\n",
       "  </tbody>\n",
       "</table>\n",
       "<p>9947 rows × 10 columns</p>\n",
       "</div>"
      ],
      "text/plain": [
       "             0         1         2         3         4         5         6  \\\n",
       "0     0.992413 -0.494621  0.446617  1.299280 -0.442946 -0.003282  0.613710   \n",
       "1     0.417466 -0.482624  1.054258 -0.945475 -0.375370 -0.335014  0.046626   \n",
       "2     0.721702 -1.208453 -0.683082 -0.052522 -0.442504  4.764553 -1.282436   \n",
       "3    -0.272992 -1.004501 -0.871365 -0.692396 -0.442840 -0.653086 -0.446951   \n",
       "4    -0.762941 -0.284671  0.596388  1.317756 -0.442688  0.829301 -0.425469   \n",
       "...        ...       ...       ...       ...       ...       ...       ...   \n",
       "9942 -0.438512 -1.400407  0.386709 -0.945476 -0.417417 -0.517141 -0.903517   \n",
       "9943 -0.419437 -0.608594  0.566434 -0.255754 -0.442754  1.050455  0.166462   \n",
       "9944 -0.576664  0.771079  0.399546  0.677266 -0.437315 -0.779275 -0.151633   \n",
       "9945 -0.247642 -1.400407  0.784671 -0.944379 -0.436272 -0.679755 -0.139468   \n",
       "9946 -0.140887 -0.398644  0.626342 -0.194169 -0.442888 -0.694065 -0.623728   \n",
       "\n",
       "             7         8         9  \n",
       "0    -0.520620 -0.060788 -0.930879  \n",
       "1    -0.287289  0.771976 -0.159772  \n",
       "2    -0.047291 -1.632885  1.498105  \n",
       "3    -0.429954 -0.999171  0.438521  \n",
       "4     0.272706  1.588491  1.612839  \n",
       "...        ...       ...       ...  \n",
       "9942 -0.465954  0.304815  0.840302  \n",
       "9943  5.452655  1.226949  2.137967  \n",
       "9944  3.586007 -0.657941 -0.047934  \n",
       "9945 -0.512620  1.036023  0.998462  \n",
       "9946 -0.008625  1.291946  1.121309  \n",
       "\n",
       "[9947 rows x 10 columns]"
      ]
     },
     "execution_count": 4,
     "metadata": {},
     "output_type": "execute_result"
    }
   ],
   "source": [
    "# initilize the scaler\n",
    "scaler = StandardScaler()\n",
    "\n",
    "# scaling the playlist\n",
    "playlist_scaled = scaler.fit_transform(final_list)\n",
    "\n",
    "# creating a DF from the playlist scaled\n",
    "df_scaled_playlist = pd.DataFrame(playlist_scaled)\n",
    "df_scaled_playlist"
   ]
  },
  {
   "cell_type": "markdown",
   "metadata": {},
   "source": [
    "### Starting the Model"
   ]
  },
  {
   "cell_type": "code",
   "execution_count": 5,
   "metadata": {},
   "outputs": [],
   "source": [
    "# intilize the model\n",
    "kmeans = KMeans(n_clusters=8, random_state=42)\n",
    "\n",
    "# fit the model\n",
    "kmeans.fit(playlist_scaled)\n",
    "\n",
    "# Predicting clusters\n",
    "clusters = kmeans.predict(playlist_scaled)"
   ]
  },
  {
   "cell_type": "markdown",
   "metadata": {},
   "source": [
    "Let's take an initial look about how many values are in each cluster for this initial model. Those numbers probably will change, as now we initialized the model with a random `n_clusters`, but we should find the ideal number of them to avoid bias or variance."
   ]
  },
  {
   "cell_type": "code",
   "execution_count": 6,
   "metadata": {},
   "outputs": [
    {
     "data": {
      "text/plain": [
       "1    2494\n",
       "5    2062\n",
       "6    1678\n",
       "3    1450\n",
       "7     874\n",
       "4     628\n",
       "0     609\n",
       "2     152\n",
       "dtype: int64"
      ]
     },
     "execution_count": 6,
     "metadata": {},
     "output_type": "execute_result"
    }
   ],
   "source": [
    "pd.Series(clusters).value_counts()"
   ]
  },
  {
   "cell_type": "markdown",
   "metadata": {},
   "source": [
    "#### Finding the optimal `n_clusters`"
   ]
  },
  {
   "cell_type": "markdown",
   "metadata": {},
   "source": [
    "First of all, let's obtain the `inertia_` of the model without modification. After we know this number, we will use two different methods for setting the best number of clusters:\n",
    "* **Elbow Method**\n",
    "* **Silhoutte Score**"
   ]
  },
  {
   "cell_type": "code",
   "execution_count": 7,
   "metadata": {},
   "outputs": [
    {
     "data": {
      "text/plain": [
       "52046.81216480999"
      ]
     },
     "execution_count": 7,
     "metadata": {},
     "output_type": "execute_result"
    }
   ],
   "source": [
    "kmeans.inertia_"
   ]
  },
  {
   "cell_type": "markdown",
   "metadata": {},
   "source": [
    "##### Elbow Method"
   ]
  },
  {
   "cell_type": "code",
   "execution_count": 8,
   "metadata": {},
   "outputs": [
    {
     "name": "stdout",
     "output_type": "stream",
     "text": [
      "[82197.02437279059, 74265.72010390316, 67836.69533092239, 62063.92872555239, 58182.44129019722, 54663.41022900503, 52047.20473934559, 49540.598578438345, 47620.831446186836, 46111.88293933599, 44678.616487090134, 43624.565562853546, 42650.74557652134, 41745.20962381948, 40966.461593441476, 40253.46974639265, 39337.02889484799, 38640.07578602701]\n"
     ]
    }
   ],
   "source": [
    "K = range(2, 20)\n",
    "\n",
    "inertia = []\n",
    "\n",
    "for k in K:\n",
    "    kmeans = KMeans(n_clusters=k)\n",
    "    kmeans.fit(playlist_scaled)\n",
    "    inertia.append(kmeans.inertia_)\n",
    "\n",
    "print(inertia)"
   ]
  },
  {
   "cell_type": "code",
   "execution_count": 9,
   "metadata": {},
   "outputs": [
    {
     "data": {
      "image/png": "[encoded data removed]",
      "text/plain": [
       "<Figure size 1152x576 with 1 Axes>"
      ]
     },
     "metadata": {
      "needs_background": "light"
     },
     "output_type": "display_data"
    }
   ],
   "source": [
    "# Plot the results\n",
    "plt.figure(figsize=(16,8))\n",
    "plt.plot(K, inertia, 'bx-')\n",
    "plt.xlabel('k')\n",
    "plt.ylabel('inertia')\n",
    "plt.xticks(np.arange(min(K), max(K)+1, 1.0))\n",
    "plt.title('Elbow Method showing the optimal k')\n",
    "\n",
    "plt.show()"
   ]
  },
  {
   "cell_type": "markdown",
   "metadata": {},
   "source": [
    "##### Silhoutte Score"
   ]
  },
  {
   "cell_type": "code",
   "execution_count": 10,
   "metadata": {},
   "outputs": [],
   "source": [
    "K = range(2, 20)\n",
    "silhouette = []\n",
    "\n",
    "for k in K:\n",
    "    kmeans = KMeans(n_clusters=k)\n",
    "    kmeans.fit(playlist_scaled)\n",
    "    silhouette.append(silhouette_score(X=playlist_scaled, labels=kmeans.predict(playlist_scaled)))"
   ]
  },
  {
   "cell_type": "code",
   "execution_count": 11,
   "metadata": {},
   "outputs": [
    {
     "data": {
      "image/png": "[encoded data removed]",
      "text/plain": [
       "<Figure size 1152x576 with 1 Axes>"
      ]
     },
     "metadata": {
      "needs_background": "light"
     },
     "output_type": "display_data"
    }
   ],
   "source": [
    "# Plot the results\n",
    "plt.figure(figsize=(16,8))\n",
    "plt.plot(K, silhouette, 'bx-')\n",
    "plt.xlabel('k')\n",
    "plt.ylabel('silhouette score')\n",
    "plt.xticks(np.arange(min(K), max(K)+1, 1.0))\n",
    "plt.title('Silhoutte Score showing the optimal k')\n",
    "\n",
    "plt.show()"
   ]
  },
  {
   "cell_type": "markdown",
   "metadata": {},
   "source": [
    "Looking into the results, the `Elbow Method` doesn't show us a clear winner for the `n_clusters` we should use. On the other hand, thanks to the `Silhoutte Score` we see that this score reach it's peak at 7. For that, we will redo the clustering with this new value in mind."
   ]
  },
  {
   "cell_type": "markdown",
   "metadata": {},
   "source": [
    "### Running the Final Model"
   ]
  },
  {
   "cell_type": "code",
   "execution_count": 12,
   "metadata": {},
   "outputs": [],
   "source": [
    "# intilize the model\n",
    "kmeans = KMeans(n_clusters=7, random_state=42)\n",
    "\n",
    "# fit the model\n",
    "kmeans.fit(playlist_scaled)\n",
    "\n",
    "# Predicting clusters\n",
    "clusters = kmeans.predict(playlist_scaled)"
   ]
  },
  {
   "cell_type": "code",
   "execution_count": 13,
   "metadata": {},
   "outputs": [
    {
     "data": {
      "text/plain": [
       "5    3135\n",
       "3    2313\n",
       "1    2109\n",
       "4     902\n",
       "0     687\n",
       "2     644\n",
       "6     157\n",
       "dtype: int64"
      ]
     },
     "execution_count": 13,
     "metadata": {},
     "output_type": "execute_result"
    }
   ],
   "source": [
    "pd.Series(clusters).value_counts()"
   ]
  },
  {
   "cell_type": "markdown",
   "metadata": {},
   "source": [
    "### Adding Clusters to the Original File"
   ]
  },
  {
   "cell_type": "markdown",
   "metadata": {},
   "source": [
    "After identifying each song on the correct cluster, we need to add this column to the original CSV file for running the final model on the next Jupyter Notebook."
   ]
  },
  {
   "cell_type": "code",
   "execution_count": 14,
   "metadata": {},
   "outputs": [],
   "source": [
    "spotify_playlist[\"cluster\"] = clusters"
   ]
  },
  {
   "cell_type": "code",
   "execution_count": 15,
   "metadata": {},
   "outputs": [
    {
     "data": {
      "text/html": [
       "<div>\n",
       "<style scoped>\n",
       "    .dataframe tbody tr th:only-of-type {\n",
       "        vertical-align: middle;\n",
       "    }\n",
       "\n",
       "    .dataframe tbody tr th {\n",
       "        vertical-align: top;\n",
       "    }\n",
       "\n",
       "    .dataframe thead th {\n",
       "        text-align: right;\n",
       "    }\n",
       "</style>\n",
       "<table border=\"1\" class=\"dataframe\">\n",
       "  <thead>\n",
       "    <tr style=\"text-align: right;\">\n",
       "      <th></th>\n",
       "      <th>song</th>\n",
       "      <th>artist</th>\n",
       "      <th>duration</th>\n",
       "      <th>danceability</th>\n",
       "      <th>energy</th>\n",
       "      <th>acousticness</th>\n",
       "      <th>instrumentalness</th>\n",
       "      <th>liveness</th>\n",
       "      <th>loudness</th>\n",
       "      <th>speechiness</th>\n",
       "      <th>valence</th>\n",
       "      <th>tempo</th>\n",
       "      <th>cluster</th>\n",
       "    </tr>\n",
       "  </thead>\n",
       "  <tbody>\n",
       "    <tr>\n",
       "      <th>0</th>\n",
       "      <td>Like a Rolling Stone</td>\n",
       "      <td>Bob Dylan</td>\n",
       "      <td>369600</td>\n",
       "      <td>0.483</td>\n",
       "      <td>0.721</td>\n",
       "      <td>0.729000</td>\n",
       "      <td>0.000000</td>\n",
       "      <td>0.1890</td>\n",
       "      <td>-6.836</td>\n",
       "      <td>0.0320</td>\n",
       "      <td>0.562</td>\n",
       "      <td>95.261</td>\n",
       "      <td>5</td>\n",
       "    </tr>\n",
       "    <tr>\n",
       "      <th>1</th>\n",
       "      <td>Smells Like Teen Spirit</td>\n",
       "      <td>Nirvana</td>\n",
       "      <td>301240</td>\n",
       "      <td>0.485</td>\n",
       "      <td>0.863</td>\n",
       "      <td>0.000012</td>\n",
       "      <td>0.016200</td>\n",
       "      <td>0.1380</td>\n",
       "      <td>-9.027</td>\n",
       "      <td>0.0495</td>\n",
       "      <td>0.767</td>\n",
       "      <td>116.835</td>\n",
       "      <td>3</td>\n",
       "    </tr>\n",
       "    <tr>\n",
       "      <th>2</th>\n",
       "      <td>A Day In The Life - Remastered</td>\n",
       "      <td>The Beatles</td>\n",
       "      <td>337413</td>\n",
       "      <td>0.364</td>\n",
       "      <td>0.457</td>\n",
       "      <td>0.290000</td>\n",
       "      <td>0.000106</td>\n",
       "      <td>0.9220</td>\n",
       "      <td>-14.162</td>\n",
       "      <td>0.0675</td>\n",
       "      <td>0.175</td>\n",
       "      <td>163.219</td>\n",
       "      <td>0</td>\n",
       "    </tr>\n",
       "    <tr>\n",
       "      <th>3</th>\n",
       "      <td>Good Vibrations (Mono)</td>\n",
       "      <td>The Beach Boys</td>\n",
       "      <td>219146</td>\n",
       "      <td>0.398</td>\n",
       "      <td>0.413</td>\n",
       "      <td>0.082200</td>\n",
       "      <td>0.000025</td>\n",
       "      <td>0.0891</td>\n",
       "      <td>-10.934</td>\n",
       "      <td>0.0388</td>\n",
       "      <td>0.331</td>\n",
       "      <td>133.574</td>\n",
       "      <td>3</td>\n",
       "    </tr>\n",
       "    <tr>\n",
       "      <th>4</th>\n",
       "      <td>Johnny B Goode</td>\n",
       "      <td>Chuck Berry</td>\n",
       "      <td>160892</td>\n",
       "      <td>0.518</td>\n",
       "      <td>0.756</td>\n",
       "      <td>0.735000</td>\n",
       "      <td>0.000062</td>\n",
       "      <td>0.3170</td>\n",
       "      <td>-10.851</td>\n",
       "      <td>0.0915</td>\n",
       "      <td>0.968</td>\n",
       "      <td>166.429</td>\n",
       "      <td>5</td>\n",
       "    </tr>\n",
       "  </tbody>\n",
       "</table>\n",
       "</div>"
      ],
      "text/plain": [
       "                             song          artist  duration  danceability  \\\n",
       "0            Like a Rolling Stone       Bob Dylan    369600         0.483   \n",
       "1         Smells Like Teen Spirit         Nirvana    301240         0.485   \n",
       "2  A Day In The Life - Remastered     The Beatles    337413         0.364   \n",
       "3          Good Vibrations (Mono)  The Beach Boys    219146         0.398   \n",
       "4                  Johnny B Goode     Chuck Berry    160892         0.518   \n",
       "\n",
       "   energy  acousticness  instrumentalness  liveness  loudness  speechiness  \\\n",
       "0   0.721      0.729000          0.000000    0.1890    -6.836       0.0320   \n",
       "1   0.863      0.000012          0.016200    0.1380    -9.027       0.0495   \n",
       "2   0.457      0.290000          0.000106    0.9220   -14.162       0.0675   \n",
       "3   0.413      0.082200          0.000025    0.0891   -10.934       0.0388   \n",
       "4   0.756      0.735000          0.000062    0.3170   -10.851       0.0915   \n",
       "\n",
       "   valence    tempo  cluster  \n",
       "0    0.562   95.261        5  \n",
       "1    0.767  116.835        3  \n",
       "2    0.175  163.219        0  \n",
       "3    0.331  133.574        3  \n",
       "4    0.968  166.429        5  "
      ]
     },
     "execution_count": 15,
     "metadata": {},
     "output_type": "execute_result"
    }
   ],
   "source": [
    "spotify_playlist.head()"
   ]
  },
  {
   "cell_type": "code",
   "execution_count": 16,
   "metadata": {},
   "outputs": [],
   "source": [
    "# Storing it as a CSV\n",
    "spotify_playlist.to_csv(\"../data/playlist_with_clusters.csv\", index=False)"
   ]
  }
 ],
 "metadata": {
  "kernelspec": {
   "display_name": "Python 3",
   "language": "python",
   "name": "python3"
  },
  "language_info": {
   "codemirror_mode": {
    "name": "ipython",
    "version": 3
   },
   "file_extension": ".py",
   "mimetype": "text/x-python",
   "name": "python",
   "nbconvert_exporter": "python",
   "pygments_lexer": "ipython3",
   "version": "3.8.3"
  }
 },
 "nbformat": 4,
 "nbformat_minor": 4
}
