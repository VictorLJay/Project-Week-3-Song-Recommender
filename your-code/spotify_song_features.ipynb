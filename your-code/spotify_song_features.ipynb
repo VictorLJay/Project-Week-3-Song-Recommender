{
 "cells": [
  {
   "cell_type": "markdown",
   "metadata": {},
   "source": [
    "# Spotify Song Features"
   ]
  },
  {
   "cell_type": "markdown",
   "metadata": {},
   "source": [
    "## Libraries"
   ]
  },
  {
   "cell_type": "code",
   "execution_count": 1,
   "metadata": {},
   "outputs": [],
   "source": [
    "# main\n",
    "import pandas as pd\n",
    "import numpy as np\n",
    "\n",
    "# spotify API\n",
    "import spotipy\n",
    "from spotipy.oauth2 import SpotifyClientCredentials"
   ]
  },
  {
   "cell_type": "markdown",
   "metadata": {},
   "source": [
    "## Spotify API"
   ]
  },
  {
   "cell_type": "markdown",
   "metadata": {},
   "source": [
    "### Initialize API"
   ]
  },
  {
   "cell_type": "markdown",
   "metadata": {},
   "source": [
    "The **Spotify API** has to be initilized with the `client_id` and with the `client_secret`. As the `client_secret` contains sensitive information, I have created a local file, read it with Python and then loop through it, asigning each line of the document to the correspondant variable."
   ]
  },
  {
   "cell_type": "code",
   "execution_count": 2,
   "metadata": {},
   "outputs": [],
   "source": [
    "credentials = []\n",
    "\n",
    "with open(\"spotify_credentials.txt\", \"r\") as spotify:\n",
    "    for line in spotify:\n",
    "        line = line.rstrip(\"\\n\")\n",
    "        credentials.append(line)"
   ]
  },
  {
   "cell_type": "code",
   "execution_count": 3,
   "metadata": {},
   "outputs": [],
   "source": [
    "#Initialize SpotiPy with user credentias\n",
    "spotify = spotipy.Spotify(client_credentials_manager=SpotifyClientCredentials(\n",
    "    client_id = credentials[0],\n",
    "    client_secret = credentials[1]))"
   ]
  },
  {
   "cell_type": "markdown",
   "metadata": {},
   "source": [
    "### Obtaining Playlist"
   ]
  },
  {
   "cell_type": "markdown",
   "metadata": {},
   "source": [
    "For this initial project, we will find a big Spotify Playlist (*10K Songs*) for ensuring that our sample is going to have different features, so the output predicted could be as much accurate as possible. \n",
    "\n",
    "To obtain all the inforamation, I will build a function able to retrieve all the information available of that playlist."
   ]
  },
  {
   "cell_type": "code",
   "execution_count": 4,
   "metadata": {},
   "outputs": [],
   "source": [
    "def get_playlist_tracks(username,playlist_id):\n",
    "    \"\"\"\n",
    "    Input: Username of the API initialized and ID of the playlist we want to pass\n",
    "    Output: The playlist itself\n",
    "    \"\"\"\n",
    "    results = spotify.user_playlist_tracks(username,playlist_id)\n",
    "    tracks = results['items']\n",
    "    while results['next']:\n",
    "        results = spotify.next(results)\n",
    "        tracks.extend(results['items'])\n",
    "    return tracks\n",
    "\n",
    "playlist = get_playlist_tracks(\"spotify\", \"spotify:playlist:1G8IpkZKobrIlXcVPoSIuf\")"
   ]
  },
  {
   "cell_type": "markdown",
   "metadata": {},
   "source": [
    "Once we have the `playlist`, the next thing we have to do is retain only the content that offers us value for that project. In our case, it will be **`song_names`**, **`artist_names`**, **`song_features`** and **`duration_ms`**. \n",
    "\n",
    "Mention that, for obtain the `song_features` first of all we will have to retrieve the **`song_URI`** and, after that, another function will pull that information."
   ]
  },
  {
   "cell_type": "code",
   "execution_count": 5,
   "metadata": {},
   "outputs": [],
   "source": [
    "def playlist_info(playlist):\n",
    "    \"\"\"\n",
    "    Input: The playlist stored from the previous function\n",
    "    Output: The parts from the playlist that are useful for us, in this case songs, artists and features\n",
    "    \"\"\"\n",
    "    song_names = []\n",
    "    artist_names = []\n",
    "    duration = []\n",
    "    song_URI = []\n",
    "    features = []\n",
    "    i = 0\n",
    "    \n",
    "    for result in playlist:\n",
    "        try:\n",
    "            if result[\"is_local\"] == False:\n",
    "                i += 1\n",
    "                song_names.append(result[\"track\"][\"name\"])\n",
    "                artist_names.append(result[\"track\"][\"artists\"][0][\"name\"])\n",
    "                duration.append(result[\"track\"][\"duration_ms\"])\n",
    "                song_URI.append(result[\"track\"][\"uri\"])\n",
    "                \n",
    "                # Once Spotify reach 100, the speed for loading URI slows down, that's why I'm setting 100 as threshold\n",
    "                # This will append lists with 100 lenght\n",
    "                if i == 100:\n",
    "                    i = 0\n",
    "                    features.append(spotify.audio_features(song_URI))\n",
    "                    song_URI = []\n",
    "                    \n",
    "        except TypeError:\n",
    "            pass\n",
    "    \n",
    "    features.append(spotify.audio_features(song_URI)) \n",
    "    \n",
    "    # Creating a list that matches the same lenght as the other variables\n",
    "    correct_feature = [f for feature in features for f in feature]\n",
    "    \n",
    "    return song_names, artist_names, duration, correct_feature\n",
    "\n",
    "songs, artists, duration, feature = playlist_info(playlist)"
   ]
  },
  {
   "cell_type": "markdown",
   "metadata": {},
   "source": [
    "As we do have the `uri` from each song, now it's time to obtaing the final result, the **`song_features`**. After looking into the different features, I will select the ones that I consider it have more impact for predicting a song based on the user input."
   ]
  },
  {
   "cell_type": "code",
   "execution_count": 6,
   "metadata": {},
   "outputs": [],
   "source": [
    "def features_df_creation(info_features):\n",
    "    \"\"\"\n",
    "    Input: List of URIs from the previous function\n",
    "    Output: DF containing the song, artist, duration and the song_features that we chose\n",
    "    \"\"\"\n",
    "    acousticness = []\n",
    "    danceability = []\n",
    "    energy = []\n",
    "    instrumentalness = []\n",
    "    liveness = []\n",
    "    loudness = []\n",
    "    speechiness = []\n",
    "    valence = []\n",
    "    tempo = []\n",
    "    \n",
    "    for feature in info_features:\n",
    "        acousticness.append(feature[\"acousticness\"])\n",
    "        danceability.append(feature[\"danceability\"])\n",
    "        energy.append(feature[\"energy\"])\n",
    "        instrumentalness.append(feature[\"instrumentalness\"])\n",
    "        liveness.append(feature[\"liveness\"])\n",
    "        loudness.append(feature[\"loudness\"])\n",
    "        speechiness.append(feature[\"speechiness\"])\n",
    "        valence.append(feature[\"valence\"])\n",
    "        tempo.append(feature[\"tempo\"])\n",
    "        \n",
    "    \n",
    "    df = pd.DataFrame({\"song\":songs,\n",
    "                       \"artist\":artists,\n",
    "                       \"duration\":duration,\n",
    "                       \"danceability\":danceability,\n",
    "                       \"energy\":energy,\n",
    "                       \"acousticness\":acousticness,\n",
    "                       \"instrumentalness\":instrumentalness,\n",
    "                       \"liveness\":liveness,\n",
    "                       \"loudness\":loudness,\n",
    "                       \"speechiness\":speechiness,\n",
    "                       \"valence\":valence,\n",
    "                       \"tempo\":tempo\n",
    "                      })\n",
    "    \n",
    "    return df\n",
    "\n",
    "complete_list_song_artist_features = features_df_creation(feature)"
   ]
  },
  {
   "cell_type": "code",
   "execution_count": 7,
   "metadata": {},
   "outputs": [
    {
     "data": {
      "text/html": [
       "<div>\n",
       "<style scoped>\n",
       "    .dataframe tbody tr th:only-of-type {\n",
       "        vertical-align: middle;\n",
       "    }\n",
       "\n",
       "    .dataframe tbody tr th {\n",
       "        vertical-align: top;\n",
       "    }\n",
       "\n",
       "    .dataframe thead th {\n",
       "        text-align: right;\n",
       "    }\n",
       "</style>\n",
       "<table border=\"1\" class=\"dataframe\">\n",
       "  <thead>\n",
       "    <tr style=\"text-align: right;\">\n",
       "      <th></th>\n",
       "      <th>song</th>\n",
       "      <th>artist</th>\n",
       "      <th>duration</th>\n",
       "      <th>danceability</th>\n",
       "      <th>energy</th>\n",
       "      <th>acousticness</th>\n",
       "      <th>instrumentalness</th>\n",
       "      <th>liveness</th>\n",
       "      <th>loudness</th>\n",
       "      <th>speechiness</th>\n",
       "      <th>valence</th>\n",
       "      <th>tempo</th>\n",
       "    </tr>\n",
       "  </thead>\n",
       "  <tbody>\n",
       "    <tr>\n",
       "      <th>0</th>\n",
       "      <td>Like a Rolling Stone</td>\n",
       "      <td>Bob Dylan</td>\n",
       "      <td>369600</td>\n",
       "      <td>0.483</td>\n",
       "      <td>0.721</td>\n",
       "      <td>0.729000</td>\n",
       "      <td>0.000000</td>\n",
       "      <td>0.1890</td>\n",
       "      <td>-6.836</td>\n",
       "      <td>0.0320</td>\n",
       "      <td>0.562</td>\n",
       "      <td>95.261</td>\n",
       "    </tr>\n",
       "    <tr>\n",
       "      <th>1</th>\n",
       "      <td>Smells Like Teen Spirit</td>\n",
       "      <td>Nirvana</td>\n",
       "      <td>301240</td>\n",
       "      <td>0.485</td>\n",
       "      <td>0.863</td>\n",
       "      <td>0.000012</td>\n",
       "      <td>0.016200</td>\n",
       "      <td>0.1380</td>\n",
       "      <td>-9.027</td>\n",
       "      <td>0.0495</td>\n",
       "      <td>0.767</td>\n",
       "      <td>116.835</td>\n",
       "    </tr>\n",
       "    <tr>\n",
       "      <th>2</th>\n",
       "      <td>A Day In The Life - Remastered</td>\n",
       "      <td>The Beatles</td>\n",
       "      <td>337413</td>\n",
       "      <td>0.364</td>\n",
       "      <td>0.457</td>\n",
       "      <td>0.290000</td>\n",
       "      <td>0.000106</td>\n",
       "      <td>0.9220</td>\n",
       "      <td>-14.162</td>\n",
       "      <td>0.0675</td>\n",
       "      <td>0.175</td>\n",
       "      <td>163.219</td>\n",
       "    </tr>\n",
       "    <tr>\n",
       "      <th>3</th>\n",
       "      <td>Good Vibrations (Mono)</td>\n",
       "      <td>The Beach Boys</td>\n",
       "      <td>219146</td>\n",
       "      <td>0.398</td>\n",
       "      <td>0.413</td>\n",
       "      <td>0.082200</td>\n",
       "      <td>0.000025</td>\n",
       "      <td>0.0891</td>\n",
       "      <td>-10.934</td>\n",
       "      <td>0.0388</td>\n",
       "      <td>0.331</td>\n",
       "      <td>133.574</td>\n",
       "    </tr>\n",
       "    <tr>\n",
       "      <th>4</th>\n",
       "      <td>Johnny B Goode</td>\n",
       "      <td>Chuck Berry</td>\n",
       "      <td>160892</td>\n",
       "      <td>0.518</td>\n",
       "      <td>0.756</td>\n",
       "      <td>0.735000</td>\n",
       "      <td>0.000062</td>\n",
       "      <td>0.3170</td>\n",
       "      <td>-10.851</td>\n",
       "      <td>0.0915</td>\n",
       "      <td>0.968</td>\n",
       "      <td>166.429</td>\n",
       "    </tr>\n",
       "  </tbody>\n",
       "</table>\n",
       "</div>"
      ],
      "text/plain": [
       "                             song          artist  duration  danceability  \\\n",
       "0            Like a Rolling Stone       Bob Dylan    369600         0.483   \n",
       "1         Smells Like Teen Spirit         Nirvana    301240         0.485   \n",
       "2  A Day In The Life - Remastered     The Beatles    337413         0.364   \n",
       "3          Good Vibrations (Mono)  The Beach Boys    219146         0.398   \n",
       "4                  Johnny B Goode     Chuck Berry    160892         0.518   \n",
       "\n",
       "   energy  acousticness  instrumentalness  liveness  loudness  speechiness  \\\n",
       "0   0.721      0.729000          0.000000    0.1890    -6.836       0.0320   \n",
       "1   0.863      0.000012          0.016200    0.1380    -9.027       0.0495   \n",
       "2   0.457      0.290000          0.000106    0.9220   -14.162       0.0675   \n",
       "3   0.413      0.082200          0.000025    0.0891   -10.934       0.0388   \n",
       "4   0.756      0.735000          0.000062    0.3170   -10.851       0.0915   \n",
       "\n",
       "   valence    tempo  \n",
       "0    0.562   95.261  \n",
       "1    0.767  116.835  \n",
       "2    0.175  163.219  \n",
       "3    0.331  133.574  \n",
       "4    0.968  166.429  "
      ]
     },
     "execution_count": 7,
     "metadata": {},
     "output_type": "execute_result"
    }
   ],
   "source": [
    "complete_list_song_artist_features.head()"
   ]
  },
  {
   "cell_type": "code",
   "execution_count": 8,
   "metadata": {},
   "outputs": [],
   "source": [
    "# Storing it as a CSV\n",
    "complete_list_song_artist_features.to_csv(\"../data/spotify_playlist.csv\", index=False)"
   ]
  }
 ],
 "metadata": {
  "kernelspec": {
   "display_name": "Python 3",
   "language": "python",
   "name": "python3"
  },
  "language_info": {
   "codemirror_mode": {
    "name": "ipython",
    "version": 3
   },
   "file_extension": ".py",
   "mimetype": "text/x-python",
   "name": "python",
   "nbconvert_exporter": "python",
   "pygments_lexer": "ipython3",
   "version": "3.8.3"
  }
 },
 "nbformat": 4,
 "nbformat_minor": 4
}
