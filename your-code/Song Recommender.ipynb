{
 "cells": [
  {
   "cell_type": "markdown",
   "metadata": {},
   "source": [
    "# Song Recommender"
   ]
  },
  {
   "cell_type": "markdown",
   "metadata": {},
   "source": [
    "Mejoras:\n",
    "1er Notebook: Extracción de las canciones de Billboard100 (web scrapping) y lo guarde en un CSV.\n",
    "\n",
    "2do Notebook: Extracción de canciones de Spotify (+ features), guardar en un CSV o pickle y que entrene el modelo (kmeans) y guardarlo con un pickle. Puede ser uno con clusters y otro sin, o ambos.\n",
    "\n",
    "3er Notebook: El que haga el input del user y ejecute la función final.\n",
    "\n",
    "Spotify Client: guardarlo en un .txt para importación local. Eso no se subirá a GitHub"
   ]
  },
  {
   "cell_type": "markdown",
   "metadata": {},
   "source": [
    "## Soup \"Preparation\""
   ]
  },
  {
   "cell_type": "code",
   "execution_count": 2,
   "metadata": {},
   "outputs": [],
   "source": [
    "from bs4 import BeautifulSoup\n",
    "import requests\n",
    "import pandas as pd\n",
    "import numpy as np\n",
    "import time\n",
    "import os\n",
    "from sklearn.preprocessing import StandardScaler\n",
    "from sklearn.cluster import KMeans"
   ]
  },
  {
   "cell_type": "code",
   "execution_count": 3,
   "metadata": {},
   "outputs": [],
   "source": [
    "url = \"https://www.billboard.com/charts/hot-100\""
   ]
  },
  {
   "cell_type": "code",
   "execution_count": 4,
   "metadata": {},
   "outputs": [],
   "source": [
    "response = requests.get(url)"
   ]
  },
  {
   "cell_type": "code",
   "execution_count": 5,
   "metadata": {},
   "outputs": [
    {
     "data": {
      "text/plain": [
       "<Response [200]>"
      ]
     },
     "execution_count": 5,
     "metadata": {},
     "output_type": "execute_result"
    }
   ],
   "source": [
    "response"
   ]
  },
  {
   "cell_type": "code",
   "execution_count": 6,
   "metadata": {},
   "outputs": [],
   "source": [
    "soup = BeautifulSoup(response.content, \"html.parser\")"
   ]
  },
  {
   "cell_type": "markdown",
   "metadata": {},
   "source": [
    "## Web Scrapping"
   ]
  },
  {
   "cell_type": "markdown",
   "metadata": {},
   "source": [
    "Getting Songs"
   ]
  },
  {
   "cell_type": "code",
   "execution_count": 7,
   "metadata": {},
   "outputs": [
    {
     "data": {
      "text/plain": [
       "'Mood'"
      ]
     },
     "execution_count": 7,
     "metadata": {},
     "output_type": "execute_result"
    }
   ],
   "source": [
    "soup.select(\"span.chart-element__information__song.text--truncate.color--primary\")[0].get_text()"
   ]
  },
  {
   "cell_type": "code",
   "execution_count": 8,
   "metadata": {},
   "outputs": [],
   "source": [
    "song = []\n",
    "\n",
    "for s in soup.select(\"span.chart-element__information__song.text--truncate.color--primary\"):\n",
    "    song.append(s.get_text())"
   ]
  },
  {
   "cell_type": "markdown",
   "metadata": {},
   "source": [
    "Getting Artists"
   ]
  },
  {
   "cell_type": "code",
   "execution_count": 9,
   "metadata": {},
   "outputs": [
    {
     "data": {
      "text/plain": [
       "'24kGoldn Featuring iann dior'"
      ]
     },
     "execution_count": 9,
     "metadata": {},
     "output_type": "execute_result"
    }
   ],
   "source": [
    "soup.select(\"span.chart-element__information__artist.text--truncate.color--secondary\")[0].get_text()"
   ]
  },
  {
   "cell_type": "code",
   "execution_count": 10,
   "metadata": {},
   "outputs": [],
   "source": [
    "artist = []\n",
    "\n",
    "for a in soup.select(\"span.chart-element__information__artist.text--truncate.color--secondary\"):\n",
    "    artist.append(a.get_text())"
   ]
  },
  {
   "cell_type": "markdown",
   "metadata": {},
   "source": [
    "Ranking Status (Steady, Rising or Failing"
   ]
  },
  {
   "cell_type": "markdown",
   "metadata": {},
   "source": [
    "## Setting the DataFrame"
   ]
  },
  {
   "cell_type": "code",
   "execution_count": 11,
   "metadata": {},
   "outputs": [],
   "source": [
    "billboard_hot100 = pd.DataFrame({\"song\":song,\n",
    "                         \"artist(s)\":artist\n",
    "                         })"
   ]
  },
  {
   "cell_type": "code",
   "execution_count": 12,
   "metadata": {
    "scrolled": true
   },
   "outputs": [
    {
     "data": {
      "text/html": [
       "<div>\n",
       "<style scoped>\n",
       "    .dataframe tbody tr th:only-of-type {\n",
       "        vertical-align: middle;\n",
       "    }\n",
       "\n",
       "    .dataframe tbody tr th {\n",
       "        vertical-align: top;\n",
       "    }\n",
       "\n",
       "    .dataframe thead th {\n",
       "        text-align: right;\n",
       "    }\n",
       "</style>\n",
       "<table border=\"1\" class=\"dataframe\">\n",
       "  <thead>\n",
       "    <tr style=\"text-align: right;\">\n",
       "      <th></th>\n",
       "      <th>song</th>\n",
       "      <th>artist(s)</th>\n",
       "    </tr>\n",
       "  </thead>\n",
       "  <tbody>\n",
       "    <tr>\n",
       "      <th>0</th>\n",
       "      <td>Mood</td>\n",
       "      <td>24kGoldn Featuring iann dior</td>\n",
       "    </tr>\n",
       "    <tr>\n",
       "      <th>1</th>\n",
       "      <td>Positions</td>\n",
       "      <td>Ariana Grande</td>\n",
       "    </tr>\n",
       "    <tr>\n",
       "      <th>2</th>\n",
       "      <td>Laugh Now Cry Later</td>\n",
       "      <td>Drake Featuring Lil Durk</td>\n",
       "    </tr>\n",
       "    <tr>\n",
       "      <th>3</th>\n",
       "      <td>Blinding Lights</td>\n",
       "      <td>The Weeknd</td>\n",
       "    </tr>\n",
       "    <tr>\n",
       "      <th>4</th>\n",
       "      <td>I Hope</td>\n",
       "      <td>Gabby Barrett Featuring Charlie Puth</td>\n",
       "    </tr>\n",
       "    <tr>\n",
       "      <th>...</th>\n",
       "      <td>...</td>\n",
       "      <td>...</td>\n",
       "    </tr>\n",
       "    <tr>\n",
       "      <th>95</th>\n",
       "      <td>Happy Does</td>\n",
       "      <td>Kenny Chesney</td>\n",
       "    </tr>\n",
       "    <tr>\n",
       "      <th>96</th>\n",
       "      <td>So Done</td>\n",
       "      <td>The Kid LAROI</td>\n",
       "    </tr>\n",
       "    <tr>\n",
       "      <th>97</th>\n",
       "      <td>Thick</td>\n",
       "      <td>DJ Chose Featuring BeatKing</td>\n",
       "    </tr>\n",
       "    <tr>\n",
       "      <th>98</th>\n",
       "      <td>La Toxica</td>\n",
       "      <td>Farruko</td>\n",
       "    </tr>\n",
       "    <tr>\n",
       "      <th>99</th>\n",
       "      <td>Take You Dancing</td>\n",
       "      <td>Jason Derulo</td>\n",
       "    </tr>\n",
       "  </tbody>\n",
       "</table>\n",
       "<p>100 rows × 2 columns</p>\n",
       "</div>"
      ],
      "text/plain": [
       "                   song                             artist(s)\n",
       "0                  Mood          24kGoldn Featuring iann dior\n",
       "1             Positions                         Ariana Grande\n",
       "2   Laugh Now Cry Later              Drake Featuring Lil Durk\n",
       "3       Blinding Lights                            The Weeknd\n",
       "4                I Hope  Gabby Barrett Featuring Charlie Puth\n",
       "..                  ...                                   ...\n",
       "95           Happy Does                         Kenny Chesney\n",
       "96              So Done                         The Kid LAROI\n",
       "97                Thick           DJ Chose Featuring BeatKing\n",
       "98            La Toxica                               Farruko\n",
       "99     Take You Dancing                          Jason Derulo\n",
       "\n",
       "[100 rows x 2 columns]"
      ]
     },
     "execution_count": 12,
     "metadata": {},
     "output_type": "execute_result"
    }
   ],
   "source": [
    "billboard_hot100"
   ]
  },
  {
   "cell_type": "markdown",
   "metadata": {},
   "source": [
    "## Spotify API"
   ]
  },
  {
   "cell_type": "code",
   "execution_count": 13,
   "metadata": {},
   "outputs": [],
   "source": [
    "#Import library\n",
    "import spotipy\n",
    "from spotipy.oauth2 import SpotifyClientCredentials"
   ]
  },
  {
   "cell_type": "code",
   "execution_count": 14,
   "metadata": {},
   "outputs": [],
   "source": [
    "#Initialize SpotiPy with user credentias\n",
    "spotify = spotipy.Spotify(client_credentials_manager=SpotifyClientCredentials(\n",
    "    client_id=\"cee28011954344218ad66aefe89e71f8\",\n",
    "    client_secret=\"7007f507e93a4d668d4ccf52393bbe96\"))"
   ]
  },
  {
   "cell_type": "markdown",
   "metadata": {},
   "source": [
    "### Obtaining Info Playlist"
   ]
  },
  {
   "cell_type": "code",
   "execution_count": 15,
   "metadata": {},
   "outputs": [],
   "source": [
    "def get_playlist_tracks(username,playlist_id):\n",
    "    results = spotify.user_playlist_tracks(username,playlist_id)\n",
    "    tracks = results['items']\n",
    "    while results['next']:\n",
    "        results = spotify.next(results)\n",
    "        tracks.extend(results['items'])\n",
    "    return tracks\n",
    "\n",
    "playlist = get_playlist_tracks(\"spotify\", \"spotify:playlist:1G8IpkZKobrIlXcVPoSIuf\")"
   ]
  },
  {
   "cell_type": "code",
   "execution_count": 16,
   "metadata": {},
   "outputs": [],
   "source": [
    "def playlist_info(playlist):\n",
    "    song_names = []\n",
    "    artist_names = []\n",
    "    song_URI = []\n",
    "    features = []\n",
    "    i = 0\n",
    "    \n",
    "    for result in playlist:\n",
    "        if result[\"is_local\"] == False:\n",
    "            i += 1\n",
    "            song_names.append(result[\"track\"][\"name\"])\n",
    "            artist_names.append(result[\"track\"][\"artists\"][0][\"name\"])\n",
    "            song_URI.append(result[\"track\"][\"uri\"])\n",
    "            if i == 100:\n",
    "                i = 0\n",
    "                features.append(spotify.audio_features(song_URI))\n",
    "                song_URI = []    \n",
    "    \n",
    "    features.append(spotify.audio_features(song_URI)) \n",
    "    \n",
    "    correct_feature = [f for feature in features for f in feature]\n",
    "    \n",
    "    return song_names, artist_names, correct_feature\n",
    "\n",
    "songs, artists, correct_feature = playlist_info(playlist)"
   ]
  },
  {
   "cell_type": "code",
   "execution_count": 17,
   "metadata": {},
   "outputs": [],
   "source": [
    "def total_features(info_features):\n",
    "    mode = []\n",
    "    acousticness = []\n",
    "    danceability = []\n",
    "    energy = []\n",
    "    instrumentalness = []\n",
    "    liveness = []\n",
    "    loudness = []\n",
    "    speechiness = []\n",
    "    valence = []\n",
    "    tempo = []\n",
    "    \n",
    "    for feature in info_features:\n",
    "        mode.append(feature[\"mode\"])\n",
    "        acousticness.append(feature[\"acousticness\"])\n",
    "        danceability.append(feature[\"danceability\"])\n",
    "        energy.append(feature[\"energy\"])\n",
    "        instrumentalness.append(feature[\"instrumentalness\"])\n",
    "        liveness.append(feature[\"liveness\"])\n",
    "        loudness.append(feature[\"loudness\"])\n",
    "        speechiness.append(feature[\"speechiness\"])\n",
    "        valence.append(feature[\"valence\"])\n",
    "        tempo.append(feature[\"tempo\"])\n",
    "        \n",
    "    \n",
    "    df = pd.DataFrame({\"song\":songs,\n",
    "                       \"artist\":artists,\n",
    "                       \"danceability\":danceability,\n",
    "                       \"energy\":energy,\n",
    "                       \"mode\":mode,\n",
    "                       \"acousticness\":acousticness,\n",
    "                       \"instrumentalness\":instrumentalness,\n",
    "                       \"liveness\":liveness,\n",
    "                       \"loudness\":loudness,\n",
    "                       \"speechiness\":speechiness,\n",
    "                       \"valence\":valence,\n",
    "                       \"tempo\":tempo\n",
    "                      })\n",
    "    \n",
    "    return df\n",
    "\n",
    "complete_list_song_artist_features = total_features(correct_feature)"
   ]
  },
  {
   "cell_type": "code",
   "execution_count": 18,
   "metadata": {
    "scrolled": false
   },
   "outputs": [
    {
     "data": {
      "text/html": [
       "<div>\n",
       "<style scoped>\n",
       "    .dataframe tbody tr th:only-of-type {\n",
       "        vertical-align: middle;\n",
       "    }\n",
       "\n",
       "    .dataframe tbody tr th {\n",
       "        vertical-align: top;\n",
       "    }\n",
       "\n",
       "    .dataframe thead th {\n",
       "        text-align: right;\n",
       "    }\n",
       "</style>\n",
       "<table border=\"1\" class=\"dataframe\">\n",
       "  <thead>\n",
       "    <tr style=\"text-align: right;\">\n",
       "      <th></th>\n",
       "      <th>song</th>\n",
       "      <th>artist</th>\n",
       "      <th>danceability</th>\n",
       "      <th>energy</th>\n",
       "      <th>mode</th>\n",
       "      <th>acousticness</th>\n",
       "      <th>instrumentalness</th>\n",
       "      <th>liveness</th>\n",
       "      <th>loudness</th>\n",
       "      <th>speechiness</th>\n",
       "      <th>valence</th>\n",
       "      <th>tempo</th>\n",
       "    </tr>\n",
       "  </thead>\n",
       "  <tbody>\n",
       "    <tr>\n",
       "      <th>0</th>\n",
       "      <td>Like a Rolling Stone</td>\n",
       "      <td>Bob Dylan</td>\n",
       "      <td>0.483</td>\n",
       "      <td>0.721</td>\n",
       "      <td>1</td>\n",
       "      <td>0.729000</td>\n",
       "      <td>0.000000</td>\n",
       "      <td>0.1890</td>\n",
       "      <td>-6.836</td>\n",
       "      <td>0.0320</td>\n",
       "      <td>0.562</td>\n",
       "      <td>95.261</td>\n",
       "    </tr>\n",
       "    <tr>\n",
       "      <th>1</th>\n",
       "      <td>Smells Like Teen Spirit</td>\n",
       "      <td>Nirvana</td>\n",
       "      <td>0.485</td>\n",
       "      <td>0.863</td>\n",
       "      <td>1</td>\n",
       "      <td>0.000012</td>\n",
       "      <td>0.016200</td>\n",
       "      <td>0.1380</td>\n",
       "      <td>-9.027</td>\n",
       "      <td>0.0495</td>\n",
       "      <td>0.767</td>\n",
       "      <td>116.835</td>\n",
       "    </tr>\n",
       "    <tr>\n",
       "      <th>2</th>\n",
       "      <td>A Day In The Life - Remastered</td>\n",
       "      <td>The Beatles</td>\n",
       "      <td>0.364</td>\n",
       "      <td>0.457</td>\n",
       "      <td>0</td>\n",
       "      <td>0.290000</td>\n",
       "      <td>0.000106</td>\n",
       "      <td>0.9220</td>\n",
       "      <td>-14.162</td>\n",
       "      <td>0.0675</td>\n",
       "      <td>0.175</td>\n",
       "      <td>163.219</td>\n",
       "    </tr>\n",
       "    <tr>\n",
       "      <th>3</th>\n",
       "      <td>Good Vibrations (Mono)</td>\n",
       "      <td>The Beach Boys</td>\n",
       "      <td>0.398</td>\n",
       "      <td>0.413</td>\n",
       "      <td>1</td>\n",
       "      <td>0.082200</td>\n",
       "      <td>0.000025</td>\n",
       "      <td>0.0891</td>\n",
       "      <td>-10.934</td>\n",
       "      <td>0.0388</td>\n",
       "      <td>0.331</td>\n",
       "      <td>133.574</td>\n",
       "    </tr>\n",
       "    <tr>\n",
       "      <th>4</th>\n",
       "      <td>(I Can't Get No) Satisfaction - Mono Version /...</td>\n",
       "      <td>The Rolling Stones</td>\n",
       "      <td>0.725</td>\n",
       "      <td>0.853</td>\n",
       "      <td>1</td>\n",
       "      <td>0.034800</td>\n",
       "      <td>0.127000</td>\n",
       "      <td>0.1960</td>\n",
       "      <td>-7.842</td>\n",
       "      <td>0.0353</td>\n",
       "      <td>0.904</td>\n",
       "      <td>136.282</td>\n",
       "    </tr>\n",
       "    <tr>\n",
       "      <th>...</th>\n",
       "      <td>...</td>\n",
       "      <td>...</td>\n",
       "      <td>...</td>\n",
       "      <td>...</td>\n",
       "      <td>...</td>\n",
       "      <td>...</td>\n",
       "      <td>...</td>\n",
       "      <td>...</td>\n",
       "      <td>...</td>\n",
       "      <td>...</td>\n",
       "      <td>...</td>\n",
       "      <td>...</td>\n",
       "    </tr>\n",
       "    <tr>\n",
       "      <th>9931</th>\n",
       "      <td>Here It Goes Again</td>\n",
       "      <td>OK Go</td>\n",
       "      <td>0.537</td>\n",
       "      <td>0.882</td>\n",
       "      <td>1</td>\n",
       "      <td>0.000342</td>\n",
       "      <td>0.000091</td>\n",
       "      <td>0.1200</td>\n",
       "      <td>-2.306</td>\n",
       "      <td>0.0403</td>\n",
       "      <td>0.810</td>\n",
       "      <td>145.729</td>\n",
       "    </tr>\n",
       "    <tr>\n",
       "      <th>9932</th>\n",
       "      <td>Be Quiet and Drive (Far Away)</td>\n",
       "      <td>Deftones</td>\n",
       "      <td>0.206</td>\n",
       "      <td>0.965</td>\n",
       "      <td>1</td>\n",
       "      <td>0.000010</td>\n",
       "      <td>0.827000</td>\n",
       "      <td>0.3670</td>\n",
       "      <td>-5.116</td>\n",
       "      <td>0.0790</td>\n",
       "      <td>0.168</td>\n",
       "      <td>92.615</td>\n",
       "    </tr>\n",
       "    <tr>\n",
       "      <th>9933</th>\n",
       "      <td>That Is Rock’n’Roll</td>\n",
       "      <td>The Coasters</td>\n",
       "      <td>0.518</td>\n",
       "      <td>0.732</td>\n",
       "      <td>1</td>\n",
       "      <td>0.769000</td>\n",
       "      <td>0.000000</td>\n",
       "      <td>0.1500</td>\n",
       "      <td>-9.358</td>\n",
       "      <td>0.1790</td>\n",
       "      <td>0.782</td>\n",
       "      <td>129.426</td>\n",
       "    </tr>\n",
       "    <tr>\n",
       "      <th>9934</th>\n",
       "      <td>She Cracked</td>\n",
       "      <td>Jonathan Richman &amp; The Modern Lovers</td>\n",
       "      <td>0.515</td>\n",
       "      <td>0.843</td>\n",
       "      <td>1</td>\n",
       "      <td>0.000131</td>\n",
       "      <td>0.000064</td>\n",
       "      <td>0.2030</td>\n",
       "      <td>-6.839</td>\n",
       "      <td>0.0293</td>\n",
       "      <td>0.520</td>\n",
       "      <td>146.325</td>\n",
       "    </tr>\n",
       "    <tr>\n",
       "      <th>9935</th>\n",
       "      <td>I Need A Sign</td>\n",
       "      <td>Badly Drawn Boy</td>\n",
       "      <td>0.527</td>\n",
       "      <td>0.655</td>\n",
       "      <td>1</td>\n",
       "      <td>0.031800</td>\n",
       "      <td>0.347000</td>\n",
       "      <td>0.0853</td>\n",
       "      <td>-9.001</td>\n",
       "      <td>0.0320</td>\n",
       "      <td>0.623</td>\n",
       "      <td>118.515</td>\n",
       "    </tr>\n",
       "  </tbody>\n",
       "</table>\n",
       "<p>9936 rows × 12 columns</p>\n",
       "</div>"
      ],
      "text/plain": [
       "                                                   song  \\\n",
       "0                                  Like a Rolling Stone   \n",
       "1                               Smells Like Teen Spirit   \n",
       "2                        A Day In The Life - Remastered   \n",
       "3                                Good Vibrations (Mono)   \n",
       "4     (I Can't Get No) Satisfaction - Mono Version /...   \n",
       "...                                                 ...   \n",
       "9931                                 Here It Goes Again   \n",
       "9932                      Be Quiet and Drive (Far Away)   \n",
       "9933                                That Is Rock’n’Roll   \n",
       "9934                                        She Cracked   \n",
       "9935                                      I Need A Sign   \n",
       "\n",
       "                                    artist  danceability  energy  mode  \\\n",
       "0                                Bob Dylan         0.483   0.721     1   \n",
       "1                                  Nirvana         0.485   0.863     1   \n",
       "2                              The Beatles         0.364   0.457     0   \n",
       "3                           The Beach Boys         0.398   0.413     1   \n",
       "4                       The Rolling Stones         0.725   0.853     1   \n",
       "...                                    ...           ...     ...   ...   \n",
       "9931                                 OK Go         0.537   0.882     1   \n",
       "9932                              Deftones         0.206   0.965     1   \n",
       "9933                          The Coasters         0.518   0.732     1   \n",
       "9934  Jonathan Richman & The Modern Lovers         0.515   0.843     1   \n",
       "9935                       Badly Drawn Boy         0.527   0.655     1   \n",
       "\n",
       "      acousticness  instrumentalness  liveness  loudness  speechiness  \\\n",
       "0         0.729000          0.000000    0.1890    -6.836       0.0320   \n",
       "1         0.000012          0.016200    0.1380    -9.027       0.0495   \n",
       "2         0.290000          0.000106    0.9220   -14.162       0.0675   \n",
       "3         0.082200          0.000025    0.0891   -10.934       0.0388   \n",
       "4         0.034800          0.127000    0.1960    -7.842       0.0353   \n",
       "...            ...               ...       ...       ...          ...   \n",
       "9931      0.000342          0.000091    0.1200    -2.306       0.0403   \n",
       "9932      0.000010          0.827000    0.3670    -5.116       0.0790   \n",
       "9933      0.769000          0.000000    0.1500    -9.358       0.1790   \n",
       "9934      0.000131          0.000064    0.2030    -6.839       0.0293   \n",
       "9935      0.031800          0.347000    0.0853    -9.001       0.0320   \n",
       "\n",
       "      valence    tempo  \n",
       "0       0.562   95.261  \n",
       "1       0.767  116.835  \n",
       "2       0.175  163.219  \n",
       "3       0.331  133.574  \n",
       "4       0.904  136.282  \n",
       "...       ...      ...  \n",
       "9931    0.810  145.729  \n",
       "9932    0.168   92.615  \n",
       "9933    0.782  129.426  \n",
       "9934    0.520  146.325  \n",
       "9935    0.623  118.515  \n",
       "\n",
       "[9936 rows x 12 columns]"
      ]
     },
     "execution_count": 18,
     "metadata": {},
     "output_type": "execute_result"
    }
   ],
   "source": [
    "complete_list_song_artist_features"
   ]
  },
  {
   "cell_type": "markdown",
   "metadata": {},
   "source": [
    "#### Clustering"
   ]
  },
  {
   "cell_type": "code",
   "execution_count": 19,
   "metadata": {},
   "outputs": [],
   "source": [
    "playlist_for_cluster = complete_list_song_artist_features.copy()"
   ]
  },
  {
   "cell_type": "code",
   "execution_count": 20,
   "metadata": {
    "scrolled": true
   },
   "outputs": [
    {
     "data": {
      "text/html": [
       "<div>\n",
       "<style scoped>\n",
       "    .dataframe tbody tr th:only-of-type {\n",
       "        vertical-align: middle;\n",
       "    }\n",
       "\n",
       "    .dataframe tbody tr th {\n",
       "        vertical-align: top;\n",
       "    }\n",
       "\n",
       "    .dataframe thead th {\n",
       "        text-align: right;\n",
       "    }\n",
       "</style>\n",
       "<table border=\"1\" class=\"dataframe\">\n",
       "  <thead>\n",
       "    <tr style=\"text-align: right;\">\n",
       "      <th></th>\n",
       "      <th>danceability</th>\n",
       "      <th>energy</th>\n",
       "      <th>mode</th>\n",
       "      <th>acousticness</th>\n",
       "      <th>instrumentalness</th>\n",
       "      <th>liveness</th>\n",
       "      <th>loudness</th>\n",
       "      <th>speechiness</th>\n",
       "      <th>valence</th>\n",
       "      <th>tempo</th>\n",
       "    </tr>\n",
       "  </thead>\n",
       "  <tbody>\n",
       "    <tr>\n",
       "      <th>0</th>\n",
       "      <td>0.483</td>\n",
       "      <td>0.721</td>\n",
       "      <td>1</td>\n",
       "      <td>0.729000</td>\n",
       "      <td>0.000000</td>\n",
       "      <td>0.1890</td>\n",
       "      <td>-6.836</td>\n",
       "      <td>0.0320</td>\n",
       "      <td>0.562</td>\n",
       "      <td>95.261</td>\n",
       "    </tr>\n",
       "    <tr>\n",
       "      <th>1</th>\n",
       "      <td>0.485</td>\n",
       "      <td>0.863</td>\n",
       "      <td>1</td>\n",
       "      <td>0.000012</td>\n",
       "      <td>0.016200</td>\n",
       "      <td>0.1380</td>\n",
       "      <td>-9.027</td>\n",
       "      <td>0.0495</td>\n",
       "      <td>0.767</td>\n",
       "      <td>116.835</td>\n",
       "    </tr>\n",
       "    <tr>\n",
       "      <th>2</th>\n",
       "      <td>0.364</td>\n",
       "      <td>0.457</td>\n",
       "      <td>0</td>\n",
       "      <td>0.290000</td>\n",
       "      <td>0.000106</td>\n",
       "      <td>0.9220</td>\n",
       "      <td>-14.162</td>\n",
       "      <td>0.0675</td>\n",
       "      <td>0.175</td>\n",
       "      <td>163.219</td>\n",
       "    </tr>\n",
       "    <tr>\n",
       "      <th>3</th>\n",
       "      <td>0.398</td>\n",
       "      <td>0.413</td>\n",
       "      <td>1</td>\n",
       "      <td>0.082200</td>\n",
       "      <td>0.000025</td>\n",
       "      <td>0.0891</td>\n",
       "      <td>-10.934</td>\n",
       "      <td>0.0388</td>\n",
       "      <td>0.331</td>\n",
       "      <td>133.574</td>\n",
       "    </tr>\n",
       "    <tr>\n",
       "      <th>4</th>\n",
       "      <td>0.725</td>\n",
       "      <td>0.853</td>\n",
       "      <td>1</td>\n",
       "      <td>0.034800</td>\n",
       "      <td>0.127000</td>\n",
       "      <td>0.1960</td>\n",
       "      <td>-7.842</td>\n",
       "      <td>0.0353</td>\n",
       "      <td>0.904</td>\n",
       "      <td>136.282</td>\n",
       "    </tr>\n",
       "  </tbody>\n",
       "</table>\n",
       "</div>"
      ],
      "text/plain": [
       "   danceability  energy  mode  acousticness  instrumentalness  liveness  \\\n",
       "0         0.483   0.721     1      0.729000          0.000000    0.1890   \n",
       "1         0.485   0.863     1      0.000012          0.016200    0.1380   \n",
       "2         0.364   0.457     0      0.290000          0.000106    0.9220   \n",
       "3         0.398   0.413     1      0.082200          0.000025    0.0891   \n",
       "4         0.725   0.853     1      0.034800          0.127000    0.1960   \n",
       "\n",
       "   loudness  speechiness  valence    tempo  \n",
       "0    -6.836       0.0320    0.562   95.261  \n",
       "1    -9.027       0.0495    0.767  116.835  \n",
       "2   -14.162       0.0675    0.175  163.219  \n",
       "3   -10.934       0.0388    0.331  133.574  \n",
       "4    -7.842       0.0353    0.904  136.282  "
      ]
     },
     "execution_count": 20,
     "metadata": {},
     "output_type": "execute_result"
    }
   ],
   "source": [
    "playlist_for_cluster.drop(labels=[\"song\", \"artist\"], axis=1, inplace=True)\n",
    "playlist_for_cluster.head()"
   ]
  },
  {
   "cell_type": "code",
   "execution_count": 21,
   "metadata": {},
   "outputs": [],
   "source": [
    "#initialize the transformer\n",
    "scaler = StandardScaler()"
   ]
  },
  {
   "cell_type": "code",
   "execution_count": 22,
   "metadata": {},
   "outputs": [],
   "source": [
    "playlist_scaled = scaler.fit_transform(playlist_for_cluster)"
   ]
  },
  {
   "cell_type": "code",
   "execution_count": 23,
   "metadata": {},
   "outputs": [
    {
     "data": {
      "text/html": [
       "<div>\n",
       "<style scoped>\n",
       "    .dataframe tbody tr th:only-of-type {\n",
       "        vertical-align: middle;\n",
       "    }\n",
       "\n",
       "    .dataframe tbody tr th {\n",
       "        vertical-align: top;\n",
       "    }\n",
       "\n",
       "    .dataframe thead th {\n",
       "        text-align: right;\n",
       "    }\n",
       "</style>\n",
       "<table border=\"1\" class=\"dataframe\">\n",
       "  <thead>\n",
       "    <tr style=\"text-align: right;\">\n",
       "      <th></th>\n",
       "      <th>0</th>\n",
       "      <th>1</th>\n",
       "      <th>2</th>\n",
       "      <th>3</th>\n",
       "      <th>4</th>\n",
       "      <th>5</th>\n",
       "      <th>6</th>\n",
       "      <th>7</th>\n",
       "      <th>8</th>\n",
       "      <th>9</th>\n",
       "    </tr>\n",
       "  </thead>\n",
       "  <tbody>\n",
       "    <tr>\n",
       "      <th>0</th>\n",
       "      <td>-0.481868</td>\n",
       "      <td>0.409300</td>\n",
       "      <td>0.648886</td>\n",
       "      <td>1.387547</td>\n",
       "      <td>-0.444967</td>\n",
       "      <td>-0.008452</td>\n",
       "      <td>0.598586</td>\n",
       "      <td>-0.516449</td>\n",
       "      <td>-0.060482</td>\n",
       "      <td>-0.947708</td>\n",
       "    </tr>\n",
       "    <tr>\n",
       "      <th>1</th>\n",
       "      <td>-0.469779</td>\n",
       "      <td>1.025073</td>\n",
       "      <td>0.648886</td>\n",
       "      <td>-0.922023</td>\n",
       "      <td>-0.376796</td>\n",
       "      <td>-0.337947</td>\n",
       "      <td>0.027648</td>\n",
       "      <td>-0.280351</td>\n",
       "      <td>0.774642</td>\n",
       "      <td>-0.175184</td>\n",
       "    </tr>\n",
       "    <tr>\n",
       "      <th>2</th>\n",
       "      <td>-1.201180</td>\n",
       "      <td>-0.735516</td>\n",
       "      <td>-1.541104</td>\n",
       "      <td>-0.003287</td>\n",
       "      <td>-0.444521</td>\n",
       "      <td>4.727237</td>\n",
       "      <td>-1.310448</td>\n",
       "      <td>-0.037506</td>\n",
       "      <td>-1.637033</td>\n",
       "      <td>1.485740</td>\n",
       "    </tr>\n",
       "    <tr>\n",
       "      <th>3</th>\n",
       "      <td>-0.995663</td>\n",
       "      <td>-0.926319</td>\n",
       "      <td>0.648886</td>\n",
       "      <td>-0.661637</td>\n",
       "      <td>-0.444861</td>\n",
       "      <td>-0.653875</td>\n",
       "      <td>-0.469285</td>\n",
       "      <td>-0.424708</td>\n",
       "      <td>-1.001524</td>\n",
       "      <td>0.424208</td>\n",
       "    </tr>\n",
       "    <tr>\n",
       "      <th>4</th>\n",
       "      <td>0.980935</td>\n",
       "      <td>0.981708</td>\n",
       "      <td>0.648886</td>\n",
       "      <td>-0.811809</td>\n",
       "      <td>0.089462</td>\n",
       "      <td>0.036773</td>\n",
       "      <td>0.336439</td>\n",
       "      <td>-0.471928</td>\n",
       "      <td>1.332750</td>\n",
       "      <td>0.521177</td>\n",
       "    </tr>\n",
       "    <tr>\n",
       "      <th>...</th>\n",
       "      <td>...</td>\n",
       "      <td>...</td>\n",
       "      <td>...</td>\n",
       "      <td>...</td>\n",
       "      <td>...</td>\n",
       "      <td>...</td>\n",
       "      <td>...</td>\n",
       "      <td>...</td>\n",
       "      <td>...</td>\n",
       "      <td>...</td>\n",
       "    </tr>\n",
       "    <tr>\n",
       "      <th>9931</th>\n",
       "      <td>-0.155458</td>\n",
       "      <td>1.107465</td>\n",
       "      <td>0.648886</td>\n",
       "      <td>-0.920978</td>\n",
       "      <td>-0.444586</td>\n",
       "      <td>-0.454240</td>\n",
       "      <td>1.779028</td>\n",
       "      <td>-0.404471</td>\n",
       "      <td>0.949815</td>\n",
       "      <td>0.859456</td>\n",
       "    </tr>\n",
       "    <tr>\n",
       "      <th>9932</th>\n",
       "      <td>-2.156234</td>\n",
       "      <td>1.467388</td>\n",
       "      <td>0.648886</td>\n",
       "      <td>-0.922030</td>\n",
       "      <td>3.035139</td>\n",
       "      <td>1.141552</td>\n",
       "      <td>1.046789</td>\n",
       "      <td>0.117644</td>\n",
       "      <td>-1.665550</td>\n",
       "      <td>-1.042457</td>\n",
       "    </tr>\n",
       "    <tr>\n",
       "      <th>9933</th>\n",
       "      <td>-0.270306</td>\n",
       "      <td>0.457001</td>\n",
       "      <td>0.648886</td>\n",
       "      <td>1.514274</td>\n",
       "      <td>-0.444967</td>\n",
       "      <td>-0.260419</td>\n",
       "      <td>-0.058605</td>\n",
       "      <td>1.466780</td>\n",
       "      <td>0.835749</td>\n",
       "      <td>0.275676</td>\n",
       "    </tr>\n",
       "    <tr>\n",
       "      <th>9934</th>\n",
       "      <td>-0.288440</td>\n",
       "      <td>0.938344</td>\n",
       "      <td>0.648886</td>\n",
       "      <td>-0.921647</td>\n",
       "      <td>-0.444699</td>\n",
       "      <td>0.081998</td>\n",
       "      <td>0.597804</td>\n",
       "      <td>-0.552876</td>\n",
       "      <td>-0.231580</td>\n",
       "      <td>0.880797</td>\n",
       "    </tr>\n",
       "    <tr>\n",
       "      <th>9935</th>\n",
       "      <td>-0.215904</td>\n",
       "      <td>0.123096</td>\n",
       "      <td>0.648886</td>\n",
       "      <td>-0.821313</td>\n",
       "      <td>1.015246</td>\n",
       "      <td>-0.678426</td>\n",
       "      <td>0.034423</td>\n",
       "      <td>-0.516449</td>\n",
       "      <td>0.188019</td>\n",
       "      <td>-0.115026</td>\n",
       "    </tr>\n",
       "  </tbody>\n",
       "</table>\n",
       "<p>9936 rows × 10 columns</p>\n",
       "</div>"
      ],
      "text/plain": [
       "             0         1         2         3         4         5         6  \\\n",
       "0    -0.481868  0.409300  0.648886  1.387547 -0.444967 -0.008452  0.598586   \n",
       "1    -0.469779  1.025073  0.648886 -0.922023 -0.376796 -0.337947  0.027648   \n",
       "2    -1.201180 -0.735516 -1.541104 -0.003287 -0.444521  4.727237 -1.310448   \n",
       "3    -0.995663 -0.926319  0.648886 -0.661637 -0.444861 -0.653875 -0.469285   \n",
       "4     0.980935  0.981708  0.648886 -0.811809  0.089462  0.036773  0.336439   \n",
       "...        ...       ...       ...       ...       ...       ...       ...   \n",
       "9931 -0.155458  1.107465  0.648886 -0.920978 -0.444586 -0.454240  1.779028   \n",
       "9932 -2.156234  1.467388  0.648886 -0.922030  3.035139  1.141552  1.046789   \n",
       "9933 -0.270306  0.457001  0.648886  1.514274 -0.444967 -0.260419 -0.058605   \n",
       "9934 -0.288440  0.938344  0.648886 -0.921647 -0.444699  0.081998  0.597804   \n",
       "9935 -0.215904  0.123096  0.648886 -0.821313  1.015246 -0.678426  0.034423   \n",
       "\n",
       "             7         8         9  \n",
       "0    -0.516449 -0.060482 -0.947708  \n",
       "1    -0.280351  0.774642 -0.175184  \n",
       "2    -0.037506 -1.637033  1.485740  \n",
       "3    -0.424708 -1.001524  0.424208  \n",
       "4    -0.471928  1.332750  0.521177  \n",
       "...        ...       ...       ...  \n",
       "9931 -0.404471  0.949815  0.859456  \n",
       "9932  0.117644 -1.665550 -1.042457  \n",
       "9933  1.466780  0.835749  0.275676  \n",
       "9934 -0.552876 -0.231580  0.880797  \n",
       "9935 -0.516449  0.188019 -0.115026  \n",
       "\n",
       "[9936 rows x 10 columns]"
      ]
     },
     "execution_count": 23,
     "metadata": {},
     "output_type": "execute_result"
    }
   ],
   "source": [
    "pd.DataFrame(playlist_scaled)"
   ]
  },
  {
   "cell_type": "code",
   "execution_count": 24,
   "metadata": {},
   "outputs": [],
   "source": [
    "#Initialize the model\n",
    "kmeans = KMeans(n_clusters=8)"
   ]
  },
  {
   "cell_type": "code",
   "execution_count": 25,
   "metadata": {},
   "outputs": [
    {
     "data": {
      "text/plain": [
       "KMeans()"
      ]
     },
     "execution_count": 25,
     "metadata": {},
     "output_type": "execute_result"
    }
   ],
   "source": [
    "#Fit the model\n",
    "kmeans.fit(playlist_scaled)"
   ]
  },
  {
   "cell_type": "code",
   "execution_count": 26,
   "metadata": {},
   "outputs": [],
   "source": [
    "# Predicting / Assigning the clusters:\n",
    "clusters = kmeans.predict(playlist_scaled)"
   ]
  },
  {
   "cell_type": "code",
   "execution_count": 27,
   "metadata": {},
   "outputs": [
    {
     "data": {
      "text/plain": [
       "array([5, 6, 2, ..., 5, 1, 6])"
      ]
     },
     "execution_count": 27,
     "metadata": {},
     "output_type": "execute_result"
    }
   ],
   "source": [
    "clusters"
   ]
  },
  {
   "cell_type": "code",
   "execution_count": 28,
   "metadata": {},
   "outputs": [
    {
     "data": {
      "text/plain": [
       "6    2001\n",
       "4    1620\n",
       "1    1583\n",
       "5    1399\n",
       "3    1318\n",
       "0     879\n",
       "7     584\n",
       "2     552\n",
       "dtype: int64"
      ]
     },
     "execution_count": 28,
     "metadata": {},
     "output_type": "execute_result"
    }
   ],
   "source": [
    "# Check the size of the clusters\n",
    "pd.Series(clusters).value_counts()"
   ]
  },
  {
   "cell_type": "markdown",
   "metadata": {},
   "source": [
    "#### Finding the inertia_ and optimal n of clusters"
   ]
  },
  {
   "cell_type": "code",
   "execution_count": 29,
   "metadata": {},
   "outputs": [
    {
     "data": {
      "text/plain": [
       "52160.31632684173"
      ]
     },
     "execution_count": 29,
     "metadata": {},
     "output_type": "execute_result"
    }
   ],
   "source": [
    "kmeans.inertia_"
   ]
  },
  {
   "cell_type": "markdown",
   "metadata": {},
   "source": [
    "Elbow Method"
   ]
  },
  {
   "cell_type": "code",
   "execution_count": 30,
   "metadata": {},
   "outputs": [
    {
     "name": "stdout",
     "output_type": "stream",
     "text": [
      "[82378.05890282053, 74463.08609118211, 68056.59252000279, 62377.37250043256, 57888.03521736896, 54322.95128472512, 52159.79849439811, 50106.95313721412, 48298.58024488645, 46940.077043987425, 45226.49570050656, 44063.485991272704, 43165.07138821845, 42287.41505896886, 41377.663720714154, 40780.06050312251, 39919.98816459366, 39307.7975222873]\n"
     ]
    }
   ],
   "source": [
    "K = range(2, 20)\n",
    "\n",
    "inertia = []\n",
    "\n",
    "for k in K:\n",
    "    kmeans = KMeans(n_clusters=k)\n",
    "    kmeans.fit(playlist_scaled)\n",
    "    inertia.append(kmeans.inertia_)\n",
    "\n",
    "print(inertia)"
   ]
  },
  {
   "cell_type": "code",
   "execution_count": 31,
   "metadata": {},
   "outputs": [
    {
     "data": {
      "text/plain": [
       "Text(0.5, 1.0, 'Elbow Method showing the optimal k')"
      ]
     },
     "execution_count": 31,
     "metadata": {},
     "output_type": "execute_result"
    },
    {
     "data": {
      "image/png": "[encoded data removed]",
      "text/plain": [
       "<Figure size 1152x576 with 1 Axes>"
      ]
     },
     "metadata": {
      "needs_background": "light"
     },
     "output_type": "display_data"
    }
   ],
   "source": [
    "# Plot the results\n",
    "import matplotlib.pyplot as plt\n",
    "import numpy as np\n",
    "%matplotlib inline\n",
    "\n",
    "plt.figure(figsize=(16,8))\n",
    "plt.plot(K, inertia, 'bx-')\n",
    "plt.xlabel('k')\n",
    "plt.ylabel('inertia')\n",
    "plt.xticks(np.arange(min(K), max(K)+1, 1.0))\n",
    "plt.title('Elbow Method showing the optimal k')"
   ]
  },
  {
   "cell_type": "markdown",
   "metadata": {},
   "source": [
    "Silhoutte Score"
   ]
  },
  {
   "cell_type": "code",
   "execution_count": 32,
   "metadata": {},
   "outputs": [],
   "source": [
    "from sklearn.metrics import silhouette_score\n",
    "\n",
    "# repeat the same process, now with the silhouette score\n",
    "K = range(2, 20)\n",
    "silhouette = []\n",
    "\n",
    "for k in K:\n",
    "    kmeans = KMeans(n_clusters=k)\n",
    "    kmeans.fit(playlist_scaled)\n",
    "    silhouette.append(silhouette_score(X=playlist_scaled, labels=kmeans.predict(playlist_scaled)))"
   ]
  },
  {
   "cell_type": "code",
   "execution_count": 33,
   "metadata": {},
   "outputs": [
    {
     "data": {
      "text/plain": [
       "Text(0.5, 1.0, 'Elbow Method showing the optimal k')"
      ]
     },
     "execution_count": 33,
     "metadata": {},
     "output_type": "execute_result"
    },
    {
     "data": {
      "image/png": "[encoded data removed]",
      "text/plain": [
       "<Figure size 1152x576 with 1 Axes>"
      ]
     },
     "metadata": {
      "needs_background": "light"
     },
     "output_type": "display_data"
    }
   ],
   "source": [
    "# plot\n",
    "plt.figure(figsize=(16,8))\n",
    "plt.plot(K, silhouette, 'bx-')\n",
    "plt.xlabel('k')\n",
    "plt.ylabel('silhouette score')\n",
    "plt.xticks(np.arange(min(K), max(K)+1, 1.0))\n",
    "plt.title('Elbow Method showing the optimal k')"
   ]
  },
  {
   "cell_type": "markdown",
   "metadata": {},
   "source": [
    "##### The proper amount of clusters are 7. Let's update KMeans"
   ]
  },
  {
   "cell_type": "code",
   "execution_count": 34,
   "metadata": {},
   "outputs": [],
   "source": [
    "kmeans = KMeans(n_clusters=7)"
   ]
  },
  {
   "cell_type": "code",
   "execution_count": 35,
   "metadata": {},
   "outputs": [
    {
     "data": {
      "text/plain": [
       "KMeans(n_clusters=7)"
      ]
     },
     "execution_count": 35,
     "metadata": {},
     "output_type": "execute_result"
    }
   ],
   "source": [
    "kmeans.fit(playlist_scaled)"
   ]
  },
  {
   "cell_type": "code",
   "execution_count": 36,
   "metadata": {},
   "outputs": [],
   "source": [
    "clusters = kmeans.predict(playlist_scaled)"
   ]
  },
  {
   "cell_type": "code",
   "execution_count": 37,
   "metadata": {},
   "outputs": [
    {
     "data": {
      "text/plain": [
       "1    2533\n",
       "5    1912\n",
       "2    1761\n",
       "3    1653\n",
       "0     903\n",
       "6     587\n",
       "4     587\n",
       "dtype: int64"
      ]
     },
     "execution_count": 37,
     "metadata": {},
     "output_type": "execute_result"
    }
   ],
   "source": [
    "pd.Series(clusters).value_counts()"
   ]
  },
  {
   "cell_type": "code",
   "execution_count": 38,
   "metadata": {},
   "outputs": [],
   "source": [
    "complete_list_song_artist_features[\"cluster\"] = clusters"
   ]
  },
  {
   "cell_type": "code",
   "execution_count": 39,
   "metadata": {},
   "outputs": [
    {
     "data": {
      "text/html": [
       "<div>\n",
       "<style scoped>\n",
       "    .dataframe tbody tr th:only-of-type {\n",
       "        vertical-align: middle;\n",
       "    }\n",
       "\n",
       "    .dataframe tbody tr th {\n",
       "        vertical-align: top;\n",
       "    }\n",
       "\n",
       "    .dataframe thead th {\n",
       "        text-align: right;\n",
       "    }\n",
       "</style>\n",
       "<table border=\"1\" class=\"dataframe\">\n",
       "  <thead>\n",
       "    <tr style=\"text-align: right;\">\n",
       "      <th></th>\n",
       "      <th>song</th>\n",
       "      <th>artist</th>\n",
       "      <th>danceability</th>\n",
       "      <th>energy</th>\n",
       "      <th>mode</th>\n",
       "      <th>acousticness</th>\n",
       "      <th>instrumentalness</th>\n",
       "      <th>liveness</th>\n",
       "      <th>loudness</th>\n",
       "      <th>speechiness</th>\n",
       "      <th>valence</th>\n",
       "      <th>tempo</th>\n",
       "      <th>cluster</th>\n",
       "    </tr>\n",
       "  </thead>\n",
       "  <tbody>\n",
       "    <tr>\n",
       "      <th>0</th>\n",
       "      <td>Like a Rolling Stone</td>\n",
       "      <td>Bob Dylan</td>\n",
       "      <td>0.483</td>\n",
       "      <td>0.721</td>\n",
       "      <td>1</td>\n",
       "      <td>0.729000</td>\n",
       "      <td>0.000000</td>\n",
       "      <td>0.1890</td>\n",
       "      <td>-6.836</td>\n",
       "      <td>0.0320</td>\n",
       "      <td>0.562</td>\n",
       "      <td>95.261</td>\n",
       "      <td>1</td>\n",
       "    </tr>\n",
       "    <tr>\n",
       "      <th>1</th>\n",
       "      <td>Smells Like Teen Spirit</td>\n",
       "      <td>Nirvana</td>\n",
       "      <td>0.485</td>\n",
       "      <td>0.863</td>\n",
       "      <td>1</td>\n",
       "      <td>0.000012</td>\n",
       "      <td>0.016200</td>\n",
       "      <td>0.1380</td>\n",
       "      <td>-9.027</td>\n",
       "      <td>0.0495</td>\n",
       "      <td>0.767</td>\n",
       "      <td>116.835</td>\n",
       "      <td>1</td>\n",
       "    </tr>\n",
       "    <tr>\n",
       "      <th>2</th>\n",
       "      <td>A Day In The Life - Remastered</td>\n",
       "      <td>The Beatles</td>\n",
       "      <td>0.364</td>\n",
       "      <td>0.457</td>\n",
       "      <td>0</td>\n",
       "      <td>0.290000</td>\n",
       "      <td>0.000106</td>\n",
       "      <td>0.9220</td>\n",
       "      <td>-14.162</td>\n",
       "      <td>0.0675</td>\n",
       "      <td>0.175</td>\n",
       "      <td>163.219</td>\n",
       "      <td>4</td>\n",
       "    </tr>\n",
       "    <tr>\n",
       "      <th>3</th>\n",
       "      <td>Good Vibrations (Mono)</td>\n",
       "      <td>The Beach Boys</td>\n",
       "      <td>0.398</td>\n",
       "      <td>0.413</td>\n",
       "      <td>1</td>\n",
       "      <td>0.082200</td>\n",
       "      <td>0.000025</td>\n",
       "      <td>0.0891</td>\n",
       "      <td>-10.934</td>\n",
       "      <td>0.0388</td>\n",
       "      <td>0.331</td>\n",
       "      <td>133.574</td>\n",
       "      <td>2</td>\n",
       "    </tr>\n",
       "    <tr>\n",
       "      <th>4</th>\n",
       "      <td>(I Can't Get No) Satisfaction - Mono Version /...</td>\n",
       "      <td>The Rolling Stones</td>\n",
       "      <td>0.725</td>\n",
       "      <td>0.853</td>\n",
       "      <td>1</td>\n",
       "      <td>0.034800</td>\n",
       "      <td>0.127000</td>\n",
       "      <td>0.1960</td>\n",
       "      <td>-7.842</td>\n",
       "      <td>0.0353</td>\n",
       "      <td>0.904</td>\n",
       "      <td>136.282</td>\n",
       "      <td>1</td>\n",
       "    </tr>\n",
       "  </tbody>\n",
       "</table>\n",
       "</div>"
      ],
      "text/plain": [
       "                                                song              artist  \\\n",
       "0                               Like a Rolling Stone           Bob Dylan   \n",
       "1                            Smells Like Teen Spirit             Nirvana   \n",
       "2                     A Day In The Life - Remastered         The Beatles   \n",
       "3                             Good Vibrations (Mono)      The Beach Boys   \n",
       "4  (I Can't Get No) Satisfaction - Mono Version /...  The Rolling Stones   \n",
       "\n",
       "   danceability  energy  mode  acousticness  instrumentalness  liveness  \\\n",
       "0         0.483   0.721     1      0.729000          0.000000    0.1890   \n",
       "1         0.485   0.863     1      0.000012          0.016200    0.1380   \n",
       "2         0.364   0.457     0      0.290000          0.000106    0.9220   \n",
       "3         0.398   0.413     1      0.082200          0.000025    0.0891   \n",
       "4         0.725   0.853     1      0.034800          0.127000    0.1960   \n",
       "\n",
       "   loudness  speechiness  valence    tempo  cluster  \n",
       "0    -6.836       0.0320    0.562   95.261        1  \n",
       "1    -9.027       0.0495    0.767  116.835        1  \n",
       "2   -14.162       0.0675    0.175  163.219        4  \n",
       "3   -10.934       0.0388    0.331  133.574        2  \n",
       "4    -7.842       0.0353    0.904  136.282        1  "
      ]
     },
     "execution_count": 39,
     "metadata": {},
     "output_type": "execute_result"
    }
   ],
   "source": [
    "complete_list_song_artist_features.head()"
   ]
  },
  {
   "cell_type": "markdown",
   "metadata": {},
   "source": [
    "## Running the final function"
   ]
  },
  {
   "cell_type": "code",
   "execution_count": 51,
   "metadata": {},
   "outputs": [],
   "source": [
    "#User inputs a song. If it's on the DF, it will return another one, if not it will search on Spotify.\n",
    "def input_song(df):\n",
    "    choice = input(\"Welcome to the Song Recommender Pro-9000. Tell me one song and I will recommend you another one:\\n\").lower()\n",
    "    \n",
    "    if choice in df.str.lower().values:\n",
    "        return 1, choice\n",
    "    else:\n",
    "        return 0, choice"
   ]
  },
  {
   "cell_type": "code",
   "execution_count": 58,
   "metadata": {
    "scrolled": true
   },
   "outputs": [
    {
     "name": "stdout",
     "output_type": "stream",
     "text": [
      "Welcome to the Song Recommender Pro-9000. Tell me one song and I will recommend you another one:\n",
      "wqwqw\n",
      "Song not deteceted. Please introduce another song.\n",
      "Welcome to the Song Recommender Pro-9000. Tell me one song and I will recommend you another one:\n",
      "positions\n",
      "positions  -  Ariana Grande\n",
      "Wops, seems your song is not hot right now! Let me find you something else.\n",
      "Loading..\n",
      "Loading...\n",
      "Finally! Here's your perfect song:\n",
      "'Drops of Jupiter (Tell Me)'\n"
     ]
    }
   ],
   "source": [
    "song, choice = input_song(billboard_hot100[\"song\"])\n",
    "\n",
    "if song == 1:\n",
    "    suggestion = billboard_hot100.sample()\n",
    "    suggestion_song = suggestion[\"song\"].values.flatten()\n",
    "    suggestion_artist = suggestion[\"artist(s)\"].values.flatten()\n",
    "    suggestion_song = str(suggestion_song).lstrip(\"[\").rstrip(\"]\")\n",
    "    suggestion_artist = str(suggestion_artist).lstrip(\"[\").rstrip(\"]\")\n",
    "    \n",
    "    time.sleep(1.5)\n",
    "    print(\"Loading..\")\n",
    "    time.sleep(1.5)\n",
    "    print(\"Loading...\")\n",
    "    time.sleep(0.5)\n",
    "    print(\"We found something!\")\n",
    "    print(f\"Here's our recommedation: {suggestion_song} from {suggestion_artist}. What a hit!\")\n",
    "\n",
    "elif song == 0:\n",
    "    spoti_song = spotify.search(q=choice)\n",
    "    while not spoti_song[\"tracks\"][\"items\"]:\n",
    "        print(\"Song not deteceted. Please introduce another song.\")\n",
    "        song, choice = input_song(billboard_hot100[\"song\"])\n",
    "        spoti_song = spotify.search(q=choice)\n",
    "        \n",
    "    print(spoti_song[\"tracks\"][\"items\"][0][\"name\"], \" - \", spoti_song[\"tracks\"][\"items\"][0][\"artists\"][0][\"name\"])\n",
    "    song_features_spoti = pd.DataFrame(spotify.audio_features(spoti_song[\"tracks\"][\"items\"][0][\"uri\"]))\n",
    "    spoti_features = song_features_spoti[[\"danceability\", \"energy\", \"mode\", \"acousticness\", \"instrumentalness\", \"liveness\",\n",
    "                      \"loudness\", \"speechiness\", \"valence\", \"tempo\"]]\n",
    "    \n",
    "    features_spoti_scaled = scaler.transform(spoti_features)\n",
    "    spoti_cluster = kmeans.predict(features_spoti_scaled)\n",
    "    match_table_spoti_input = complete_list_song_artist_features[complete_list_song_artist_features[\"cluster\"] == int(spoti_cluster)][\"song\"]\n",
    "    spoti_suggestion = match_table_spoti_input.sample()\n",
    "    clean_suggestion = list(spoti_suggestion)\n",
    "    clean_suggestion_2 = str(clean_suggestion).lstrip(\"[\").rstrip(\"]\")\n",
    "    \n",
    "    \n",
    "    print(\"Wops, seems your song is not hot right now! Let me find you something else.\")\n",
    "\n",
    "    time.sleep(1.5)\n",
    "    print(\"Loading..\")\n",
    "    time.sleep(1.5)\n",
    "    print(\"Loading...\")\n",
    "    time.sleep(0.5)\n",
    "    \n",
    "    print(\"Finally! Here's your perfect song:\")\n",
    "    print(clean_suggestion_2)"
   ]
  },
  {
   "cell_type": "markdown",
   "metadata": {},
   "source": [
    "#### Future Improvements"
   ]
  },
  {
   "cell_type": "markdown",
   "metadata": {},
   "source": [
    "1st Notebook: Song extraction from Billboard100 and Store it into a CSV (only Web Scrapping)\n",
    "\n",
    "2nd Notebook: Song and features extraction from Spotify, store it into a CSV/pickle, train the model (kmeans) and store it into a pickle. \n",
    "\n",
    "3rd Notebook: Just the input from the user and run all the model.\n",
    "\n",
    "Spotify Client: Store it into a .txt in local for importing it.\n",
    "\n",
    "Create a \"while\" loop that looks first if it's in Billboard or Spotify. If in Billboard, execute the first function, if not, execute\n",
    "\n",
    "Crear un while loop que primero mire si está en Billboard o en Spotify. Si está en Billboard ejecutar la primera función, sino ejecutar la función en Spoti.\n",
    "\n",
    "La función busca todo en Spoti."
   ]
  }
 ],
 "metadata": {
  "kernelspec": {
   "display_name": "Python 3",
   "language": "python",
   "name": "python3"
  },
  "language_info": {
   "codemirror_mode": {
    "name": "ipython",
    "version": 3
   },
   "file_extension": ".py",
   "mimetype": "text/x-python",
   "name": "python",
   "nbconvert_exporter": "python",
   "pygments_lexer": "ipython3",
   "version": "3.8.3"
  }
 },
 "nbformat": 4,
 "nbformat_minor": 4
}
