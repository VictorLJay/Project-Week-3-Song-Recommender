{
 "cells": [
  {
   "cell_type": "markdown",
   "metadata": {},
   "source": [
    "# Song Recommender"
   ]
  },
  {
   "cell_type": "markdown",
   "metadata": {},
   "source": [
    "## Soup \"Preparation\""
   ]
  },
  {
   "cell_type": "code",
   "execution_count": 1,
   "metadata": {},
   "outputs": [],
   "source": [
    "from bs4 import BeautifulSoup\n",
    "import requests\n",
    "import pandas as pd\n",
    "import numpy as np\n",
    "import time\n",
    "import os\n",
    "from sklearn.preprocessing import StandardScaler\n",
    "from sklearn.cluster import KMeans"
   ]
  },
  {
   "cell_type": "code",
   "execution_count": 2,
   "metadata": {},
   "outputs": [],
   "source": [
    "url = \"https://www.billboard.com/charts/hot-100\""
   ]
  },
  {
   "cell_type": "code",
   "execution_count": 3,
   "metadata": {},
   "outputs": [],
   "source": [
    "response = requests.get(url)"
   ]
  },
  {
   "cell_type": "code",
   "execution_count": 4,
   "metadata": {},
   "outputs": [
    {
     "data": {
      "text/plain": [
       "<Response [200]>"
      ]
     },
     "execution_count": 4,
     "metadata": {},
     "output_type": "execute_result"
    }
   ],
   "source": [
    "response"
   ]
  },
  {
   "cell_type": "code",
   "execution_count": 5,
   "metadata": {},
   "outputs": [],
   "source": [
    "soup = BeautifulSoup(response.content, \"html.parser\")"
   ]
  },
  {
   "cell_type": "markdown",
   "metadata": {},
   "source": [
    "## Web Scrapping"
   ]
  },
  {
   "cell_type": "markdown",
   "metadata": {},
   "source": [
    "Getting Songs"
   ]
  },
  {
   "cell_type": "code",
   "execution_count": 6,
   "metadata": {},
   "outputs": [
    {
     "data": {
      "text/plain": [
       "'Mood'"
      ]
     },
     "execution_count": 6,
     "metadata": {},
     "output_type": "execute_result"
    }
   ],
   "source": [
    "soup.select(\"span.chart-element__information__song.text--truncate.color--primary\")[0].get_text()"
   ]
  },
  {
   "cell_type": "code",
   "execution_count": 7,
   "metadata": {},
   "outputs": [],
   "source": [
    "song = []\n",
    "\n",
    "for s in soup.select(\"span.chart-element__information__song.text--truncate.color--primary\"):\n",
    "    song.append(s.get_text())"
   ]
  },
  {
   "cell_type": "markdown",
   "metadata": {},
   "source": [
    "Getting Artists"
   ]
  },
  {
   "cell_type": "code",
   "execution_count": 8,
   "metadata": {},
   "outputs": [
    {
     "data": {
      "text/plain": [
       "'24kGoldn Featuring iann dior'"
      ]
     },
     "execution_count": 8,
     "metadata": {},
     "output_type": "execute_result"
    }
   ],
   "source": [
    "soup.select(\"span.chart-element__information__artist.text--truncate.color--secondary\")[0].get_text()"
   ]
  },
  {
   "cell_type": "code",
   "execution_count": 9,
   "metadata": {},
   "outputs": [],
   "source": [
    "artist = []\n",
    "\n",
    "for a in soup.select(\"span.chart-element__information__artist.text--truncate.color--secondary\"):\n",
    "    artist.append(a.get_text())"
   ]
  },
  {
   "cell_type": "markdown",
   "metadata": {},
   "source": [
    "Ranking Status (Steady, Rising or Failing"
   ]
  },
  {
   "cell_type": "markdown",
   "metadata": {},
   "source": [
    "## Setting the DataFrame"
   ]
  },
  {
   "cell_type": "code",
   "execution_count": 10,
   "metadata": {},
   "outputs": [],
   "source": [
    "billboard_hot100 = pd.DataFrame({\"song\":song,\n",
    "                         \"artist(s)\":artist\n",
    "                         })"
   ]
  },
  {
   "cell_type": "code",
   "execution_count": 11,
   "metadata": {
    "scrolled": true
   },
   "outputs": [
    {
     "data": {
      "text/html": [
       "<div>\n",
       "<style scoped>\n",
       "    .dataframe tbody tr th:only-of-type {\n",
       "        vertical-align: middle;\n",
       "    }\n",
       "\n",
       "    .dataframe tbody tr th {\n",
       "        vertical-align: top;\n",
       "    }\n",
       "\n",
       "    .dataframe thead th {\n",
       "        text-align: right;\n",
       "    }\n",
       "</style>\n",
       "<table border=\"1\" class=\"dataframe\">\n",
       "  <thead>\n",
       "    <tr style=\"text-align: right;\">\n",
       "      <th></th>\n",
       "      <th>song</th>\n",
       "      <th>artist(s)</th>\n",
       "    </tr>\n",
       "  </thead>\n",
       "  <tbody>\n",
       "    <tr>\n",
       "      <th>0</th>\n",
       "      <td>Mood</td>\n",
       "      <td>24kGoldn Featuring iann dior</td>\n",
       "    </tr>\n",
       "    <tr>\n",
       "      <th>1</th>\n",
       "      <td>Positions</td>\n",
       "      <td>Ariana Grande</td>\n",
       "    </tr>\n",
       "    <tr>\n",
       "      <th>2</th>\n",
       "      <td>Laugh Now Cry Later</td>\n",
       "      <td>Drake Featuring Lil Durk</td>\n",
       "    </tr>\n",
       "    <tr>\n",
       "      <th>3</th>\n",
       "      <td>Blinding Lights</td>\n",
       "      <td>The Weeknd</td>\n",
       "    </tr>\n",
       "    <tr>\n",
       "      <th>4</th>\n",
       "      <td>I Hope</td>\n",
       "      <td>Gabby Barrett Featuring Charlie Puth</td>\n",
       "    </tr>\n",
       "    <tr>\n",
       "      <th>...</th>\n",
       "      <td>...</td>\n",
       "      <td>...</td>\n",
       "    </tr>\n",
       "    <tr>\n",
       "      <th>95</th>\n",
       "      <td>Happy Does</td>\n",
       "      <td>Kenny Chesney</td>\n",
       "    </tr>\n",
       "    <tr>\n",
       "      <th>96</th>\n",
       "      <td>So Done</td>\n",
       "      <td>The Kid LAROI</td>\n",
       "    </tr>\n",
       "    <tr>\n",
       "      <th>97</th>\n",
       "      <td>Thick</td>\n",
       "      <td>DJ Chose Featuring BeatKing</td>\n",
       "    </tr>\n",
       "    <tr>\n",
       "      <th>98</th>\n",
       "      <td>La Toxica</td>\n",
       "      <td>Farruko</td>\n",
       "    </tr>\n",
       "    <tr>\n",
       "      <th>99</th>\n",
       "      <td>Take You Dancing</td>\n",
       "      <td>Jason Derulo</td>\n",
       "    </tr>\n",
       "  </tbody>\n",
       "</table>\n",
       "<p>100 rows × 2 columns</p>\n",
       "</div>"
      ],
      "text/plain": [
       "                   song                             artist(s)\n",
       "0                  Mood          24kGoldn Featuring iann dior\n",
       "1             Positions                         Ariana Grande\n",
       "2   Laugh Now Cry Later              Drake Featuring Lil Durk\n",
       "3       Blinding Lights                            The Weeknd\n",
       "4                I Hope  Gabby Barrett Featuring Charlie Puth\n",
       "..                  ...                                   ...\n",
       "95           Happy Does                         Kenny Chesney\n",
       "96              So Done                         The Kid LAROI\n",
       "97                Thick           DJ Chose Featuring BeatKing\n",
       "98            La Toxica                               Farruko\n",
       "99     Take You Dancing                          Jason Derulo\n",
       "\n",
       "[100 rows x 2 columns]"
      ]
     },
     "execution_count": 11,
     "metadata": {},
     "output_type": "execute_result"
    }
   ],
   "source": [
    "billboard_hot100"
   ]
  },
  {
   "cell_type": "markdown",
   "metadata": {},
   "source": [
    "## Spotify API"
   ]
  },
  {
   "cell_type": "code",
   "execution_count": 12,
   "metadata": {},
   "outputs": [],
   "source": [
    "#Import library\n",
    "import spotipy\n",
    "from spotipy.oauth2 import SpotifyClientCredentials"
   ]
  },
  {
   "cell_type": "code",
   "execution_count": 13,
   "metadata": {},
   "outputs": [],
   "source": [
    "#Initialize SpotiPy with user credentias\n",
    "spotify = spotipy.Spotify(client_credentials_manager=SpotifyClientCredentials(\n",
    "    client_id=\"client\",\n",
    "    client_secret=\"secret\"))"
   ]
  },
  {
   "cell_type": "markdown",
   "metadata": {},
   "source": [
    "### Obtaining Info Playlist"
   ]
  },
  {
   "cell_type": "code",
   "execution_count": 14,
   "metadata": {},
   "outputs": [],
   "source": [
    "def get_playlist_tracks(username,playlist_id):\n",
    "    results = spotify.user_playlist_tracks(username,playlist_id)\n",
    "    tracks = results['items']\n",
    "    while results['next']:\n",
    "        results = spotify.next(results)\n",
    "        tracks.extend(results['items'])\n",
    "    return tracks\n",
    "\n",
    "playlist = get_playlist_tracks(\"spotify\", \"spotify:playlist:1G8IpkZKobrIlXcVPoSIuf\")"
   ]
  },
  {
   "cell_type": "code",
   "execution_count": 15,
   "metadata": {},
   "outputs": [],
   "source": [
    "def playlist_info(playlist):\n",
    "    song_names = []\n",
    "    artist_names = []\n",
    "    song_URI = []\n",
    "    features = []\n",
    "    i = 0\n",
    "    \n",
    "    for result in playlist:\n",
    "        if result[\"is_local\"] == False:\n",
    "            i += 1\n",
    "            song_names.append(result[\"track\"][\"name\"])\n",
    "            artist_names.append(result[\"track\"][\"artists\"][0][\"name\"])\n",
    "            song_URI.append(result[\"track\"][\"uri\"])\n",
    "            if i == 100:\n",
    "                i = 0\n",
    "                features.append(spotify.audio_features(song_URI))\n",
    "                song_URI = []    \n",
    "    \n",
    "    features.append(spotify.audio_features(song_URI)) \n",
    "    \n",
    "    correct_feature = [f for feature in features for f in feature]\n",
    "    \n",
    "    return song_names, artist_names, correct_feature\n",
    "\n",
    "songs, artists, correct_feature = playlist_info(playlist)"
   ]
  },
  {
   "cell_type": "code",
   "execution_count": 16,
   "metadata": {},
   "outputs": [],
   "source": [
    "def total_features(info_features):\n",
    "    mode = []\n",
    "    acousticness = []\n",
    "    danceability = []\n",
    "    energy = []\n",
    "    instrumentalness = []\n",
    "    liveness = []\n",
    "    loudness = []\n",
    "    speechiness = []\n",
    "    valence = []\n",
    "    tempo = []\n",
    "    \n",
    "    for feature in info_features:\n",
    "        mode.append(feature[\"mode\"])\n",
    "        acousticness.append(feature[\"acousticness\"])\n",
    "        danceability.append(feature[\"danceability\"])\n",
    "        energy.append(feature[\"energy\"])\n",
    "        instrumentalness.append(feature[\"instrumentalness\"])\n",
    "        liveness.append(feature[\"liveness\"])\n",
    "        loudness.append(feature[\"loudness\"])\n",
    "        speechiness.append(feature[\"speechiness\"])\n",
    "        valence.append(feature[\"valence\"])\n",
    "        tempo.append(feature[\"tempo\"])\n",
    "        \n",
    "    \n",
    "    df = pd.DataFrame({\"song\":songs,\n",
    "                       \"artist\":artists,\n",
    "                       \"danceability\":danceability,\n",
    "                       \"energy\":energy,\n",
    "                       \"mode\":mode,\n",
    "                       \"acousticness\":acousticness,\n",
    "                       \"instrumentalness\":instrumentalness,\n",
    "                       \"liveness\":liveness,\n",
    "                       \"loudness\":loudness,\n",
    "                       \"speechiness\":speechiness,\n",
    "                       \"valence\":valence,\n",
    "                       \"tempo\":tempo\n",
    "                      })\n",
    "    \n",
    "    return df\n",
    "\n",
    "complete_list_song_artist_features = total_features(correct_feature)"
   ]
  },
  {
   "cell_type": "code",
   "execution_count": 17,
   "metadata": {
    "scrolled": false
   },
   "outputs": [
    {
     "data": {
      "text/html": [
       "<div>\n",
       "<style scoped>\n",
       "    .dataframe tbody tr th:only-of-type {\n",
       "        vertical-align: middle;\n",
       "    }\n",
       "\n",
       "    .dataframe tbody tr th {\n",
       "        vertical-align: top;\n",
       "    }\n",
       "\n",
       "    .dataframe thead th {\n",
       "        text-align: right;\n",
       "    }\n",
       "</style>\n",
       "<table border=\"1\" class=\"dataframe\">\n",
       "  <thead>\n",
       "    <tr style=\"text-align: right;\">\n",
       "      <th></th>\n",
       "      <th>song</th>\n",
       "      <th>artist</th>\n",
       "      <th>danceability</th>\n",
       "      <th>energy</th>\n",
       "      <th>mode</th>\n",
       "      <th>acousticness</th>\n",
       "      <th>instrumentalness</th>\n",
       "      <th>liveness</th>\n",
       "      <th>loudness</th>\n",
       "      <th>speechiness</th>\n",
       "      <th>valence</th>\n",
       "      <th>tempo</th>\n",
       "    </tr>\n",
       "  </thead>\n",
       "  <tbody>\n",
       "    <tr>\n",
       "      <th>0</th>\n",
       "      <td>Like a Rolling Stone</td>\n",
       "      <td>Bob Dylan</td>\n",
       "      <td>0.483</td>\n",
       "      <td>0.721</td>\n",
       "      <td>1</td>\n",
       "      <td>0.729000</td>\n",
       "      <td>0.000000</td>\n",
       "      <td>0.1890</td>\n",
       "      <td>-6.836</td>\n",
       "      <td>0.0320</td>\n",
       "      <td>0.562</td>\n",
       "      <td>95.261</td>\n",
       "    </tr>\n",
       "    <tr>\n",
       "      <th>1</th>\n",
       "      <td>Smells Like Teen Spirit</td>\n",
       "      <td>Nirvana</td>\n",
       "      <td>0.485</td>\n",
       "      <td>0.863</td>\n",
       "      <td>1</td>\n",
       "      <td>0.000012</td>\n",
       "      <td>0.016200</td>\n",
       "      <td>0.1380</td>\n",
       "      <td>-9.027</td>\n",
       "      <td>0.0495</td>\n",
       "      <td>0.767</td>\n",
       "      <td>116.835</td>\n",
       "    </tr>\n",
       "    <tr>\n",
       "      <th>2</th>\n",
       "      <td>A Day In The Life - Remastered</td>\n",
       "      <td>The Beatles</td>\n",
       "      <td>0.364</td>\n",
       "      <td>0.457</td>\n",
       "      <td>0</td>\n",
       "      <td>0.290000</td>\n",
       "      <td>0.000106</td>\n",
       "      <td>0.9220</td>\n",
       "      <td>-14.162</td>\n",
       "      <td>0.0675</td>\n",
       "      <td>0.175</td>\n",
       "      <td>163.219</td>\n",
       "    </tr>\n",
       "    <tr>\n",
       "      <th>3</th>\n",
       "      <td>Good Vibrations (Mono)</td>\n",
       "      <td>The Beach Boys</td>\n",
       "      <td>0.398</td>\n",
       "      <td>0.413</td>\n",
       "      <td>1</td>\n",
       "      <td>0.082200</td>\n",
       "      <td>0.000025</td>\n",
       "      <td>0.0891</td>\n",
       "      <td>-10.934</td>\n",
       "      <td>0.0388</td>\n",
       "      <td>0.331</td>\n",
       "      <td>133.574</td>\n",
       "    </tr>\n",
       "    <tr>\n",
       "      <th>4</th>\n",
       "      <td>(I Can't Get No) Satisfaction - Mono Version /...</td>\n",
       "      <td>The Rolling Stones</td>\n",
       "      <td>0.725</td>\n",
       "      <td>0.853</td>\n",
       "      <td>1</td>\n",
       "      <td>0.034800</td>\n",
       "      <td>0.127000</td>\n",
       "      <td>0.1960</td>\n",
       "      <td>-7.842</td>\n",
       "      <td>0.0353</td>\n",
       "      <td>0.904</td>\n",
       "      <td>136.282</td>\n",
       "    </tr>\n",
       "    <tr>\n",
       "      <th>...</th>\n",
       "      <td>...</td>\n",
       "      <td>...</td>\n",
       "      <td>...</td>\n",
       "      <td>...</td>\n",
       "      <td>...</td>\n",
       "      <td>...</td>\n",
       "      <td>...</td>\n",
       "      <td>...</td>\n",
       "      <td>...</td>\n",
       "      <td>...</td>\n",
       "      <td>...</td>\n",
       "      <td>...</td>\n",
       "    </tr>\n",
       "    <tr>\n",
       "      <th>9931</th>\n",
       "      <td>Here It Goes Again</td>\n",
       "      <td>OK Go</td>\n",
       "      <td>0.537</td>\n",
       "      <td>0.882</td>\n",
       "      <td>1</td>\n",
       "      <td>0.000342</td>\n",
       "      <td>0.000091</td>\n",
       "      <td>0.1200</td>\n",
       "      <td>-2.306</td>\n",
       "      <td>0.0403</td>\n",
       "      <td>0.810</td>\n",
       "      <td>145.729</td>\n",
       "    </tr>\n",
       "    <tr>\n",
       "      <th>9932</th>\n",
       "      <td>Be Quiet and Drive (Far Away)</td>\n",
       "      <td>Deftones</td>\n",
       "      <td>0.206</td>\n",
       "      <td>0.965</td>\n",
       "      <td>1</td>\n",
       "      <td>0.000010</td>\n",
       "      <td>0.827000</td>\n",
       "      <td>0.3670</td>\n",
       "      <td>-5.116</td>\n",
       "      <td>0.0790</td>\n",
       "      <td>0.168</td>\n",
       "      <td>92.615</td>\n",
       "    </tr>\n",
       "    <tr>\n",
       "      <th>9933</th>\n",
       "      <td>That Is Rock’n’Roll</td>\n",
       "      <td>The Coasters</td>\n",
       "      <td>0.518</td>\n",
       "      <td>0.732</td>\n",
       "      <td>1</td>\n",
       "      <td>0.769000</td>\n",
       "      <td>0.000000</td>\n",
       "      <td>0.1500</td>\n",
       "      <td>-9.358</td>\n",
       "      <td>0.1790</td>\n",
       "      <td>0.782</td>\n",
       "      <td>129.426</td>\n",
       "    </tr>\n",
       "    <tr>\n",
       "      <th>9934</th>\n",
       "      <td>She Cracked</td>\n",
       "      <td>Jonathan Richman &amp; The Modern Lovers</td>\n",
       "      <td>0.515</td>\n",
       "      <td>0.843</td>\n",
       "      <td>1</td>\n",
       "      <td>0.000131</td>\n",
       "      <td>0.000064</td>\n",
       "      <td>0.2030</td>\n",
       "      <td>-6.839</td>\n",
       "      <td>0.0293</td>\n",
       "      <td>0.520</td>\n",
       "      <td>146.325</td>\n",
       "    </tr>\n",
       "    <tr>\n",
       "      <th>9935</th>\n",
       "      <td>I Need A Sign</td>\n",
       "      <td>Badly Drawn Boy</td>\n",
       "      <td>0.527</td>\n",
       "      <td>0.655</td>\n",
       "      <td>1</td>\n",
       "      <td>0.031800</td>\n",
       "      <td>0.347000</td>\n",
       "      <td>0.0853</td>\n",
       "      <td>-9.001</td>\n",
       "      <td>0.0320</td>\n",
       "      <td>0.623</td>\n",
       "      <td>118.515</td>\n",
       "    </tr>\n",
       "  </tbody>\n",
       "</table>\n",
       "<p>9936 rows × 12 columns</p>\n",
       "</div>"
      ],
      "text/plain": [
       "                                                   song  \\\n",
       "0                                  Like a Rolling Stone   \n",
       "1                               Smells Like Teen Spirit   \n",
       "2                        A Day In The Life - Remastered   \n",
       "3                                Good Vibrations (Mono)   \n",
       "4     (I Can't Get No) Satisfaction - Mono Version /...   \n",
       "...                                                 ...   \n",
       "9931                                 Here It Goes Again   \n",
       "9932                      Be Quiet and Drive (Far Away)   \n",
       "9933                                That Is Rock’n’Roll   \n",
       "9934                                        She Cracked   \n",
       "9935                                      I Need A Sign   \n",
       "\n",
       "                                    artist  danceability  energy  mode  \\\n",
       "0                                Bob Dylan         0.483   0.721     1   \n",
       "1                                  Nirvana         0.485   0.863     1   \n",
       "2                              The Beatles         0.364   0.457     0   \n",
       "3                           The Beach Boys         0.398   0.413     1   \n",
       "4                       The Rolling Stones         0.725   0.853     1   \n",
       "...                                    ...           ...     ...   ...   \n",
       "9931                                 OK Go         0.537   0.882     1   \n",
       "9932                              Deftones         0.206   0.965     1   \n",
       "9933                          The Coasters         0.518   0.732     1   \n",
       "9934  Jonathan Richman & The Modern Lovers         0.515   0.843     1   \n",
       "9935                       Badly Drawn Boy         0.527   0.655     1   \n",
       "\n",
       "      acousticness  instrumentalness  liveness  loudness  speechiness  \\\n",
       "0         0.729000          0.000000    0.1890    -6.836       0.0320   \n",
       "1         0.000012          0.016200    0.1380    -9.027       0.0495   \n",
       "2         0.290000          0.000106    0.9220   -14.162       0.0675   \n",
       "3         0.082200          0.000025    0.0891   -10.934       0.0388   \n",
       "4         0.034800          0.127000    0.1960    -7.842       0.0353   \n",
       "...            ...               ...       ...       ...          ...   \n",
       "9931      0.000342          0.000091    0.1200    -2.306       0.0403   \n",
       "9932      0.000010          0.827000    0.3670    -5.116       0.0790   \n",
       "9933      0.769000          0.000000    0.1500    -9.358       0.1790   \n",
       "9934      0.000131          0.000064    0.2030    -6.839       0.0293   \n",
       "9935      0.031800          0.347000    0.0853    -9.001       0.0320   \n",
       "\n",
       "      valence    tempo  \n",
       "0       0.562   95.261  \n",
       "1       0.767  116.835  \n",
       "2       0.175  163.219  \n",
       "3       0.331  133.574  \n",
       "4       0.904  136.282  \n",
       "...       ...      ...  \n",
       "9931    0.810  145.729  \n",
       "9932    0.168   92.615  \n",
       "9933    0.782  129.426  \n",
       "9934    0.520  146.325  \n",
       "9935    0.623  118.515  \n",
       "\n",
       "[9936 rows x 12 columns]"
      ]
     },
     "execution_count": 17,
     "metadata": {},
     "output_type": "execute_result"
    }
   ],
   "source": [
    "complete_list_song_artist_features"
   ]
  },
  {
   "cell_type": "markdown",
   "metadata": {},
   "source": [
    "#### Clustering"
   ]
  },
  {
   "cell_type": "code",
   "execution_count": 18,
   "metadata": {},
   "outputs": [],
   "source": [
    "playlist_for_cluster = complete_list_song_artist_features.copy()"
   ]
  },
  {
   "cell_type": "code",
   "execution_count": 19,
   "metadata": {
    "scrolled": true
   },
   "outputs": [
    {
     "data": {
      "text/html": [
       "<div>\n",
       "<style scoped>\n",
       "    .dataframe tbody tr th:only-of-type {\n",
       "        vertical-align: middle;\n",
       "    }\n",
       "\n",
       "    .dataframe tbody tr th {\n",
       "        vertical-align: top;\n",
       "    }\n",
       "\n",
       "    .dataframe thead th {\n",
       "        text-align: right;\n",
       "    }\n",
       "</style>\n",
       "<table border=\"1\" class=\"dataframe\">\n",
       "  <thead>\n",
       "    <tr style=\"text-align: right;\">\n",
       "      <th></th>\n",
       "      <th>danceability</th>\n",
       "      <th>energy</th>\n",
       "      <th>mode</th>\n",
       "      <th>acousticness</th>\n",
       "      <th>instrumentalness</th>\n",
       "      <th>liveness</th>\n",
       "      <th>loudness</th>\n",
       "      <th>speechiness</th>\n",
       "      <th>valence</th>\n",
       "      <th>tempo</th>\n",
       "    </tr>\n",
       "  </thead>\n",
       "  <tbody>\n",
       "    <tr>\n",
       "      <th>0</th>\n",
       "      <td>0.483</td>\n",
       "      <td>0.721</td>\n",
       "      <td>1</td>\n",
       "      <td>0.729000</td>\n",
       "      <td>0.000000</td>\n",
       "      <td>0.1890</td>\n",
       "      <td>-6.836</td>\n",
       "      <td>0.0320</td>\n",
       "      <td>0.562</td>\n",
       "      <td>95.261</td>\n",
       "    </tr>\n",
       "    <tr>\n",
       "      <th>1</th>\n",
       "      <td>0.485</td>\n",
       "      <td>0.863</td>\n",
       "      <td>1</td>\n",
       "      <td>0.000012</td>\n",
       "      <td>0.016200</td>\n",
       "      <td>0.1380</td>\n",
       "      <td>-9.027</td>\n",
       "      <td>0.0495</td>\n",
       "      <td>0.767</td>\n",
       "      <td>116.835</td>\n",
       "    </tr>\n",
       "    <tr>\n",
       "      <th>2</th>\n",
       "      <td>0.364</td>\n",
       "      <td>0.457</td>\n",
       "      <td>0</td>\n",
       "      <td>0.290000</td>\n",
       "      <td>0.000106</td>\n",
       "      <td>0.9220</td>\n",
       "      <td>-14.162</td>\n",
       "      <td>0.0675</td>\n",
       "      <td>0.175</td>\n",
       "      <td>163.219</td>\n",
       "    </tr>\n",
       "    <tr>\n",
       "      <th>3</th>\n",
       "      <td>0.398</td>\n",
       "      <td>0.413</td>\n",
       "      <td>1</td>\n",
       "      <td>0.082200</td>\n",
       "      <td>0.000025</td>\n",
       "      <td>0.0891</td>\n",
       "      <td>-10.934</td>\n",
       "      <td>0.0388</td>\n",
       "      <td>0.331</td>\n",
       "      <td>133.574</td>\n",
       "    </tr>\n",
       "    <tr>\n",
       "      <th>4</th>\n",
       "      <td>0.725</td>\n",
       "      <td>0.853</td>\n",
       "      <td>1</td>\n",
       "      <td>0.034800</td>\n",
       "      <td>0.127000</td>\n",
       "      <td>0.1960</td>\n",
       "      <td>-7.842</td>\n",
       "      <td>0.0353</td>\n",
       "      <td>0.904</td>\n",
       "      <td>136.282</td>\n",
       "    </tr>\n",
       "  </tbody>\n",
       "</table>\n",
       "</div>"
      ],
      "text/plain": [
       "   danceability  energy  mode  acousticness  instrumentalness  liveness  \\\n",
       "0         0.483   0.721     1      0.729000          0.000000    0.1890   \n",
       "1         0.485   0.863     1      0.000012          0.016200    0.1380   \n",
       "2         0.364   0.457     0      0.290000          0.000106    0.9220   \n",
       "3         0.398   0.413     1      0.082200          0.000025    0.0891   \n",
       "4         0.725   0.853     1      0.034800          0.127000    0.1960   \n",
       "\n",
       "   loudness  speechiness  valence    tempo  \n",
       "0    -6.836       0.0320    0.562   95.261  \n",
       "1    -9.027       0.0495    0.767  116.835  \n",
       "2   -14.162       0.0675    0.175  163.219  \n",
       "3   -10.934       0.0388    0.331  133.574  \n",
       "4    -7.842       0.0353    0.904  136.282  "
      ]
     },
     "execution_count": 19,
     "metadata": {},
     "output_type": "execute_result"
    }
   ],
   "source": [
    "playlist_for_cluster.drop(labels=[\"song\", \"artist\"], axis=1, inplace=True)\n",
    "playlist_for_cluster.head()"
   ]
  },
  {
   "cell_type": "code",
   "execution_count": 20,
   "metadata": {},
   "outputs": [],
   "source": [
    "#initialize the transformer\n",
    "scaler = StandardScaler()"
   ]
  },
  {
   "cell_type": "code",
   "execution_count": 21,
   "metadata": {},
   "outputs": [],
   "source": [
    "playlist_scaled = scaler.fit_transform(playlist_for_cluster)"
   ]
  },
  {
   "cell_type": "code",
   "execution_count": 22,
   "metadata": {},
   "outputs": [
    {
     "data": {
      "text/html": [
       "<div>\n",
       "<style scoped>\n",
       "    .dataframe tbody tr th:only-of-type {\n",
       "        vertical-align: middle;\n",
       "    }\n",
       "\n",
       "    .dataframe tbody tr th {\n",
       "        vertical-align: top;\n",
       "    }\n",
       "\n",
       "    .dataframe thead th {\n",
       "        text-align: right;\n",
       "    }\n",
       "</style>\n",
       "<table border=\"1\" class=\"dataframe\">\n",
       "  <thead>\n",
       "    <tr style=\"text-align: right;\">\n",
       "      <th></th>\n",
       "      <th>0</th>\n",
       "      <th>1</th>\n",
       "      <th>2</th>\n",
       "      <th>3</th>\n",
       "      <th>4</th>\n",
       "      <th>5</th>\n",
       "      <th>6</th>\n",
       "      <th>7</th>\n",
       "      <th>8</th>\n",
       "      <th>9</th>\n",
       "    </tr>\n",
       "  </thead>\n",
       "  <tbody>\n",
       "    <tr>\n",
       "      <th>0</th>\n",
       "      <td>-0.481845</td>\n",
       "      <td>0.409299</td>\n",
       "      <td>0.648886</td>\n",
       "      <td>1.387547</td>\n",
       "      <td>-0.444967</td>\n",
       "      <td>-0.008453</td>\n",
       "      <td>0.598586</td>\n",
       "      <td>-0.516460</td>\n",
       "      <td>-0.060479</td>\n",
       "      <td>-0.948046</td>\n",
       "    </tr>\n",
       "    <tr>\n",
       "      <th>1</th>\n",
       "      <td>-0.469756</td>\n",
       "      <td>1.025072</td>\n",
       "      <td>0.648886</td>\n",
       "      <td>-0.922023</td>\n",
       "      <td>-0.376796</td>\n",
       "      <td>-0.337948</td>\n",
       "      <td>0.027648</td>\n",
       "      <td>-0.280361</td>\n",
       "      <td>0.774640</td>\n",
       "      <td>-0.175476</td>\n",
       "    </tr>\n",
       "    <tr>\n",
       "      <th>2</th>\n",
       "      <td>-1.201144</td>\n",
       "      <td>-0.735516</td>\n",
       "      <td>-1.541104</td>\n",
       "      <td>-0.003287</td>\n",
       "      <td>-0.444521</td>\n",
       "      <td>4.727235</td>\n",
       "      <td>-1.310448</td>\n",
       "      <td>-0.037516</td>\n",
       "      <td>-1.637020</td>\n",
       "      <td>1.485545</td>\n",
       "    </tr>\n",
       "    <tr>\n",
       "      <th>3</th>\n",
       "      <td>-0.995630</td>\n",
       "      <td>-0.926319</td>\n",
       "      <td>0.648886</td>\n",
       "      <td>-0.661637</td>\n",
       "      <td>-0.444861</td>\n",
       "      <td>-0.653876</td>\n",
       "      <td>-0.469285</td>\n",
       "      <td>-0.424719</td>\n",
       "      <td>-1.001515</td>\n",
       "      <td>0.423951</td>\n",
       "    </tr>\n",
       "    <tr>\n",
       "      <th>4</th>\n",
       "      <td>0.980931</td>\n",
       "      <td>0.981707</td>\n",
       "      <td>0.648886</td>\n",
       "      <td>-0.811809</td>\n",
       "      <td>0.089462</td>\n",
       "      <td>0.036772</td>\n",
       "      <td>0.336439</td>\n",
       "      <td>-0.471938</td>\n",
       "      <td>1.332744</td>\n",
       "      <td>0.520925</td>\n",
       "    </tr>\n",
       "    <tr>\n",
       "      <th>...</th>\n",
       "      <td>...</td>\n",
       "      <td>...</td>\n",
       "      <td>...</td>\n",
       "      <td>...</td>\n",
       "      <td>...</td>\n",
       "      <td>...</td>\n",
       "      <td>...</td>\n",
       "      <td>...</td>\n",
       "      <td>...</td>\n",
       "      <td>...</td>\n",
       "    </tr>\n",
       "    <tr>\n",
       "      <th>9931</th>\n",
       "      <td>-0.155441</td>\n",
       "      <td>1.107464</td>\n",
       "      <td>0.648886</td>\n",
       "      <td>-0.920978</td>\n",
       "      <td>-0.444586</td>\n",
       "      <td>-0.454240</td>\n",
       "      <td>1.779028</td>\n",
       "      <td>-0.404482</td>\n",
       "      <td>0.949812</td>\n",
       "      <td>0.859225</td>\n",
       "    </tr>\n",
       "    <tr>\n",
       "      <th>9932</th>\n",
       "      <td>-2.156180</td>\n",
       "      <td>1.467387</td>\n",
       "      <td>0.648886</td>\n",
       "      <td>-0.922030</td>\n",
       "      <td>3.035139</td>\n",
       "      <td>1.141551</td>\n",
       "      <td>1.046789</td>\n",
       "      <td>0.117634</td>\n",
       "      <td>-1.665537</td>\n",
       "      <td>-1.042799</td>\n",
       "    </tr>\n",
       "    <tr>\n",
       "      <th>9933</th>\n",
       "      <td>-0.270287</td>\n",
       "      <td>0.457000</td>\n",
       "      <td>0.648886</td>\n",
       "      <td>1.514274</td>\n",
       "      <td>-0.444967</td>\n",
       "      <td>-0.260420</td>\n",
       "      <td>-0.058605</td>\n",
       "      <td>1.466771</td>\n",
       "      <td>0.835747</td>\n",
       "      <td>0.275411</td>\n",
       "    </tr>\n",
       "    <tr>\n",
       "      <th>9934</th>\n",
       "      <td>-0.288420</td>\n",
       "      <td>0.938343</td>\n",
       "      <td>0.648886</td>\n",
       "      <td>-0.921647</td>\n",
       "      <td>-0.444699</td>\n",
       "      <td>0.081997</td>\n",
       "      <td>0.597804</td>\n",
       "      <td>-0.552887</td>\n",
       "      <td>-0.231576</td>\n",
       "      <td>0.880568</td>\n",
       "    </tr>\n",
       "    <tr>\n",
       "      <th>9935</th>\n",
       "      <td>-0.215886</td>\n",
       "      <td>0.123096</td>\n",
       "      <td>0.648886</td>\n",
       "      <td>-0.821313</td>\n",
       "      <td>1.015246</td>\n",
       "      <td>-0.678426</td>\n",
       "      <td>0.034423</td>\n",
       "      <td>-0.516460</td>\n",
       "      <td>0.188020</td>\n",
       "      <td>-0.115315</td>\n",
       "    </tr>\n",
       "  </tbody>\n",
       "</table>\n",
       "<p>9936 rows × 10 columns</p>\n",
       "</div>"
      ],
      "text/plain": [
       "             0         1         2         3         4         5         6  \\\n",
       "0    -0.481845  0.409299  0.648886  1.387547 -0.444967 -0.008453  0.598586   \n",
       "1    -0.469756  1.025072  0.648886 -0.922023 -0.376796 -0.337948  0.027648   \n",
       "2    -1.201144 -0.735516 -1.541104 -0.003287 -0.444521  4.727235 -1.310448   \n",
       "3    -0.995630 -0.926319  0.648886 -0.661637 -0.444861 -0.653876 -0.469285   \n",
       "4     0.980931  0.981707  0.648886 -0.811809  0.089462  0.036772  0.336439   \n",
       "...        ...       ...       ...       ...       ...       ...       ...   \n",
       "9931 -0.155441  1.107464  0.648886 -0.920978 -0.444586 -0.454240  1.779028   \n",
       "9932 -2.156180  1.467387  0.648886 -0.922030  3.035139  1.141551  1.046789   \n",
       "9933 -0.270287  0.457000  0.648886  1.514274 -0.444967 -0.260420 -0.058605   \n",
       "9934 -0.288420  0.938343  0.648886 -0.921647 -0.444699  0.081997  0.597804   \n",
       "9935 -0.215886  0.123096  0.648886 -0.821313  1.015246 -0.678426  0.034423   \n",
       "\n",
       "             7         8         9  \n",
       "0    -0.516460 -0.060479 -0.948046  \n",
       "1    -0.280361  0.774640 -0.175476  \n",
       "2    -0.037516 -1.637020  1.485545  \n",
       "3    -0.424719 -1.001515  0.423951  \n",
       "4    -0.471938  1.332744  0.520925  \n",
       "...        ...       ...       ...  \n",
       "9931 -0.404482  0.949812  0.859225  \n",
       "9932  0.117634 -1.665537 -1.042799  \n",
       "9933  1.466771  0.835747  0.275411  \n",
       "9934 -0.552887 -0.231576  0.880568  \n",
       "9935 -0.516460  0.188020 -0.115315  \n",
       "\n",
       "[9936 rows x 10 columns]"
      ]
     },
     "execution_count": 22,
     "metadata": {},
     "output_type": "execute_result"
    }
   ],
   "source": [
    "pd.DataFrame(playlist_scaled)"
   ]
  },
  {
   "cell_type": "code",
   "execution_count": 23,
   "metadata": {},
   "outputs": [],
   "source": [
    "#Initialize the model\n",
    "kmeans = KMeans(n_clusters=8)"
   ]
  },
  {
   "cell_type": "code",
   "execution_count": 24,
   "metadata": {},
   "outputs": [
    {
     "data": {
      "text/plain": [
       "KMeans()"
      ]
     },
     "execution_count": 24,
     "metadata": {},
     "output_type": "execute_result"
    }
   ],
   "source": [
    "#Fit the model\n",
    "kmeans.fit(playlist_scaled)"
   ]
  },
  {
   "cell_type": "code",
   "execution_count": 25,
   "metadata": {},
   "outputs": [],
   "source": [
    "# Predicting / Assigning the clusters:\n",
    "clusters = kmeans.predict(playlist_scaled)"
   ]
  },
  {
   "cell_type": "code",
   "execution_count": 26,
   "metadata": {},
   "outputs": [
    {
     "data": {
      "text/plain": [
       "array([6, 4, 3, ..., 6, 0, 4])"
      ]
     },
     "execution_count": 26,
     "metadata": {},
     "output_type": "execute_result"
    }
   ],
   "source": [
    "clusters"
   ]
  },
  {
   "cell_type": "code",
   "execution_count": 27,
   "metadata": {},
   "outputs": [
    {
     "data": {
      "text/plain": [
       "4    2036\n",
       "2    1610\n",
       "0    1556\n",
       "6    1386\n",
       "1    1336\n",
       "5     881\n",
       "7     583\n",
       "3     548\n",
       "dtype: int64"
      ]
     },
     "execution_count": 27,
     "metadata": {},
     "output_type": "execute_result"
    }
   ],
   "source": [
    "# Check the size of the clusters\n",
    "pd.Series(clusters).value_counts()"
   ]
  },
  {
   "cell_type": "markdown",
   "metadata": {},
   "source": [
    "#### Finding the inertia_ and optimal n of clusters"
   ]
  },
  {
   "cell_type": "code",
   "execution_count": 28,
   "metadata": {},
   "outputs": [
    {
     "data": {
      "text/plain": [
       "52155.01916762871"
      ]
     },
     "execution_count": 28,
     "metadata": {},
     "output_type": "execute_result"
    }
   ],
   "source": [
    "kmeans.inertia_"
   ]
  },
  {
   "cell_type": "markdown",
   "metadata": {},
   "source": [
    "Elbow Method"
   ]
  },
  {
   "cell_type": "code",
   "execution_count": 29,
   "metadata": {},
   "outputs": [
    {
     "name": "stdout",
     "output_type": "stream",
     "text": [
      "[82377.34139606837, 74459.50840492024, 68053.54285176353, 62374.32904808918, 57883.96439182633, 54318.57435478649, 52155.68622991505, 50105.87947225333, 48297.71249557877, 46697.90143808904, 45225.78221788662, 44345.69118493437, 43156.34063258693, 42245.69639888059, 41319.06605412997, 40772.194888458485, 39888.91279743525, 39276.42482097941]\n"
     ]
    }
   ],
   "source": [
    "K = range(2, 20)\n",
    "\n",
    "inertia = []\n",
    "\n",
    "for k in K:\n",
    "    kmeans = KMeans(n_clusters=k)\n",
    "    kmeans.fit(playlist_scaled)\n",
    "    inertia.append(kmeans.inertia_)\n",
    "\n",
    "print(inertia)"
   ]
  },
  {
   "cell_type": "code",
   "execution_count": 30,
   "metadata": {},
   "outputs": [
    {
     "data": {
      "text/plain": [
       "Text(0.5, 1.0, 'Elbow Method showing the optimal k')"
      ]
     },
     "execution_count": 30,
     "metadata": {},
     "output_type": "execute_result"
    },
    {
     "data": {
      "image/png": "[encoded data removed]",
      "text/plain": [
       "<Figure size 1152x576 with 1 Axes>"
      ]
     },
     "metadata": {
      "needs_background": "light"
     },
     "output_type": "display_data"
    }
   ],
   "source": [
    "# Plot the results\n",
    "import matplotlib.pyplot as plt\n",
    "import numpy as np\n",
    "%matplotlib inline\n",
    "\n",
    "plt.figure(figsize=(16,8))\n",
    "plt.plot(K, inertia, 'bx-')\n",
    "plt.xlabel('k')\n",
    "plt.ylabel('inertia')\n",
    "plt.xticks(np.arange(min(K), max(K)+1, 1.0))\n",
    "plt.title('Elbow Method showing the optimal k')"
   ]
  },
  {
   "cell_type": "markdown",
   "metadata": {},
   "source": [
    "Silhoutte Score"
   ]
  },
  {
   "cell_type": "code",
   "execution_count": 31,
   "metadata": {},
   "outputs": [],
   "source": [
    "from sklearn.metrics import silhouette_score\n",
    "\n",
    "# repeat the same process, now with the silhouette score\n",
    "K = range(2, 20)\n",
    "silhouette = []\n",
    "\n",
    "for k in K:\n",
    "    kmeans = KMeans(n_clusters=k)\n",
    "    kmeans.fit(playlist_scaled)\n",
    "    silhouette.append(silhouette_score(X=playlist_scaled, labels=kmeans.predict(playlist_scaled)))"
   ]
  },
  {
   "cell_type": "code",
   "execution_count": 32,
   "metadata": {},
   "outputs": [
    {
     "data": {
      "text/plain": [
       "Text(0.5, 1.0, 'Elbow Method showing the optimal k')"
      ]
     },
     "execution_count": 32,
     "metadata": {},
     "output_type": "execute_result"
    },
    {
     "data": {
      "image/png": "[encoded data removed]",
      "text/plain": [
       "<Figure size 1152x576 with 1 Axes>"
      ]
     },
     "metadata": {
      "needs_background": "light"
     },
     "output_type": "display_data"
    }
   ],
   "source": [
    "# plot\n",
    "plt.figure(figsize=(16,8))\n",
    "plt.plot(K, silhouette, 'bx-')\n",
    "plt.xlabel('k')\n",
    "plt.ylabel('silhouette score')\n",
    "plt.xticks(np.arange(min(K), max(K)+1, 1.0))\n",
    "plt.title('Elbow Method showing the optimal k')"
   ]
  },
  {
   "cell_type": "markdown",
   "metadata": {},
   "source": [
    "##### The proper amount of clusters are 7. Let's update KMeans"
   ]
  },
  {
   "cell_type": "code",
   "execution_count": 33,
   "metadata": {},
   "outputs": [],
   "source": [
    "kmeans = KMeans(n_clusters=7)"
   ]
  },
  {
   "cell_type": "code",
   "execution_count": 34,
   "metadata": {},
   "outputs": [
    {
     "data": {
      "text/plain": [
       "KMeans(n_clusters=7)"
      ]
     },
     "execution_count": 34,
     "metadata": {},
     "output_type": "execute_result"
    }
   ],
   "source": [
    "kmeans.fit(playlist_scaled)"
   ]
  },
  {
   "cell_type": "code",
   "execution_count": 35,
   "metadata": {},
   "outputs": [],
   "source": [
    "clusters = kmeans.predict(playlist_scaled)"
   ]
  },
  {
   "cell_type": "code",
   "execution_count": 36,
   "metadata": {},
   "outputs": [
    {
     "data": {
      "text/plain": [
       "1    2540\n",
       "0    1912\n",
       "5    1759\n",
       "6    1647\n",
       "4     908\n",
       "2     588\n",
       "3     582\n",
       "dtype: int64"
      ]
     },
     "execution_count": 36,
     "metadata": {},
     "output_type": "execute_result"
    }
   ],
   "source": [
    "pd.Series(clusters).value_counts()"
   ]
  },
  {
   "cell_type": "code",
   "execution_count": 37,
   "metadata": {},
   "outputs": [],
   "source": [
    "complete_list_song_artist_features[\"cluster\"] = clusters"
   ]
  },
  {
   "cell_type": "code",
   "execution_count": 38,
   "metadata": {},
   "outputs": [
    {
     "data": {
      "text/html": [
       "<div>\n",
       "<style scoped>\n",
       "    .dataframe tbody tr th:only-of-type {\n",
       "        vertical-align: middle;\n",
       "    }\n",
       "\n",
       "    .dataframe tbody tr th {\n",
       "        vertical-align: top;\n",
       "    }\n",
       "\n",
       "    .dataframe thead th {\n",
       "        text-align: right;\n",
       "    }\n",
       "</style>\n",
       "<table border=\"1\" class=\"dataframe\">\n",
       "  <thead>\n",
       "    <tr style=\"text-align: right;\">\n",
       "      <th></th>\n",
       "      <th>song</th>\n",
       "      <th>artist</th>\n",
       "      <th>danceability</th>\n",
       "      <th>energy</th>\n",
       "      <th>mode</th>\n",
       "      <th>acousticness</th>\n",
       "      <th>instrumentalness</th>\n",
       "      <th>liveness</th>\n",
       "      <th>loudness</th>\n",
       "      <th>speechiness</th>\n",
       "      <th>valence</th>\n",
       "      <th>tempo</th>\n",
       "      <th>cluster</th>\n",
       "    </tr>\n",
       "  </thead>\n",
       "  <tbody>\n",
       "    <tr>\n",
       "      <th>0</th>\n",
       "      <td>Like a Rolling Stone</td>\n",
       "      <td>Bob Dylan</td>\n",
       "      <td>0.483</td>\n",
       "      <td>0.721</td>\n",
       "      <td>1</td>\n",
       "      <td>0.729000</td>\n",
       "      <td>0.000000</td>\n",
       "      <td>0.1890</td>\n",
       "      <td>-6.836</td>\n",
       "      <td>0.0320</td>\n",
       "      <td>0.562</td>\n",
       "      <td>95.261</td>\n",
       "      <td>1</td>\n",
       "    </tr>\n",
       "    <tr>\n",
       "      <th>1</th>\n",
       "      <td>Smells Like Teen Spirit</td>\n",
       "      <td>Nirvana</td>\n",
       "      <td>0.485</td>\n",
       "      <td>0.863</td>\n",
       "      <td>1</td>\n",
       "      <td>0.000012</td>\n",
       "      <td>0.016200</td>\n",
       "      <td>0.1380</td>\n",
       "      <td>-9.027</td>\n",
       "      <td>0.0495</td>\n",
       "      <td>0.767</td>\n",
       "      <td>116.835</td>\n",
       "      <td>1</td>\n",
       "    </tr>\n",
       "    <tr>\n",
       "      <th>2</th>\n",
       "      <td>A Day In The Life - Remastered</td>\n",
       "      <td>The Beatles</td>\n",
       "      <td>0.364</td>\n",
       "      <td>0.457</td>\n",
       "      <td>0</td>\n",
       "      <td>0.290000</td>\n",
       "      <td>0.000106</td>\n",
       "      <td>0.9220</td>\n",
       "      <td>-14.162</td>\n",
       "      <td>0.0675</td>\n",
       "      <td>0.175</td>\n",
       "      <td>163.219</td>\n",
       "      <td>3</td>\n",
       "    </tr>\n",
       "    <tr>\n",
       "      <th>3</th>\n",
       "      <td>Good Vibrations (Mono)</td>\n",
       "      <td>The Beach Boys</td>\n",
       "      <td>0.398</td>\n",
       "      <td>0.413</td>\n",
       "      <td>1</td>\n",
       "      <td>0.082200</td>\n",
       "      <td>0.000025</td>\n",
       "      <td>0.0891</td>\n",
       "      <td>-10.934</td>\n",
       "      <td>0.0388</td>\n",
       "      <td>0.331</td>\n",
       "      <td>133.574</td>\n",
       "      <td>5</td>\n",
       "    </tr>\n",
       "    <tr>\n",
       "      <th>4</th>\n",
       "      <td>(I Can't Get No) Satisfaction - Mono Version /...</td>\n",
       "      <td>The Rolling Stones</td>\n",
       "      <td>0.725</td>\n",
       "      <td>0.853</td>\n",
       "      <td>1</td>\n",
       "      <td>0.034800</td>\n",
       "      <td>0.127000</td>\n",
       "      <td>0.1960</td>\n",
       "      <td>-7.842</td>\n",
       "      <td>0.0353</td>\n",
       "      <td>0.904</td>\n",
       "      <td>136.282</td>\n",
       "      <td>1</td>\n",
       "    </tr>\n",
       "  </tbody>\n",
       "</table>\n",
       "</div>"
      ],
      "text/plain": [
       "                                                song              artist  \\\n",
       "0                               Like a Rolling Stone           Bob Dylan   \n",
       "1                            Smells Like Teen Spirit             Nirvana   \n",
       "2                     A Day In The Life - Remastered         The Beatles   \n",
       "3                             Good Vibrations (Mono)      The Beach Boys   \n",
       "4  (I Can't Get No) Satisfaction - Mono Version /...  The Rolling Stones   \n",
       "\n",
       "   danceability  energy  mode  acousticness  instrumentalness  liveness  \\\n",
       "0         0.483   0.721     1      0.729000          0.000000    0.1890   \n",
       "1         0.485   0.863     1      0.000012          0.016200    0.1380   \n",
       "2         0.364   0.457     0      0.290000          0.000106    0.9220   \n",
       "3         0.398   0.413     1      0.082200          0.000025    0.0891   \n",
       "4         0.725   0.853     1      0.034800          0.127000    0.1960   \n",
       "\n",
       "   loudness  speechiness  valence    tempo  cluster  \n",
       "0    -6.836       0.0320    0.562   95.261        1  \n",
       "1    -9.027       0.0495    0.767  116.835        1  \n",
       "2   -14.162       0.0675    0.175  163.219        3  \n",
       "3   -10.934       0.0388    0.331  133.574        5  \n",
       "4    -7.842       0.0353    0.904  136.282        1  "
      ]
     },
     "execution_count": 38,
     "metadata": {},
     "output_type": "execute_result"
    }
   ],
   "source": [
    "complete_list_song_artist_features.head()"
   ]
  },
  {
   "cell_type": "markdown",
   "metadata": {},
   "source": [
    "## Running the final function"
   ]
  },
  {
   "cell_type": "code",
   "execution_count": 39,
   "metadata": {},
   "outputs": [],
   "source": [
    "#User inputs a song. If it's on the DF, it will return another one, if not it will search on Spotify.\n",
    "def input_song(df):\n",
    "    choice = input(\"Welcome to the Song Recommender Pro-9000. Tell me one song and I will recommend you another one:\\n\").lower()\n",
    "    \n",
    "    if choice in df.str.lower().values:\n",
    "        return 1\n",
    "    else:\n",
    "        return 0"
   ]
  },
  {
   "cell_type": "code",
   "execution_count": 41,
   "metadata": {},
   "outputs": [
    {
     "name": "stdout",
     "output_type": "stream",
     "text": [
      "Welcome to the Song Recommender Pro-9000. Tell me one song and I will recommend you another one:\n",
      "respect\n",
      "Wops, seems your song is not hot right now! Let me find you something else.\n",
      "Loading..\n",
      "Loading...\n",
      "Finally! Here's your perfect choice:\n",
      "'Beat Bop - Edit'\n"
     ]
    }
   ],
   "source": [
    "song = input_song(billboard_hot100[\"song\"])\n",
    "\n",
    "if song == 1:\n",
    "    suggestion = billboard_hot100.sample()\n",
    "    suggestion_song = suggestion[\"song\"].values.flatten()\n",
    "    suggestion_artist = suggestion[\"artist(s)\"].values.flatten()\n",
    "    suggestion_song = str(suggestion_song).lstrip(\"[\").rstrip(\"]\")\n",
    "    suggestion_artist = str(suggestion_artist).lstrip(\"[\").rstrip(\"]\")\n",
    "    \n",
    "    time.sleep(1.5)\n",
    "    print(\"Loading..\")\n",
    "    time.sleep(1.5)\n",
    "    print(\"Loading...\")\n",
    "    time.sleep(0.5)\n",
    "    print(\"We found something!\")\n",
    "    print(f\"Here's our recommedation: {suggestion_song} from {suggestion_artist}. What a hit!\")\n",
    "\n",
    "elif song == 0:\n",
    "    spoti_song = spotify.search(q=song)\n",
    "    song_features_spoti = pd.DataFrame(spotify.audio_features(spoti_song[\"tracks\"][\"items\"][0][\"uri\"]))\n",
    "    spoti_features = song_features_spoti[[\"danceability\", \"energy\", \"mode\", \"acousticness\", \"instrumentalness\", \"liveness\",\n",
    "                      \"loudness\", \"speechiness\", \"valence\", \"tempo\"]]\n",
    "    \n",
    "    features_spoti_scaled = scaler.transform(spoti_features)\n",
    "    spoti_cluster = kmeans.predict(features_spoti_scaled)\n",
    "    match_table_spoti_input = complete_list_song_artist_features[complete_list_song_artist_features[\"cluster\"] == int(spoti_cluster)][\"song\"]\n",
    "    spoti_suggestion = match_table_spoti_input.sample()\n",
    "    clean_suggestion = list(spoti_suggestion)\n",
    "    clean_suggestion_2 = str(clean_suggestion).lstrip(\"[\").rstrip(\"]\")\n",
    "    \n",
    "    \n",
    "    print(\"Wops, seems your song is not hot right now! Let me find you something else.\")\n",
    "    time.sleep(1.5)\n",
    "    print(\"Loading..\")\n",
    "    time.sleep(1.5)\n",
    "    print(\"Loading...\")\n",
    "    time.sleep(0.5)\n",
    "    print(\"Finally! Here's your perfect song:\")\n",
    "    print(clean_suggestion_2)"
   ]
  }
 ],
 "metadata": {
  "kernelspec": {
   "display_name": "Python 3",
   "language": "python",
   "name": "python3"
  },
  "language_info": {
   "codemirror_mode": {
    "name": "ipython",
    "version": 3
   },
   "file_extension": ".py",
   "mimetype": "text/x-python",
   "name": "python",
   "nbconvert_exporter": "python",
   "pygments_lexer": "ipython3",
   "version": "3.8.3"
  }
 },
 "nbformat": 4,
 "nbformat_minor": 4
}
