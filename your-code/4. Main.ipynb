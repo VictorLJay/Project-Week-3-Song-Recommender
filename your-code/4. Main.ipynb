{
 "cells": [
  {
   "cell_type": "markdown",
   "metadata": {},
   "source": [
    "# Final Model"
   ]
  },
  {
   "cell_type": "markdown",
   "metadata": {},
   "source": [
    "## Libraries"
   ]
  },
  {
   "cell_type": "code",
   "execution_count": 2,
   "metadata": {},
   "outputs": [],
   "source": [
    "# main\n",
    "import pandas as pd\n",
    "import numpy as np\n",
    "import time\n",
    "\n",
    "# spotify\n",
    "import spotipy\n",
    "from spotipy.oauth2 import SpotifyClientCredentials\n",
    "\n",
    "# sklearn\n",
    "from sklearn.preprocessing import StandardScaler\n",
    "from sklearn.cluster import KMeans"
   ]
  },
  {
   "cell_type": "markdown",
   "metadata": {},
   "source": [
    "## Setting everything for running the model"
   ]
  },
  {
   "cell_type": "markdown",
   "metadata": {},
   "source": [
    "### Spotify API"
   ]
  },
  {
   "cell_type": "code",
   "execution_count": 3,
   "metadata": {},
   "outputs": [],
   "source": [
    "credentials = []\n",
    "\n",
    "with open(\"spotify_credentials.txt\", \"r\") as spotify:\n",
    "    for line in spotify:\n",
    "        line = line.rstrip(\"\\n\")\n",
    "        credentials.append(line)\n",
    "        \n",
    "#Initialize SpotiPy with user credentias\n",
    "spotify = spotipy.Spotify(client_credentials_manager=SpotifyClientCredentials(\n",
    "    client_id = credentials[0],\n",
    "    client_secret = credentials[1]))"
   ]
  },
  {
   "cell_type": "markdown",
   "metadata": {},
   "source": [
    "### Scaler"
   ]
  },
  {
   "cell_type": "code",
   "execution_count": 4,
   "metadata": {},
   "outputs": [],
   "source": [
    "spotify_playlist = pd.read_csv(\"../data/spotify_playlist.csv\")\n",
    "final_list = spotify_playlist.iloc[:, 2:]"
   ]
  },
  {
   "cell_type": "code",
   "execution_count": 5,
   "metadata": {},
   "outputs": [],
   "source": [
    "# initilazing the scaler\n",
    "scaler = StandardScaler()\n",
    "\n",
    "# scaling the playlist\n",
    "playlist_scaled = scaler.fit_transform(final_list)"
   ]
  },
  {
   "cell_type": "markdown",
   "metadata": {},
   "source": [
    "### KMeans"
   ]
  },
  {
   "cell_type": "code",
   "execution_count": 6,
   "metadata": {},
   "outputs": [
    {
     "data": {
      "text/plain": [
       "KMeans(n_clusters=7, random_state=42)"
      ]
     },
     "execution_count": 6,
     "metadata": {},
     "output_type": "execute_result"
    }
   ],
   "source": [
    "# intilize the model\n",
    "kmeans = KMeans(n_clusters=7, random_state=42)\n",
    "\n",
    "# fit the model\n",
    "kmeans.fit(playlist_scaled)"
   ]
  },
  {
   "cell_type": "markdown",
   "metadata": {},
   "source": [
    "## Running the Final Model"
   ]
  },
  {
   "cell_type": "markdown",
   "metadata": {},
   "source": [
    "### Loading the CSV Files"
   ]
  },
  {
   "cell_type": "code",
   "execution_count": 7,
   "metadata": {},
   "outputs": [],
   "source": [
    "billboard = pd.read_csv(\"../data/billboard100.csv\")\n",
    "playlist = pd.read_csv(\"../data/playlist_with_clusters.csv\")"
   ]
  },
  {
   "cell_type": "markdown",
   "metadata": {},
   "source": [
    "### Testing the Model"
   ]
  },
  {
   "cell_type": "code",
   "execution_count": 8,
   "metadata": {},
   "outputs": [],
   "source": [
    "#User inputs a song. If it's on the DF, it will return another one, if not it will search on Spotify.\n",
    "def input_song(df):\n",
    "    choice = input(\"Welcome to the Song Recommender Pro-9000. Tell me one song and I will recommend you another one:\\n\").lower()\n",
    "    \n",
    "    if choice in df.str.lower().values:\n",
    "        return 1, choice\n",
    "    else:\n",
    "        return 0, choice"
   ]
  },
  {
   "cell_type": "code",
   "execution_count": 9,
   "metadata": {},
   "outputs": [
    {
     "name": "stdin",
     "output_type": "stream",
     "text": [
      "Welcome to the Song Recommender Pro-9000. Tell me one song and I will recommend you another one:\n",
      " Danza Kuduro\n"
     ]
    },
    {
     "name": "stdout",
     "output_type": "stream",
     "text": [
      "Danza Kuduro  -  Don Omar\n",
      "Wops, seems your song is not hot right now! Let me find you something else.\n",
      "\n",
      "Loading..\n",
      "Loading...\n",
      "\n",
      "Finally! Here's your perfect song:\n",
      "\n",
      "'All Day'\n",
      "\n"
     ]
    },
    {
     "name": "stdin",
     "output_type": "stream",
     "text": [
      "Do you want to predict another song? y/n:  y\n"
     ]
    },
    {
     "name": "stdout",
     "output_type": "stream",
     "text": [
      "Here's another recommendation:\n",
      "\n"
     ]
    },
    {
     "ename": "NameError",
     "evalue": "name 'match_table_spoti_input' is not defined",
     "output_type": "error",
     "traceback": [
      "\u001b[0;31m---------------------------------------------------------------------------\u001b[0m",
      "\u001b[0;31mNameError\u001b[0m                                 Traceback (most recent call last)",
      "\u001b[0;32m<ipython-input-9-e73daf82640a>\u001b[0m in \u001b[0;36m<module>\u001b[0;34m\u001b[0m\n\u001b[1;32m     49\u001b[0m         \u001b[0;32mif\u001b[0m \u001b[0mredo\u001b[0m \u001b[0;34m==\u001b[0m \u001b[0;34m\"y\"\u001b[0m\u001b[0;34m:\u001b[0m\u001b[0;34m\u001b[0m\u001b[0;34m\u001b[0m\u001b[0m\n\u001b[1;32m     50\u001b[0m             \u001b[0mprint\u001b[0m\u001b[0;34m(\u001b[0m\u001b[0;34m\"Here's another recommendation:\\n\"\u001b[0m\u001b[0;34m)\u001b[0m\u001b[0;34m\u001b[0m\u001b[0;34m\u001b[0m\u001b[0m\n\u001b[0;32m---> 51\u001b[0;31m             \u001b[0mspoti_suggestion\u001b[0m \u001b[0;34m=\u001b[0m \u001b[0mmatch_table_spoti_input\u001b[0m\u001b[0;34m.\u001b[0m\u001b[0msample\u001b[0m\u001b[0;34m(\u001b[0m\u001b[0;34m)\u001b[0m\u001b[0;34m\u001b[0m\u001b[0;34m\u001b[0m\u001b[0m\n\u001b[0m\u001b[1;32m     52\u001b[0m             \u001b[0mclean_suggestion\u001b[0m \u001b[0;34m=\u001b[0m \u001b[0mlist\u001b[0m\u001b[0;34m(\u001b[0m\u001b[0mspoti_suggestion\u001b[0m\u001b[0;34m)\u001b[0m\u001b[0;34m\u001b[0m\u001b[0;34m\u001b[0m\u001b[0m\n\u001b[1;32m     53\u001b[0m             \u001b[0mclean_suggestion_2\u001b[0m \u001b[0;34m=\u001b[0m \u001b[0mstr\u001b[0m\u001b[0;34m(\u001b[0m\u001b[0mclean_suggestion\u001b[0m\u001b[0;34m)\u001b[0m\u001b[0;34m.\u001b[0m\u001b[0mlstrip\u001b[0m\u001b[0;34m(\u001b[0m\u001b[0;34m\"[\"\u001b[0m\u001b[0;34m)\u001b[0m\u001b[0;34m.\u001b[0m\u001b[0mrstrip\u001b[0m\u001b[0;34m(\u001b[0m\u001b[0;34m\"]\"\u001b[0m\u001b[0;34m)\u001b[0m\u001b[0;34m\u001b[0m\u001b[0;34m\u001b[0m\u001b[0m\n",
      "\u001b[0;31mNameError\u001b[0m: name 'match_table_spoti_input' is not defined"
     ]
    }
   ],
   "source": [
    "song, choice = input_song(billboard[\"song\"])\n",
    "\n",
    "if song == 1:\n",
    "    suggestion = billboard.sample()\n",
    "    suggestion_song = suggestion[\"song\"].values.flatten()\n",
    "    suggestion_artist = suggestion[\"artist(s)\"].values.flatten()\n",
    "    suggestion_song = str(suggestion_song).lstrip(\"[\").rstrip(\"]\")\n",
    "    suggestion_artist = str(suggestion_artist).lstrip(\"[\").rstrip(\"]\")\n",
    "\n",
    "    time.sleep(1.5)\n",
    "    print(\"\\nLoading..\")\n",
    "    time.sleep(1.5)\n",
    "    print(\"Loading...\\n\")\n",
    "    time.sleep(0.5)\n",
    "    print(\"We found something!\\n\")\n",
    "    print(f\"Here's our recommedation: {suggestion_song} from {suggestion_artist}. What a hit!\")\n",
    "\n",
    "elif song == 0:\n",
    "    spoti_song = spotify.search(q=choice)\n",
    "        \n",
    "    print(spoti_song[\"tracks\"][\"items\"][0][\"name\"], \" - \", spoti_song[\"tracks\"][\"items\"][0][\"artists\"][0][\"name\"])\n",
    "    song_features_spoti = pd.DataFrame(spotify.audio_features(spoti_song[\"tracks\"][\"items\"][0][\"uri\"]))\n",
    "    spoti_features = song_features_spoti[[\"danceability\", \"energy\", \"mode\", \"acousticness\", \"instrumentalness\", \"liveness\",\n",
    "                          \"loudness\", \"speechiness\", \"valence\", \"tempo\"]]\n",
    "\n",
    "    features_spoti_scaled = scaler.transform(spoti_features)\n",
    "    spoti_cluster = kmeans.predict(features_spoti_scaled)\n",
    "    match_song = playlist[playlist[\"cluster\"] == int(spoti_cluster)][\"song\"]\n",
    "    \n",
    "    song_suggestion = match_song.sample()\n",
    "\n",
    "    clean_song = list(song_suggestion)\n",
    "    clean_song_2 = str(clean_song).lstrip(\"[\").rstrip(\"]\")    \n",
    "\n",
    "    print(\"Wops, seems your song is not hot right now! Let me find you something else.\\n\")\n",
    "\n",
    "    time.sleep(1.5)\n",
    "    print(\"Loading..\")\n",
    "    time.sleep(1.5)\n",
    "    print(\"Loading...\\n\")\n",
    "    time.sleep(0.5)\n",
    "\n",
    "    print(\"Finally! Here's your perfect song:\\n\")\n",
    "    print(f\"{clean_song_2}\\n\")\n"
   ]
  },
  {
   "cell_type": "code",
   "execution_count": null,
   "metadata": {},
   "outputs": [],
   "source": []
  }
 ],
 "metadata": {
  "kernelspec": {
   "display_name": "Python 3",
   "language": "python",
   "name": "python3"
  },
  "language_info": {
   "codemirror_mode": {
    "name": "ipython",
    "version": 3
   },
   "file_extension": ".py",
   "mimetype": "text/x-python",
   "name": "python",
   "nbconvert_exporter": "python",
   "pygments_lexer": "ipython3",
   "version": "3.8.5"
  }
 },
 "nbformat": 4,
 "nbformat_minor": 4
}
